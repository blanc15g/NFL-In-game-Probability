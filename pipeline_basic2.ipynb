{
 "cells": [
  {
   "cell_type": "code",
   "execution_count": 116,
   "metadata": {
    "collapsed": true
   },
   "outputs": [],
   "source": [
    "import csv\n",
    "import numpy as np\n",
    "import collections\n",
    "import matplotlib.mlab as mlab\n",
    "import matplotlib.pyplot as plt\n",
    "import functools\n",
    "from matplotlib import pylab\n",
    "import math\n",
    "%matplotlib inline"
   ]
  },
  {
   "cell_type": "code",
   "execution_count": 117,
   "metadata": {
    "collapsed": false
   },
   "outputs": [
    {
     "name": "stdout",
     "output_type": "stream",
     "text": [
      "0\n"
     ]
    }
   ],
   "source": [
    "data = []\n",
    "counter = 0\n",
    "with open('train_data.csv', 'r') as f:\n",
    "    reader = csv.DictReader(f)\n",
    "    for i,row in enumerate(reader):\n",
    "        if not row['off'] and not row['def']:\n",
    "            print(i, row)\n",
    "            counter += 1\n",
    "        data.append(row)\n",
    "print(counter)"
   ]
  },
  {
   "cell_type": "code",
   "execution_count": 118,
   "metadata": {
    "collapsed": false
   },
   "outputs": [],
   "source": [
    "grouped_by_game = collections.defaultdict(list)\n",
    "for line in data:\n",
    "    grouped_by_game[line['gameid']].append(line)\n",
    "grouped_by_game = list(grouped_by_game.values())"
   ]
  },
  {
   "cell_type": "code",
   "execution_count": 119,
   "metadata": {
    "collapsed": true
   },
   "outputs": [],
   "source": [
    "for game in grouped_by_game:\n",
    "    for play_dict in game:\n",
    "        for key in play_dict:\n",
    "            try:\n",
    "                play_dict[key] = int(play_dict[key])\n",
    "            except:\n",
    "                pass"
   ]
  },
  {
   "cell_type": "code",
   "execution_count": 120,
   "metadata": {
    "collapsed": false
   },
   "outputs": [],
   "source": [
    "for game in grouped_by_game:\n",
    "    game.sort(key = lambda x: -int(x['time']))"
   ]
  },
  {
   "cell_type": "code",
   "execution_count": 121,
   "metadata": {
    "collapsed": false
   },
   "outputs": [],
   "source": [
    "if 0:\n",
    "    total_average_yardage = []\n",
    "    moving_average = []\n",
    "    num_plays_before_calc = 3\n",
    "    for game in grouped_by_game:\n",
    "        num_total_yards = (0, 0)\n",
    "        num_plays = (0, 0)\n",
    "        yard_per_play=[]\n",
    "        first_team_yards=0\n",
    "        first_team_plays=0\n",
    "        second_team_yards=0\n",
    "        second_team_plays=0\n",
    "\n",
    "        for i in range(len(game)-1):\n",
    "            play_dict = game[i]\n",
    "            alph_first_team = play_dict['off'] if play_dict['off']<play_dict['def'] else play_dict['def']\n",
    "            next_play_dict = game[i+1]\n",
    "            if next_play_dict['down'] is not None and play_dict['down'] is not None and play_dict['ydline'] !='' and next_play_dict['ydline'] !='' and next_play_dict['off']==play_dict['off'] and next_play_dict['description'].find('punt')==-1:\n",
    "                progress = play_dict['ydline']-next_play_dict['ydline']\n",
    "                if play_dict['off']==alph_first_team:\n",
    "                    first_team_yards+=progress\n",
    "                    first_team_plays+=1\n",
    "                    if first_team_plays>num_plays_before_calc:\n",
    "                        moving_average.append(first_team_yards/first_team_plays)\n",
    "                else:\n",
    "                    second_team_yards+=progress\n",
    "                    second_team_plays+=1\n",
    "                    if second_team_plays>num_plays_before_calc:\n",
    "                        moving_average.append(second_team_yards/second_team_plays)\n",
    "                yard_per_play.append(progress)\n",
    "\n",
    "        total_average_yardage.append(first_team_yards/first_team_plays)\n",
    "        total_average_yardage.append(second_team_yards/second_team_plays)"
   ]
  },
  {
   "cell_type": "code",
   "execution_count": 122,
   "metadata": {
    "collapsed": false
   },
   "outputs": [],
   "source": [
    "if 0:\n",
    "    total_average_yardage = np.array(total_average_yardage).reshape(len(total_average_yardage), 1)\n",
    "    moving_average = np.array(moving_average).reshape(len(moving_average), 1)"
   ]
  },
  {
   "cell_type": "code",
   "execution_count": 123,
   "metadata": {
    "collapsed": false,
    "scrolled": true
   },
   "outputs": [],
   "source": [
    "if 0:\n",
    "    plt.hist(moving_average, 100)\n",
    "    plt.show()"
   ]
  },
  {
   "cell_type": "code",
   "execution_count": 124,
   "metadata": {
    "collapsed": true
   },
   "outputs": [],
   "source": [
    "if 0:\n",
    "    for i,game in enumerate(grouped_by_game):\n",
    "        first_team_yards=0.0\n",
    "        first_team_plays=0.0\n",
    "        second_team_yards=0.0\n",
    "        second_team_plays=0.0\n",
    "        for j,play_dict in enumerate(game):\n",
    "            if j < len(game)-1:\n",
    "                alph_first_team = play_dict['off'] if play_dict['off']<play_dict['def'] else play_dict['def']\n",
    "                next_play_dict = game[j+1]\n",
    "                if next_play_dict['down'] is not None and play_dict['down'] is not None and play_dict['ydline'] !='' and next_play_dict['ydline'] !='' and next_play_dict['off']==play_dict['off'] and next_play_dict['description'].find('punt')==-1:\n",
    "                    progress = play_dict['ydline']-next_play_dict['ydline']\n",
    "                    if play_dict['off']==alph_first_team:\n",
    "                        first_team_yards+=progress\n",
    "                        first_team_plays+=1\n",
    "                        play_dict['avg_yards'] = first_team_yards/first_team_plays\n",
    "                        play_dict['num_plays_exec'] = first_team_plays\n",
    "                    else:\n",
    "                        second_team_yards+=progress\n",
    "                        second_team_plays+=1\n",
    "                        play_dict['avg_yards'] = second_team_yards/second_team_plays \n",
    "                        play_dict['num_plays_exec'] = second_team_plays\n",
    "                else: #if yards didn't change/it was not a standard play (i.e. field goal)\n",
    "                    if play_dict['off']==alph_first_team and first_team_plays>0:\n",
    "                        play_dict['avg_yards'] = first_team_yards/first_team_plays\n",
    "                        play_dict['num_plays_exec'] = first_team_plays\n",
    "                    elif second_team_plays>0:\n",
    "                        play_dict['avg_yards'] = second_team_yards/second_team_plays\n",
    "                        play_dict['num_plays_exec'] = second_team_plays"
   ]
  },
  {
   "cell_type": "code",
   "execution_count": 125,
   "metadata": {
    "collapsed": true
   },
   "outputs": [],
   "source": [
    "if 0:    \n",
    "    twenty_perecentile = np.percentile(moving_average, 20)\n",
    "    forty_percentile = np.percentile(moving_average, 40)\n",
    "    sixty_percentile = np.percentile(moving_average, 60)\n",
    "    eighty_percentile = np.percentile(moving_average, 80)"
   ]
  },
  {
   "cell_type": "code",
   "execution_count": 126,
   "metadata": {
    "collapsed": false
   },
   "outputs": [],
   "source": [
    "def put_into_bucket(play_dict):\n",
    "    yard = play_dict['ydline'] // 50\n",
    "    down = play_dict['down']\n",
    "    #if play_dict['togo'] <= 5:\n",
    "    #    togo = 0\n",
    "    if play_dict['togo'] <= 10:\n",
    "        togo = 1\n",
    "    else:\n",
    "        togo = 2\n",
    "    '''if play_dict['togo'] <= 2:\n",
    "        togo = 0\n",
    "    elif play_dict['togo'] <= 4:\n",
    "        togo = 1\n",
    "    elif play_dict['togo'] <= 6:\n",
    "        togo = 2\n",
    "    elif play_dict['togo'] <= 8:\n",
    "        togo = 3\n",
    "    elif play_dict['togo'] <= 10:\n",
    "        togo = 4\n",
    "    elif play_dict['togo'] <= 15:\n",
    "        togo = 5\n",
    "    elif play_dict['togo'] <= 20:\n",
    "        togo = 6\n",
    "    else:\n",
    "        togo = 7'''\n",
    "    #average yardage\n",
    "    '''\n",
    "    if play_dict['avg_yards'] <= twenty_perecentile:\n",
    "        avg_yards = 1\n",
    "    elif play_dict['avg_yards'] <= forty_percentile:\n",
    "        avg_yards = 2\n",
    "    elif play_dict['avg_yards'] <= sixty_percentile:\n",
    "        avg_yards = 3\n",
    "    elif play_dict['avg_yards'] <= eighty_percentile:\n",
    "        avg_yards = 4\n",
    "    else:\n",
    "        avg_yards = 5\n",
    "    '''\n",
    "    if play_dict['off'] < play_dict['def']:\n",
    "        posession = 1\n",
    "    else:\n",
    "        posession = 0\n",
    "    #return (1, 1, 1, posession)\n",
    "    return (yard,down,togo, posession)\n",
    "    #return (yard, down, togo, avg_yards, posession)"
   ]
  },
  {
   "cell_type": "code",
   "execution_count": 127,
   "metadata": {
    "collapsed": true
   },
   "outputs": [],
   "source": [
    "def group_by_score_change(game, original_scores = None):\n",
    "    if not game:\n",
    "        return []\n",
    "    if original_scores is None:\n",
    "        original_scores = collections.defaultdict(int)\n",
    "    changed_team = None\n",
    "    changed_score = None\n",
    "    for i, play in enumerate(game):\n",
    "        if original_scores[play['off']] != play['offscore']:\n",
    "            changed_team = play['off']\n",
    "            changed_score = play['offscore'] - original_scores[changed_team]\n",
    "            break\n",
    "        if original_scores[play['def']] != play['defscore']:\n",
    "            changed_team = play['def']\n",
    "            changed_score = play['defscore'] - original_scores[changed_team]\n",
    "            break     \n",
    "    \n",
    "    if changed_team is None:\n",
    "        return [('', 0,game)]\n",
    "    \n",
    "    new_scores = collections.defaultdict(int)\n",
    "    new_scores[play['off']] = play['offscore']\n",
    "    new_scores[play['def']] = play['defscore']\n",
    "    return [(changed_team, changed_score, game[:i+1])] + group_by_score_change(game[i+1:], new_scores)    "
   ]
  },
  {
   "cell_type": "code",
   "execution_count": 128,
   "metadata": {
    "collapsed": false
   },
   "outputs": [],
   "source": [
    "def bucketable(play):\n",
    "    if not play['down']:\n",
    "        return False\n",
    "    if play['down'] < 1:\n",
    "        return False\n",
    "    if play['down'] > 4:\n",
    "        return False\n",
    "    if not play['togo']:\n",
    "        return False\n",
    "    if play['togo'] < 1:\n",
    "        return False\n",
    "    if not play['ydline']:\n",
    "        return False\n",
    "    if play['ydline'] < 1:\n",
    "        return False\n",
    "    if not play['off'] or not play['def']:\n",
    "        return False\n",
    "    \n",
    "    #if 'num_plays_exec' not in play or play['num_plays_exec'] <= 3:\n",
    "    #    return False\n",
    "    \n",
    "    return True\n",
    "    \n"
   ]
  },
  {
   "cell_type": "code",
   "execution_count": 129,
   "metadata": {
    "collapsed": false
   },
   "outputs": [],
   "source": [
    "def possession(play):\n",
    "    if play_dict['off'] < play_dict['def']:\n",
    "        return 1\n",
    "    else:\n",
    "        return 0\n",
    "\n",
    "def bucket_group(group):\n",
    "    global test\n",
    "    test = group\n",
    "    team, diff, group = group\n",
    "    answer = []\n",
    "    teams = set()\n",
    "\n",
    "    for play in group:\n",
    "        teams.add(play['off'])\n",
    "        teams.add(play['def'])\n",
    "    if '' in teams:\n",
    "        teams.remove('')\n",
    "    if team:\n",
    "        #print(teams)\n",
    "        pos = 1 - sorted(teams).index(team)\n",
    "    \n",
    "    if diff != 0:\n",
    "        group2 = group[:-1]\n",
    "    else:\n",
    "        group2 = group\n",
    "    for i, play in enumerate(group2):\n",
    "        if play['time'] in (1800, 3600):\n",
    "            if i == 0 or group2[i-1]['time'] in (1800, 3600):\n",
    "                answer.append([6])\n",
    "        if bucketable(play):\n",
    "            answer.append(put_into_bucket(play))\n",
    "        else:\n",
    "            answer.append([6])\n",
    "            \n",
    "    \n",
    "        \n",
    "    if team:\n",
    "\n",
    "        if answer and answer[-1] == [6]:\n",
    "            answer = answer[:-1]\n",
    "        if diff == 2:\n",
    "            answer.append([1, pos])\n",
    "            answer.append([5, 1-pos])\n",
    "        elif diff == 3:\n",
    "            answer.append([0, pos])\n",
    "            answer.append([5, pos])\n",
    "        elif diff == 6:\n",
    "            answer.append([2, pos])\n",
    "            answer.append([5, pos])\n",
    "        elif diff == 7:\n",
    "            answer.append([2, pos])\n",
    "            answer.append([3, pos])\n",
    "            answer.append([5, pos])\n",
    "        elif diff == 8:\n",
    "            answer.append([2, pos])\n",
    "            answer.append([4, pos])\n",
    "            answer.append([5, pos])\n",
    "        elif diff != 0:\n",
    "            answer.append([6])\n",
    "        '''\n",
    "        play_dict = group[-1]\n",
    "        if 'avg_yards' in play_dict:\n",
    "            if play_dict['avg_yards'] <= twenty_perecentile:\n",
    "                avg_yards = 1\n",
    "            elif play_dict['avg_yards'] <= forty_percentile:\n",
    "                avg_yards = 2\n",
    "            elif play_dict['avg_yards'] <= sixty_percentile:\n",
    "                avg_yards = 3\n",
    "            elif play_dict['avg_yards'] <= eighty_percentile:\n",
    "                avg_yards = 4\n",
    "            else:\n",
    "                avg_yards = 5\n",
    "            if answer and answer[-1] == [6]:\n",
    "                answer = answer[:-1]\n",
    "            if diff == 2:\n",
    "                answer.append([1, avg_yards, pos])\n",
    "                answer.append([5, avg_yards, 1-pos])\n",
    "            elif diff == 3:\n",
    "                answer.append([0, avg_yards, pos])\n",
    "                answer.append([5, avg_yards, pos])\n",
    "            elif diff == 6:\n",
    "                answer.append([2, avg_yards, pos])\n",
    "                answer.append([5, avg_yards, pos])\n",
    "            elif diff == 7:\n",
    "                answer.append([2, avg_yards, pos])\n",
    "                answer.append([3, avg_yards, pos])\n",
    "                answer.append([5, avg_yards, pos])\n",
    "            elif diff == 8:\n",
    "                answer.append([2, avg_yards, pos])\n",
    "                answer.append([4, avg_yards, pos])\n",
    "                answer.append([5, avg_yards, pos])\n",
    "            elif diff != 0:\n",
    "                answer.append([6])'''\n",
    "    return answer\n",
    "        "
   ]
  },
  {
   "cell_type": "code",
   "execution_count": 130,
   "metadata": {
    "collapsed": false
   },
   "outputs": [],
   "source": [
    "def bucket_game(game):\n",
    "    grouped = group_by_score_change(game)\n",
    "    answer = []\n",
    "    for group in grouped:\n",
    "        answer += bucket_group(group)\n",
    "    return answer\n",
    "        \n"
   ]
  },
  {
   "cell_type": "code",
   "execution_count": 131,
   "metadata": {
    "collapsed": false
   },
   "outputs": [
    {
     "data": {
      "text/plain": [
       "[(1, 1, 1, 1),\n",
       " (1, 2, 1, 1),\n",
       " (1, 3, 1, 1),\n",
       " (1, 1, 1, 1),\n",
       " (1, 2, 1, 1),\n",
       " (1, 3, 2, 1),\n",
       " (1, 4, 2, 1),\n",
       " (1, 1, 1, 0),\n",
       " (1, 2, 1, 0),\n",
       " (1, 2, 1, 0),\n",
       " (1, 1, 1, 0),\n",
       " (1, 2, 1, 0),\n",
       " (1, 3, 1, 0),\n",
       " (1, 4, 1, 0),\n",
       " (1, 4, 2, 0),\n",
       " (1, 1, 1, 1),\n",
       " (1, 1, 1, 1),\n",
       " (1, 2, 1, 1),\n",
       " (1, 3, 1, 1),\n",
       " (0, 1, 1, 1),\n",
       " (0, 2, 1, 1),\n",
       " (0, 3, 1, 1),\n",
       " (0, 1, 1, 1),\n",
       " (0, 1, 1, 1),\n",
       " [2, 1],\n",
       " [3, 1],\n",
       " [5, 1],\n",
       " (1, 1, 1, 0),\n",
       " (1, 2, 1, 0),\n",
       " (1, 3, 1, 0),\n",
       " (1, 4, 1, 0),\n",
       " (1, 1, 1, 1),\n",
       " (1, 2, 1, 1),\n",
       " (1, 3, 1, 1),\n",
       " (1, 1, 1, 1),\n",
       " (1, 1, 2, 1),\n",
       " (1, 2, 2, 1),\n",
       " (1, 2, 2, 1),\n",
       " (1, 3, 1, 1),\n",
       " (1, 1, 1, 1),\n",
       " (1, 2, 1, 1),\n",
       " (0, 1, 1, 1),\n",
       " (0, 1, 1, 1),\n",
       " (0, 2, 1, 1),\n",
       " (1, 1, 1, 0),\n",
       " (1, 2, 1, 0),\n",
       " (1, 3, 1, 0),\n",
       " (1, 3, 2, 0),\n",
       " (1, 4, 2, 0),\n",
       " (1, 1, 1, 1),\n",
       " (1, 2, 1, 1),\n",
       " (0, 1, 1, 1),\n",
       " (0, 1, 2, 1),\n",
       " (0, 1, 2, 1),\n",
       " (0, 2, 2, 1),\n",
       " (0, 3, 2, 1),\n",
       " (0, 4, 2, 1),\n",
       " (1, 1, 1, 0),\n",
       " (1, 1, 1, 0),\n",
       " (1, 2, 1, 0),\n",
       " (1, 3, 1, 0),\n",
       " (0, 4, 1, 0),\n",
       " (1, 1, 1, 1),\n",
       " (1, 2, 2, 1),\n",
       " (1, 3, 1, 1),\n",
       " [2, 1],\n",
       " [3, 1],\n",
       " [5, 1],\n",
       " (1, 1, 1, 0),\n",
       " (1, 2, 1, 0),\n",
       " (1, 4, 1, 0),\n",
       " (1, 1, 1, 1),\n",
       " (0, 1, 1, 1),\n",
       " (1, 1, 1, 0),\n",
       " (0, 1, 1, 0),\n",
       " (0, 2, 1, 0),\n",
       " (0, 3, 1, 0),\n",
       " (0, 1, 1, 0),\n",
       " (0, 2, 1, 0),\n",
       " [6],\n",
       " (1, 1, 1, 0),\n",
       " (1, 2, 1, 0),\n",
       " (1, 3, 1, 0),\n",
       " (1, 4, 1, 0),\n",
       " (1, 1, 1, 1),\n",
       " (1, 2, 2, 1),\n",
       " (1, 3, 2, 1),\n",
       " (0, 4, 2, 1),\n",
       " (1, 1, 1, 0),\n",
       " (1, 2, 1, 0),\n",
       " (1, 3, 1, 0),\n",
       " (1, 1, 1, 0),\n",
       " (1, 1, 2, 0),\n",
       " (1, 2, 2, 0),\n",
       " (1, 3, 2, 0),\n",
       " (1, 4, 2, 0),\n",
       " (1, 1, 1, 1),\n",
       " (1, 2, 2, 1),\n",
       " (1, 3, 1, 1),\n",
       " (1, 1, 1, 1),\n",
       " (1, 2, 2, 1),\n",
       " (1, 3, 2, 1),\n",
       " (1, 4, 1, 1),\n",
       " (1, 1, 1, 0),\n",
       " (1, 2, 1, 0),\n",
       " (1, 3, 1, 0),\n",
       " (1, 1, 1, 0),\n",
       " (1, 2, 1, 0),\n",
       " (1, 3, 2, 0),\n",
       " (1, 4, 1, 0),\n",
       " (1, 1, 1, 1),\n",
       " (1, 1, 1, 1),\n",
       " (1, 1, 2, 1),\n",
       " (1, 1, 2, 1),\n",
       " (1, 2, 2, 1),\n",
       " (1, 3, 2, 1),\n",
       " (1, 4, 2, 1),\n",
       " (1, 1, 1, 0),\n",
       " (1, 1, 1, 0),\n",
       " (1, 2, 1, 0),\n",
       " (1, 3, 1, 0),\n",
       " (1, 1, 1, 0),\n",
       " (1, 2, 1, 0),\n",
       " (1, 3, 1, 0),\n",
       " (0, 1, 1, 0),\n",
       " (0, 2, 1, 0),\n",
       " (0, 1, 1, 0),\n",
       " (0, 2, 1, 0),\n",
       " (0, 3, 1, 0),\n",
       " [2, 0],\n",
       " [3, 0],\n",
       " [5, 0],\n",
       " (1, 1, 1, 1),\n",
       " (1, 2, 1, 1),\n",
       " (1, 1, 1, 1),\n",
       " (1, 2, 1, 1),\n",
       " (1, 3, 1, 1),\n",
       " (1, 4, 1, 1),\n",
       " (1, 1, 1, 0),\n",
       " (1, 2, 1, 0),\n",
       " (1, 3, 1, 0),\n",
       " (1, 4, 1, 0),\n",
       " (1, 1, 1, 1),\n",
       " (1, 2, 1, 1),\n",
       " (1, 3, 1, 1),\n",
       " (1, 1, 1, 1),\n",
       " (1, 2, 1, 1),\n",
       " (1, 3, 1, 1),\n",
       " (1, 4, 1, 1),\n",
       " (1, 1, 1, 0),\n",
       " (1, 2, 1, 0),\n",
       " (1, 3, 1, 0),\n",
       " (0, 1, 1, 0),\n",
       " (1, 2, 2, 0),\n",
       " (0, 3, 1, 0),\n",
       " (1, 3, 2, 0),\n",
       " (1, 4, 2, 0),\n",
       " (0, 1, 1, 0),\n",
       " (0, 2, 1, 0),\n",
       " (0, 3, 1, 0),\n",
       " (0, 4, 1, 0),\n",
       " (1, 1, 1, 1)]"
      ]
     },
     "execution_count": 131,
     "metadata": {},
     "output_type": "execute_result"
    }
   ],
   "source": [
    "bucket_game(grouped_by_game[0])"
   ]
  },
  {
   "cell_type": "code",
   "execution_count": 132,
   "metadata": {
    "collapsed": false
   },
   "outputs": [],
   "source": [
    "bucket_sequence = []\n",
    "for game in grouped_by_game:\n",
    "    bucket_sequence += bucket_game(game)\n",
    "    bucket_sequence += [6]"
   ]
  },
  {
   "cell_type": "code",
   "execution_count": 133,
   "metadata": {
    "collapsed": false
   },
   "outputs": [
    {
     "data": {
      "text/plain": [
       "441183"
      ]
     },
     "execution_count": 133,
     "metadata": {},
     "output_type": "execute_result"
    }
   ],
   "source": [
    "buckets = bucket_sequence #glue scripts together\n",
    "len(buckets)"
   ]
  },
  {
   "cell_type": "code",
   "execution_count": 134,
   "metadata": {
    "collapsed": false
   },
   "outputs": [],
   "source": [
    "for i in range(len(buckets)):\n",
    "    if buckets[i] == 6:\n",
    "        buckets[i] = [6]\n",
    "    buckets[i] = list(buckets[i])"
   ]
  },
  {
   "cell_type": "code",
   "execution_count": 135,
   "metadata": {
    "collapsed": false
   },
   "outputs": [
    {
     "data": {
      "text/plain": [
       "[[1, 1, 1, 1],\n",
       " [1, 2, 1, 1],\n",
       " [1, 3, 1, 1],\n",
       " [1, 1, 1, 1],\n",
       " [1, 2, 1, 1],\n",
       " [1, 3, 2, 1],\n",
       " [1, 4, 2, 1],\n",
       " [1, 1, 1, 0],\n",
       " [1, 2, 1, 0],\n",
       " [1, 2, 1, 0],\n",
       " [1, 1, 1, 0],\n",
       " [1, 2, 1, 0],\n",
       " [1, 3, 1, 0],\n",
       " [1, 4, 1, 0],\n",
       " [1, 4, 2, 0],\n",
       " [1, 1, 1, 1],\n",
       " [1, 1, 1, 1],\n",
       " [1, 2, 1, 1],\n",
       " [1, 3, 1, 1],\n",
       " [0, 1, 1, 1],\n",
       " [0, 2, 1, 1],\n",
       " [0, 3, 1, 1],\n",
       " [0, 1, 1, 1],\n",
       " [0, 1, 1, 1],\n",
       " [2, 1],\n",
       " [3, 1],\n",
       " [5, 1],\n",
       " [1, 1, 1, 0],\n",
       " [1, 2, 1, 0],\n",
       " [1, 3, 1, 0],\n",
       " [1, 4, 1, 0],\n",
       " [1, 1, 1, 1],\n",
       " [1, 2, 1, 1],\n",
       " [1, 3, 1, 1],\n",
       " [1, 1, 1, 1],\n",
       " [1, 1, 2, 1],\n",
       " [1, 2, 2, 1],\n",
       " [1, 2, 2, 1],\n",
       " [1, 3, 1, 1],\n",
       " [1, 1, 1, 1],\n",
       " [1, 2, 1, 1],\n",
       " [0, 1, 1, 1],\n",
       " [0, 1, 1, 1],\n",
       " [0, 2, 1, 1],\n",
       " [1, 1, 1, 0],\n",
       " [1, 2, 1, 0],\n",
       " [1, 3, 1, 0],\n",
       " [1, 3, 2, 0],\n",
       " [1, 4, 2, 0],\n",
       " [1, 1, 1, 1],\n",
       " [1, 2, 1, 1],\n",
       " [0, 1, 1, 1],\n",
       " [0, 1, 2, 1],\n",
       " [0, 1, 2, 1],\n",
       " [0, 2, 2, 1],\n",
       " [0, 3, 2, 1],\n",
       " [0, 4, 2, 1],\n",
       " [1, 1, 1, 0],\n",
       " [1, 1, 1, 0],\n",
       " [1, 2, 1, 0],\n",
       " [1, 3, 1, 0],\n",
       " [0, 4, 1, 0],\n",
       " [1, 1, 1, 1],\n",
       " [1, 2, 2, 1],\n",
       " [1, 3, 1, 1],\n",
       " [2, 1],\n",
       " [3, 1],\n",
       " [5, 1],\n",
       " [1, 1, 1, 0],\n",
       " [1, 2, 1, 0],\n",
       " [1, 4, 1, 0],\n",
       " [1, 1, 1, 1],\n",
       " [0, 1, 1, 1],\n",
       " [1, 1, 1, 0],\n",
       " [0, 1, 1, 0],\n",
       " [0, 2, 1, 0],\n",
       " [0, 3, 1, 0],\n",
       " [0, 1, 1, 0],\n",
       " [0, 2, 1, 0],\n",
       " [6],\n",
       " [1, 1, 1, 0],\n",
       " [1, 2, 1, 0],\n",
       " [1, 3, 1, 0],\n",
       " [1, 4, 1, 0],\n",
       " [1, 1, 1, 1],\n",
       " [1, 2, 2, 1],\n",
       " [1, 3, 2, 1],\n",
       " [0, 4, 2, 1],\n",
       " [1, 1, 1, 0],\n",
       " [1, 2, 1, 0],\n",
       " [1, 3, 1, 0],\n",
       " [1, 1, 1, 0],\n",
       " [1, 1, 2, 0],\n",
       " [1, 2, 2, 0],\n",
       " [1, 3, 2, 0],\n",
       " [1, 4, 2, 0],\n",
       " [1, 1, 1, 1],\n",
       " [1, 2, 2, 1],\n",
       " [1, 3, 1, 1],\n",
       " [1, 1, 1, 1]]"
      ]
     },
     "execution_count": 135,
     "metadata": {},
     "output_type": "execute_result"
    }
   ],
   "source": [
    "buckets[:100]"
   ]
  },
  {
   "cell_type": "code",
   "execution_count": 136,
   "metadata": {
    "collapsed": false
   },
   "outputs": [
    {
     "data": {
      "text/plain": [
       "[1, 1, 1]"
      ]
     },
     "execution_count": 136,
     "metadata": {},
     "output_type": "execute_result"
    }
   ],
   "source": [
    "buckets[96][:-1]"
   ]
  },
  {
   "cell_type": "code",
   "execution_count": 137,
   "metadata": {
    "collapsed": false
   },
   "outputs": [],
   "source": [
    "counts = collections.defaultdict(collections.Counter)\n",
    "for i in range(len(buckets) - 1):\n",
    "    if buckets[i] != [6] and buckets[i+1] != [6]:\n",
    "        start = buckets[i][:-1]\n",
    "        end = buckets[i+1][:-1]\n",
    "        if buckets[i][-1] == buckets[i+1][-1]:\n",
    "            end.append(0)\n",
    "        else:\n",
    "            end.append(1)\n",
    "    \n",
    "        counts[tuple(start)][tuple(end)] += 1"
   ]
  },
  {
   "cell_type": "code",
   "execution_count": 138,
   "metadata": {
    "collapsed": false
   },
   "outputs": [
    {
     "name": "stdout",
     "output_type": "stream",
     "text": [
      "(1, 3, 2) (2, 4, 1, 1)\n",
      "(1, 3, 2) (2, 4, 2, 0)\n",
      "(1, 3, 1) (2, 4, 1, 1)\n",
      "(1, 3, 1) (2, 3, 1, 0)\n",
      "4\n"
     ]
    }
   ],
   "source": [
    "#remove states we can't support\n",
    "counter = 0\n",
    "updated = True\n",
    "while updated:\n",
    "    updated = False\n",
    "    for bucket_start in counts:\n",
    "        for bucket_end in counts[bucket_start]:\n",
    "            end = list(bucket_end)[:-1]\n",
    "            if tuple(end) not in counts and counts[bucket_start][bucket_end]:\n",
    "                print(bucket_start, bucket_end)\n",
    "                counts[bucket_start][bucket_end] = 0\n",
    "                counter += 1\n",
    "                updated = True\n",
    "    \n",
    "print(counter)"
   ]
  },
  {
   "cell_type": "code",
   "execution_count": 139,
   "metadata": {
    "collapsed": false
   },
   "outputs": [
    {
     "data": {
      "text/plain": [
       "[[1, 3, 1, 0], [0, 1, 1, 0], [0, 2, 1, 0], [0, 2, 2, 0], [0, 3, 2, 0]]"
      ]
     },
     "execution_count": 139,
     "metadata": {},
     "output_type": "execute_result"
    }
   ],
   "source": [
    "buckets[382455: 382460]"
   ]
  },
  {
   "cell_type": "code",
   "execution_count": 140,
   "metadata": {
    "collapsed": false
   },
   "outputs": [],
   "source": [
    "for bucket_start in counts:\n",
    "    if sum(counts[bucket_start].values()) == 0:\n",
    "        print(bucket_start)\n",
    "        raise Exception(\"Hit Guy up to fix\")"
   ]
  },
  {
   "cell_type": "code",
   "execution_count": 141,
   "metadata": {
    "collapsed": true
   },
   "outputs": [],
   "source": [
    "probabilities = collections.defaultdict(dict)\n",
    "for bucket_start in counts:\n",
    "    total = sum(counts[bucket_start].values())\n",
    "    for bucket_end in counts[bucket_start]:\n",
    "        if counts[bucket_start][bucket_end]:\n",
    "            probabilities[bucket_start][bucket_end] = counts[bucket_start][bucket_end] / total"
   ]
  },
  {
   "cell_type": "code",
   "execution_count": 142,
   "metadata": {
    "collapsed": false
   },
   "outputs": [
    {
     "data": {
      "text/plain": [
       "{}"
      ]
     },
     "execution_count": 142,
     "metadata": {},
     "output_type": "execute_result"
    }
   ],
   "source": [
    "probabilities[(8, 2, 2)]"
   ]
  },
  {
   "cell_type": "code",
   "execution_count": 143,
   "metadata": {
    "collapsed": false
   },
   "outputs": [
    {
     "name": "stdout",
     "output_type": "stream",
     "text": [
      "defaultdict(<class 'int'>, {(0, 1): -3, (2, 0): 6, (0, 0): 3, (3, 0): 1, (1, 0): 2, (3, 1): -1, (4, 1): -2, (1, 1): -2, (2, 1): -6, (4, 0): 2})\n"
     ]
    }
   ],
   "source": [
    "rewards = collections.defaultdict(int)\n",
    "rewards[(0,0)] = 3\n",
    "rewards[(1,0)] = 2\n",
    "rewards[(2,0)] = 6\n",
    "rewards[(3,0)] = 1\n",
    "rewards[(4,0)] = 2\n",
    "for pair in list(rewards.keys()):\n",
    "    rewards[(pair[0], 1-pair[1])] = -rewards[pair]\n",
    "print(rewards)"
   ]
  },
  {
   "cell_type": "code",
   "execution_count": 144,
   "metadata": {
    "collapsed": true
   },
   "outputs": [],
   "source": [
    "THRESHOLD = 10**-8\n",
    "\n",
    "@functools.lru_cache(maxsize = None)\n",
    "def predicted_score_difference(current_state, num_turns_left):\n",
    "    if num_turns_left == 0:\n",
    "        answer = collections.defaultdict(float)\n",
    "        answer[rewards[current_state]] = 1.0\n",
    "        return answer\n",
    "    \n",
    "    child_score_diffs = collections.defaultdict(float)\n",
    "    state,pos = current_state[:-1], current_state[-1]\n",
    "    for child_state in probabilities[state]:\n",
    "        p = probabilities[state][child_state]\n",
    "        #transition to child_state with probability p\n",
    "        \n",
    "        child_state = list(child_state)\n",
    "        child_state[-1] = (pos + child_state[-1]) % 2\n",
    "        child_state = tuple(child_state)\n",
    "        child_answer = predicted_score_difference(child_state, num_turns_left - 1)\n",
    "        for score_diff in child_answer:\n",
    "            child_score_diffs[score_diff] += p * child_answer[score_diff]\n",
    "    \n",
    "    answer = collections.defaultdict(float)\n",
    "    for score_diff in child_score_diffs:\n",
    "        if child_score_diffs[score_diff] > THRESHOLD:\n",
    "            answer[score_diff + rewards[current_state]] = child_score_diffs[score_diff]\n",
    "    return answer\n",
    "    "
   ]
  },
  {
   "cell_type": "code",
   "execution_count": 145,
   "metadata": {
    "collapsed": false
   },
   "outputs": [],
   "source": [
    "def compute_metrics_for_game(pdf, start_diff, end_diff):\n",
    "    actual_diff = end_diff - start_diff\n",
    "    #print(pdf, actual_diff)\n",
    "    metric2 = math.log(pdf[actual_diff])\n",
    "    expected_value = 0\n",
    "    pairs = []\n",
    "    for diff in pdf:\n",
    "        pairs.append([pdf[diff], diff])\n",
    "        expected_value += diff * pdf[diff]\n",
    "    metric1 = (expected_value - actual_diff) ** 2\n",
    "    pairs.sort(reverse = True)\n",
    "    metric3 = 0\n",
    "    for pair in pairs[:10]:\n",
    "        if pair[1] == actual_diff:\n",
    "            metric3 = 1\n",
    "    return (metric1, metric2, metric3)"
   ]
  },
  {
   "cell_type": "code",
   "execution_count": 146,
   "metadata": {
    "collapsed": true
   },
   "outputs": [],
   "source": [
    "test_data = []\n",
    "with open('formatted_test.csv') as f:\n",
    "    reader = csv.DictReader(f)\n",
    "    for line in reader:\n",
    "        test_data.append(line)"
   ]
  },
  {
   "cell_type": "code",
   "execution_count": 147,
   "metadata": {
    "collapsed": false
   },
   "outputs": [],
   "source": [
    "for row in test_data:\n",
    "    for feature in ('def_team_avg_yards', 'off_team_avg_yards'):\n",
    "        row[feature] = float(row[feature])\n",
    "    for feature in ('down', 'final_diff', 'third_diff', 'togo', 'yard_line'):\n",
    "        row[feature] = int(row[feature])\n",
    "    "
   ]
  },
  {
   "cell_type": "code",
   "execution_count": 148,
   "metadata": {
    "collapsed": true
   },
   "outputs": [],
   "source": [
    "def put_into_bucket_test(play_dict):\n",
    "    play_dict['ydline'] = play_dict['yard_line']\n",
    "    play_dict['off'] = 'a'\n",
    "    play_dict['def'] = 'a'\n",
    "    if play_dict['yard_line'] == -1 or play_dict['down'] == -1 or play_dict['togo'] == -1:\n",
    "        return (5,)\n",
    "    bucket = put_into_bucket(play_dict)\n",
    "    return bucket[:-1]\n",
    "    #return (yard, down, togo, avg_yards, posession)\n",
    "    \n"
   ]
  },
  {
   "cell_type": "code",
   "execution_count": 149,
   "metadata": {
    "collapsed": false
   },
   "outputs": [],
   "source": [
    "metrics = [0,0,0]\n",
    "for game in test_data:\n",
    "    start_bucket = tuple(list(put_into_bucket_test(game)) + [0])\n",
    "    \n",
    "    pdf = predicted_score_difference(start_bucket, 43)\n",
    "    for i, metric in enumerate(compute_metrics_for_game(pdf, game['third_diff'], game['final_diff'])):\n",
    "        metrics[i] += metric"
   ]
  },
  {
   "cell_type": "code",
   "execution_count": 150,
   "metadata": {
    "collapsed": false
   },
   "outputs": [
    {
     "data": {
      "text/plain": [
       "defaultdict(dict,\n",
       "            {(0,): {(5, 0): 1.0},\n",
       "             (0, 1, 1): {(0, 0): 0.002564790290676233,\n",
       "              (0, 1, 1, 0): 0.15024977369497436,\n",
       "              (0, 1, 1, 1): 0.002380393603111275,\n",
       "              (0, 1, 2, 0): 0.03055956013008348,\n",
       "              (0, 1, 2, 1): 3.352667046635599e-05,\n",
       "              (0, 2, 1, 0): 0.6511549937975659,\n",
       "              (0, 2, 1, 1): 0.00036879337512991586,\n",
       "              (0, 2, 2, 0): 0.06515908405136286,\n",
       "              (0, 2, 2, 1): 1.6763335233177994e-05,\n",
       "              (0, 3, 1, 0): 0.0007208234150266537,\n",
       "              (0, 3, 1, 1): 1.6763335233177994e-05,\n",
       "              (0, 3, 2, 0): 0.00015087001709860194,\n",
       "              (0, 4, 1, 0): 5.029000569953398e-05,\n",
       "              (1, 0): 1.6763335233177994e-05,\n",
       "              (1, 1, 1, 0): 0.0004693733865289838,\n",
       "              (1, 1, 1, 1): 0.016528648539913503,\n",
       "              (1, 1, 2, 0): 0.008616354309853488,\n",
       "              (1, 2, 1, 0): 0.0002514500284976699,\n",
       "              (1, 2, 1, 1): 0.0002179233580313139,\n",
       "              (1, 2, 2, 0): 0.008230797599490395,\n",
       "              (1, 2, 2, 1): 3.352667046635599e-05,\n",
       "              (1, 3, 1, 0): 3.352667046635599e-05,\n",
       "              (1, 3, 2, 0): 3.352667046635599e-05,\n",
       "              (1, 3, 2, 1): 1.6763335233177994e-05,\n",
       "              (1, 4, 1, 0): 1.6763335233177994e-05,\n",
       "              (1, 4, 1, 1): 3.352667046635599e-05,\n",
       "              (2, 0): 0.06187347034565997,\n",
       "              (2, 1): 0.00018439668756495793,\n",
       "              (2, 2, 1, 1): 1.6763335233177994e-05},\n",
       "             (0, 1, 2): {(0, 0): 0.003161222339304531,\n",
       "              (0, 1, 1, 0): 0.09062170706006323,\n",
       "              (0, 1, 1, 1): 0.004741833508956797,\n",
       "              (0, 1, 2, 0): 0.03898840885142255,\n",
       "              (0, 2, 1, 0): 0.2528977871443625,\n",
       "              (0, 2, 1, 1): 0.0005268703898840885,\n",
       "              (0, 2, 2, 0): 0.5363540569020021,\n",
       "              (0, 3, 1, 0): 0.001053740779768177,\n",
       "              (0, 3, 2, 0): 0.001053740779768177,\n",
       "              (1, 1, 1, 0): 0.001053740779768177,\n",
       "              (1, 1, 1, 1): 0.020021074815595362,\n",
       "              (1, 1, 2, 0): 0.009483667017913594,\n",
       "              (1, 2, 2, 0): 0.008956796628029505,\n",
       "              (2, 0): 0.03108535300316122},\n",
       "             (0, 2, 1): {(0, 0): 0.0027481964960494676,\n",
       "              (0, 1): 2.2901637467078896e-05,\n",
       "              (0, 1, 1, 0): 0.26162830642390933,\n",
       "              (0, 1, 1, 1): 0.0023588686591091263,\n",
       "              (0, 1, 2, 0): 6.870491240123669e-05,\n",
       "              (0, 2, 1, 0): 0.016305965876560174,\n",
       "              (0, 2, 2, 0): 0.025214702851253865,\n",
       "              (0, 2, 2, 1): 2.2901637467078896e-05,\n",
       "              (0, 3, 1, 0): 0.5522729875186075,\n",
       "              (0, 3, 1, 1): 0.0004809343868086568,\n",
       "              (0, 3, 2, 0): 0.03139814496736517,\n",
       "              (0, 4, 1, 0): 0.0005038360242757357,\n",
       "              (0, 4, 2, 0): 4.580327493415779e-05,\n",
       "              (0, 4, 2, 1): 2.2901637467078896e-05,\n",
       "              (1, 0): 2.2901637467078896e-05,\n",
       "              (1, 1, 1, 0): 0.0007557540364136036,\n",
       "              (1, 1, 1, 1): 0.015939539677086913,\n",
       "              (1, 2, 1, 0): 0.0011450818733539448,\n",
       "              (1, 2, 1, 1): 4.580327493415779e-05,\n",
       "              (1, 2, 2, 0): 0.006755983052788275,\n",
       "              (1, 2, 2, 1): 2.2901637467078896e-05,\n",
       "              (1, 3, 1, 0): 0.0028856063208519407,\n",
       "              (1, 3, 1, 1): 0.00016031146226955229,\n",
       "              (1, 3, 2, 0): 0.0063208519409137754,\n",
       "              (1, 3, 2, 1): 2.2901637467078896e-05,\n",
       "              (1, 4, 2, 0): 2.2901637467078896e-05,\n",
       "              (2, 0): 0.07264399404557426,\n",
       "              (2, 1): 0.00016031146226955229},\n",
       "             (0, 2, 2): {(0, 0): 0.0029561504352110363,\n",
       "              (0, 1, 1, 0): 0.11282640827722122,\n",
       "              (0, 1, 1, 1): 0.004598456232550501,\n",
       "              (0, 1, 2, 0): 0.00016423057973394647,\n",
       "              (0, 2, 1, 0): 0.008704220725899162,\n",
       "              (0, 2, 2, 0): 0.03678764986040401,\n",
       "              (0, 2, 2, 1): 0.00016423057973394647,\n",
       "              (0, 3, 1, 0): 0.2962719658400394,\n",
       "              (0, 3, 1, 1): 0.00032846115946789294,\n",
       "              (0, 3, 2, 0): 0.4545902447035638,\n",
       "              (0, 3, 2, 1): 0.00016423057973394647,\n",
       "              (0, 4, 1, 0): 0.0004926917392018393,\n",
       "              (0, 4, 2, 0): 0.00032846115946789294,\n",
       "              (1, 1, 1, 0): 0.00032846115946789294,\n",
       "              (1, 1, 1, 1): 0.024963048119559864,\n",
       "              (1, 2, 2, 0): 0.011824601740844145,\n",
       "              (1, 2, 2, 1): 0.00016423057973394647,\n",
       "              (1, 3, 1, 0): 0.00016423057973394647,\n",
       "              (1, 3, 2, 0): 0.011660371161110199,\n",
       "              (2, 0): 0.0325176547873214},\n",
       "             (0, 3, 1): {(0, 0): 0.004256666432139591,\n",
       "              (0, 1, 1, 0): 0.3400408077112503,\n",
       "              (0, 1, 1, 1): 0.0038345176950678956,\n",
       "              (0, 1, 2, 0): 3.517906142264124e-05,\n",
       "              (0, 2, 1, 0): 0.0003166115528037712,\n",
       "              (0, 2, 1, 1): 3.517906142264124e-05,\n",
       "              (0, 2, 2, 0): 0.00010553718426792373,\n",
       "              (0, 2, 2, 1): 3.517906142264124e-05,\n",
       "              (0, 3, 1, 0): 0.02145922746781116,\n",
       "              (0, 3, 1, 1): 3.517906142264124e-05,\n",
       "              (0, 3, 2, 0): 0.021740659959192287,\n",
       "              (0, 4, 1, 0): 0.44687961725181174,\n",
       "              (0, 4, 1, 1): 0.0004925068599169774,\n",
       "              (0, 4, 2, 0): 0.028072891015267713,\n",
       "              (1, 0): 7.035812284528248e-05,\n",
       "              (1, 1, 1, 0): 0.0007387602898754662,\n",
       "              (1, 1, 1, 1): 0.023288538661788503,\n",
       "              (1, 2, 1, 0): 7.035812284528248e-05,\n",
       "              (1, 3, 1, 0): 0.0020755646239358333,\n",
       "              (1, 3, 2, 0): 0.004960247660592415,\n",
       "              (1, 4, 1, 0): 0.002603250545275452,\n",
       "              (1, 4, 1, 1): 0.00014071624569056497,\n",
       "              (1, 4, 2, 0): 0.009955674382607471,\n",
       "              (1, 4, 2, 1): 3.517906142264124e-05,\n",
       "              (2, 0): 0.08847533947794273,\n",
       "              (2, 1): 0.0002462534299584887},\n",
       "             (0, 3, 2): {(0, 0): 0.007581967213114754,\n",
       "              (0, 1, 1, 0): 0.1375,\n",
       "              (0, 1, 1, 1): 0.006147540983606557,\n",
       "              (0, 2, 1, 0): 0.00020491803278688525,\n",
       "              (0, 2, 2, 0): 0.0006147540983606558,\n",
       "              (0, 3, 1, 0): 0.009016393442622951,\n",
       "              (0, 3, 2, 0): 0.04282786885245902,\n",
       "              (0, 3, 2, 1): 0.00020491803278688525,\n",
       "              (0, 4, 1, 0): 0.25245901639344265,\n",
       "              (0, 4, 1, 1): 0.0004098360655737705,\n",
       "              (0, 4, 2, 0): 0.4389344262295082,\n",
       "              (0, 4, 2, 1): 0.0006147540983606558,\n",
       "              (1, 1, 1, 1): 0.033196721311475406,\n",
       "              (1, 2, 1, 1): 0.00020491803278688525,\n",
       "              (1, 3, 2, 0): 0.009426229508196722,\n",
       "              (1, 3, 2, 1): 0.00020491803278688525,\n",
       "              (1, 4, 1, 0): 0.00020491803278688525,\n",
       "              (1, 4, 1, 1): 0.00020491803278688525,\n",
       "              (1, 4, 2, 0): 0.018852459016393444,\n",
       "              (2, 0): 0.041188524590163936},\n",
       "             (0, 4, 1): {(0, 0): 0.4018704255895907,\n",
       "              (0, 1, 1, 0): 0.11080238547031716,\n",
       "              (0, 1, 1, 1): 0.003591759284358905,\n",
       "              (0, 2, 1, 0): 0.0001355380862022228,\n",
       "              (0, 3, 1, 0): 0.0001355380862022228,\n",
       "              (0, 3, 1, 1): 6.77690431011114e-05,\n",
       "              (0, 4, 1, 0): 0.021482786663052318,\n",
       "              (0, 4, 1, 1): 0.0001355380862022228,\n",
       "              (0, 4, 2, 0): 0.010436432637571158,\n",
       "              (1, 0): 0.0002710761724044456,\n",
       "              (1, 1, 1, 0): 0.001152073732718894,\n",
       "              (1, 1, 1, 1): 0.41603415559772294,\n",
       "              (1, 2, 1, 0): 6.77690431011114e-05,\n",
       "              (1, 2, 1, 1): 0.0001355380862022228,\n",
       "              (1, 3, 1, 1): 0.0001355380862022228,\n",
       "              (1, 4, 1, 0): 0.003320683111954459,\n",
       "              (1, 4, 1, 1): 0.0001355380862022228,\n",
       "              (1, 4, 2, 0): 0.003252914068853348,\n",
       "              (1, 4, 2, 1): 6.77690431011114e-05,\n",
       "              (2, 0): 0.026294388723231227,\n",
       "              (2, 1): 0.0003388452155055571,\n",
       "              (2, 1, 1, 1): 0.0001355380862022228},\n",
       "             (0, 4, 2): {(0, 0): 0.343721073742672,\n",
       "              (0, 1): 0.000308546744831842,\n",
       "              (0, 1, 1, 0): 0.02005553841406973,\n",
       "              (0, 1, 1, 1): 0.004011107682813947,\n",
       "              (0, 2, 1, 0): 0.000308546744831842,\n",
       "              (0, 3, 2, 0): 0.0009256402344955261,\n",
       "              (0, 4, 1, 0): 0.005553841406973156,\n",
       "              (0, 4, 2, 0): 0.028694847269361307,\n",
       "              (1, 1): 0.000308546744831842,\n",
       "              (1, 1, 1, 0): 0.0009256402344955261,\n",
       "              (1, 1, 1, 1): 0.5785251465597038,\n",
       "              (1, 1, 2, 1): 0.000308546744831842,\n",
       "              (1, 4, 2, 0): 0.008330762110459735,\n",
       "              (2, 0): 0.007096575131132366,\n",
       "              (2, 1): 0.0009256402344955261},\n",
       "             (1,): {(5, 1): 1.0},\n",
       "             (1, 1, 1): {(0, 0): 8.359506550270489e-05,\n",
       "              (0, 1): 1.1942152214672128e-05,\n",
       "              (0, 1, 1, 0): 0.0888257281727313,\n",
       "              (0, 1, 1, 1): 0.012658681347552455,\n",
       "              (0, 1, 2, 0): 1.1942152214672128e-05,\n",
       "              (0, 1, 2, 1): 1.1942152214672128e-05,\n",
       "              (0, 2, 1, 0): 0.04346943406140655,\n",
       "              (0, 2, 1, 1): 0.00017913228322008191,\n",
       "              (0, 2, 2, 0): 3.582645664401638e-05,\n",
       "              (0, 2, 2, 1): 1.1942152214672128e-05,\n",
       "              (0, 3, 1, 0): 5.971076107336064e-05,\n",
       "              (0, 3, 1, 1): 2.3884304429344255e-05,\n",
       "              (0, 4, 1, 0): 2.3884304429344255e-05,\n",
       "              (0, 4, 1, 1): 1.1942152214672128e-05,\n",
       "              (1, 1): 0.00026272734872278685,\n",
       "              (1, 1, 1, 0): 0.11852586073062087,\n",
       "              (1, 1, 1, 1): 0.004967935321303605,\n",
       "              (1, 1, 2, 0): 0.0378327382160813,\n",
       "              (1, 1, 2, 1): 2.3884304429344255e-05,\n",
       "              (1, 2, 1, 0): 0.6131100947012671,\n",
       "              (1, 2, 1, 1): 0.0005135125452309015,\n",
       "              (1, 2, 2, 0): 0.0741727074053286,\n",
       "              (1, 2, 2, 1): 2.3884304429344255e-05,\n",
       "              (1, 3, 1, 0): 0.00028661165315213105,\n",
       "              (1, 3, 1, 1): 2.3884304429344255e-05,\n",
       "              (1, 3, 2, 0): 7.165291328803276e-05,\n",
       "              (1, 4, 1, 0): 4.776860885868851e-05,\n",
       "              (1, 4, 1, 1): 1.1942152214672128e-05,\n",
       "              (1, 4, 2, 0): 2.3884304429344255e-05,\n",
       "              (2, 0): 0.004418596319428688,\n",
       "              (2, 1): 0.0002507851965081147,\n",
       "              (2, 2, 1, 0): 1.1942152214672128e-05},\n",
       "             (1, 1, 2): {(0, 1, 1, 0): 0.05108157414646859,\n",
       "              (0, 1, 1, 1): 0.0109460516028147,\n",
       "              (0, 1, 2, 0): 0.00026062027625749283,\n",
       "              (0, 2, 1, 0): 0.04769351055512119,\n",
       "              (0, 2, 2, 0): 0.026583268178264268,\n",
       "              (0, 2, 2, 1): 0.0005212405525149857,\n",
       "              (0, 4, 1, 0): 0.00026062027625749283,\n",
       "              (1, 1): 0.00026062027625749283,\n",
       "              (1, 1, 1, 0): 0.051863434975241075,\n",
       "              (1, 1, 1, 1): 0.004430544696377378,\n",
       "              (1, 1, 2, 0): 0.044566067240031274,\n",
       "              (1, 2, 1, 0): 0.20771436017722178,\n",
       "              (1, 2, 2, 0): 0.54782382069325,\n",
       "              (1, 2, 2, 1): 0.0005212405525149857,\n",
       "              (1, 3, 1, 0): 0.0005212405525149857,\n",
       "              (1, 3, 2, 0): 0.0005212405525149857,\n",
       "              (2, 0): 0.003909304143862392,\n",
       "              (2, 1): 0.0005212405525149857},\n",
       "             (1, 2, 1): {(0, 0): 3.792763407418645e-05,\n",
       "              (0, 1): 5.689145111127968e-05,\n",
       "              (0, 1, 1, 0): 0.11249336266403702,\n",
       "              (0, 1, 1, 1): 0.014071152241523173,\n",
       "              (0, 1, 2, 0): 1.8963817037093226e-05,\n",
       "              (0, 2, 1, 0): 0.0009671546688917545,\n",
       "              (0, 2, 1, 1): 7.58552681483729e-05,\n",
       "              (0, 2, 2, 0): 1.8963817037093226e-05,\n",
       "              (0, 3, 1, 0): 0.02880603807934461,\n",
       "              (0, 3, 1, 1): 5.689145111127968e-05,\n",
       "              (0, 3, 2, 0): 1.8963817037093226e-05,\n",
       "              (0, 4, 1, 0): 1.8963817037093226e-05,\n",
       "              (1, 1): 0.0003792763407418645,\n",
       "              (1, 1, 1, 0): 0.2141394219828567,\n",
       "              (1, 1, 1, 1): 0.004437533186679815,\n",
       "              (1, 1, 2, 0): 7.58552681483729e-05,\n",
       "              (1, 2, 1, 0): 0.013862550254115149,\n",
       "              (1, 2, 1, 1): 9.481908518546613e-05,\n",
       "              (1, 2, 2, 0): 0.03180232117120534,\n",
       "              (1, 2, 2, 1): 1.8963817037093226e-05,\n",
       "              (1, 3, 1, 0): 0.5326367291208375,\n",
       "              (1, 3, 1, 1): 0.00039824015777895777,\n",
       "              (1, 3, 2, 0): 0.041246302055677767,\n",
       "              (1, 3, 2, 1): 5.689145111127968e-05,\n",
       "              (1, 4, 1, 0): 0.0003792763407418645,\n",
       "              (1, 4, 2, 0): 1.8963817037093226e-05,\n",
       "              (1, 4, 2, 1): 1.8963817037093226e-05,\n",
       "              (2, 0): 0.003356595615565501,\n",
       "              (2, 1): 0.0004361677918531442},\n",
       "             (1, 2, 2): {(0, 0): 9.041591320072333e-05,\n",
       "              (0, 1, 1, 0): 0.061301989150090413,\n",
       "              (0, 1, 1, 1): 0.017450271247739603,\n",
       "              (0, 1, 2, 0): 9.041591320072333e-05,\n",
       "              (0, 2, 1, 0): 0.0014466546112115732,\n",
       "              (0, 2, 1, 1): 9.041591320072333e-05,\n",
       "              (0, 2, 2, 0): 0.00018083182640144665,\n",
       "              (0, 3, 1, 0): 0.05171790235081374,\n",
       "              (0, 3, 1, 1): 9.041591320072333e-05,\n",
       "              (0, 3, 2, 0): 0.012839059674502712,\n",
       "              (0, 4, 1, 0): 0.00018083182640144665,\n",
       "              (1, 1): 0.0004520795660036166,\n",
       "              (1, 1, 1, 0): 0.06817359855334539,\n",
       "              (1, 1, 1, 1): 0.00488245931283906,\n",
       "              (1, 1, 2, 0): 0.00027124773960217,\n",
       "              (1, 2, 1, 0): 0.005786618444846293,\n",
       "              (1, 2, 2, 0): 0.043670886075949364,\n",
       "              (1, 3, 1, 0): 0.2786618444846293,\n",
       "              (1, 3, 1, 1): 0.00027124773960217,\n",
       "              (1, 3, 2, 0): 0.44710669077757687,\n",
       "              (1, 4, 1, 0): 0.0006329113924050633,\n",
       "              (1, 4, 2, 0): 0.0009041591320072332,\n",
       "              (2, 0): 0.0035262206148282097,\n",
       "              (2, 1): 0.00018083182640144665},\n",
       "             (1, 3, 1): {(0, 1): 3.137747097583935e-05,\n",
       "              (0, 1, 1, 0): 0.1450580483213053,\n",
       "              (0, 1, 1, 1): 0.02168183244430499,\n",
       "              (0, 1, 2, 0): 9.413241292751804e-05,\n",
       "              (0, 2, 1, 0): 6.27549419516787e-05,\n",
       "              (0, 3, 1, 0): 0.0007530593034201443,\n",
       "              (0, 4, 1, 0): 0.011295889551302165,\n",
       "              (0, 4, 1, 1): 6.27549419516787e-05,\n",
       "              (0, 4, 2, 0): 0.00015688735487919673,\n",
       "              (1, 1): 0.00043928459366175085,\n",
       "              (1, 1, 1, 0): 0.29162221524945087,\n",
       "              (1, 1, 1, 1): 0.006181361782240351,\n",
       "              (1, 2, 1, 0): 0.0003451521807342328,\n",
       "              (1, 2, 1, 1): 3.137747097583935e-05,\n",
       "              (1, 2, 2, 0): 6.27549419516787e-05,\n",
       "              (1, 3, 1, 0): 0.023250705993096955,\n",
       "              (1, 3, 1, 1): 6.27549419516787e-05,\n",
       "              (1, 3, 2, 0): 0.029463445246313148,\n",
       "              (1, 4, 1, 0): 0.41465327894571696,\n",
       "              (1, 4, 1, 1): 9.413241292751804e-05,\n",
       "              (1, 4, 2, 0): 0.048917477251333545,\n",
       "              (2, 0): 0.005177282711013492,\n",
       "              (2, 1): 0.0004706620646375902,\n",
       "              (2, 3, 2, 0): 3.137747097583935e-05},\n",
       "             (1, 3, 2): {(0, 1, 1, 0): 0.07784090909090909,\n",
       "              (0, 1, 1, 1): 0.029772727272727274,\n",
       "              (0, 2, 1, 0): 0.00011363636363636364,\n",
       "              (0, 2, 1, 1): 0.00011363636363636364,\n",
       "              (0, 3, 1, 0): 0.00125,\n",
       "              (0, 3, 2, 0): 0.00045454545454545455,\n",
       "              (0, 4, 1, 0): 0.04147727272727273,\n",
       "              (0, 4, 1, 1): 0.00011363636363636364,\n",
       "              (0, 4, 2, 0): 0.012045454545454545,\n",
       "              (1, 1): 0.0009090909090909091,\n",
       "              (1, 1, 1, 0): 0.08556818181818182,\n",
       "              (1, 1, 1, 1): 0.01,\n",
       "              (1, 1, 2, 0): 0.00011363636363636364,\n",
       "              (1, 2, 2, 0): 0.00045454545454545455,\n",
       "              (1, 3, 1, 0): 0.008295454545454545,\n",
       "              (1, 3, 2, 0): 0.05545454545454546,\n",
       "              (1, 4, 1, 0): 0.21784090909090909,\n",
       "              (1, 4, 1, 1): 0.00022727272727272727,\n",
       "              (1, 4, 2, 0): 0.4531818181818182,\n",
       "              (2, 0): 0.004318181818181818,\n",
       "              (2, 1): 0.00045454545454545455},\n",
       "             (1, 4, 1): {(0, 1, 1, 0): 0.025792236407232196,\n",
       "              (0, 1, 1, 1): 0.09351305812973884,\n",
       "              (0, 2, 2, 0): 6.48046140885231e-05,\n",
       "              (0, 3, 1, 1): 6.48046140885231e-05,\n",
       "              (0, 4, 1, 0): 0.000648046140885231,\n",
       "              (1, 1): 0.0009720692113278465,\n",
       "              (1, 1, 1, 0): 0.02527379949452401,\n",
       "              (1, 1, 1, 1): 0.8158252867604173,\n",
       "              (1, 2, 1, 0): 6.48046140885231e-05,\n",
       "              (1, 2, 1, 1): 0.0003240230704426155,\n",
       "              (1, 3, 1, 0): 0.0001296092281770462,\n",
       "              (1, 3, 1, 1): 6.48046140885231e-05,\n",
       "              (1, 4, 1, 0): 0.020931890350592963,\n",
       "              (1, 4, 1, 1): 6.48046140885231e-05,\n",
       "              (1, 4, 2, 0): 0.014516233555829174,\n",
       "              (2, 0): 0.0004536322986196617,\n",
       "              (2, 1): 0.001231287667681939,\n",
       "              (2, 1, 1, 1): 6.48046140885231e-05},\n",
       "             (1, 4, 2): {(0, 1, 1, 0): 0.015321434212604644,\n",
       "              (0, 1, 1, 1): 0.1457905544147844,\n",
       "              (0, 2, 2, 1): 0.000157952930026852,\n",
       "              (0, 4, 1, 0): 0.001421576370241668,\n",
       "              (0, 4, 2, 0): 0.000473858790080556,\n",
       "              (1, 1): 0.000631811720107408,\n",
       "              (1, 1, 1, 0): 0.006002211341020376,\n",
       "              (1, 1, 1, 1): 0.7945032380350655,\n",
       "              (1, 1, 2, 1): 0.000157952930026852,\n",
       "              (1, 2, 1, 1): 0.000157952930026852,\n",
       "              (1, 2, 2, 0): 0.000157952930026852,\n",
       "              (1, 3, 2, 0): 0.000157952930026852,\n",
       "              (1, 4, 1, 0): 0.00315905860053704,\n",
       "              (1, 4, 2, 0): 0.030484915495182435,\n",
       "              (2, 0): 0.000473858790080556,\n",
       "              (2, 1): 0.000947717580161112},\n",
       "             (2,): {(3, 0): 0.9361458516822265,\n",
       "              (4, 0): 0.02580588338911397,\n",
       "              (5, 0): 0.0380482649286595},\n",
       "             (2, 1, 1): {(1, 1, 1, 0): 1.0},\n",
       "             (2, 2, 1): {(1, 1, 1, 0): 1.0},\n",
       "             (2, 3, 2): {(1, 4, 2, 0): 1.0},\n",
       "             (3,): {(5, 0): 1.0},\n",
       "             (4,): {(5, 0): 1.0},\n",
       "             (5,): {(0, 0): 0.00010916434692429452,\n",
       "              (0, 1): 5.458217346214726e-05,\n",
       "              (0, 1, 1, 0): 0.008460236886632826,\n",
       "              (0, 1, 1, 1): 0.04120954096392118,\n",
       "              (0, 1, 2, 1): 0.00010916434692429452,\n",
       "              (0, 2, 1, 0): 0.0011462256427050926,\n",
       "              (0, 2, 1, 1): 0.0009278969488565035,\n",
       "              (0, 2, 2, 1): 0.0004912395611593254,\n",
       "              (0, 3, 1, 0): 0.00021832869384858904,\n",
       "              (0, 3, 1, 1): 5.458217346214726e-05,\n",
       "              (0, 4, 1, 0): 0.00010916434692429452,\n",
       "              (0, 4, 1, 1): 5.458217346214726e-05,\n",
       "              (0, 4, 2, 1): 5.458217346214726e-05,\n",
       "              (1, 1, 1, 0): 0.01239015337590743,\n",
       "              (1, 1, 1, 1): 0.9242945254080017,\n",
       "              (1, 1, 2, 0): 0.00010916434692429452,\n",
       "              (1, 1, 2, 1): 0.0003274930407728836,\n",
       "              (1, 2, 1, 0): 0.0007095682550079145,\n",
       "              (1, 2, 1, 1): 0.007041100376616997,\n",
       "              (1, 2, 2, 0): 5.458217346214726e-05,\n",
       "              (1, 2, 2, 1): 0.0008187326019322089,\n",
       "              (1, 3, 1, 0): 0.00010916434692429452,\n",
       "              (1, 3, 1, 1): 0.0001637465203864418,\n",
       "              (1, 3, 2, 0): 0.00010916434692429452,\n",
       "              (1, 3, 2, 1): 5.458217346214726e-05,\n",
       "              (1, 4, 1, 0): 0.0001637465203864418,\n",
       "              (2, 0): 0.00010916434692429452,\n",
       "              (2, 1): 0.0005458217346214726},\n",
       "             (8, 2, 2): {}})"
      ]
     },
     "execution_count": 150,
     "metadata": {},
     "output_type": "execute_result"
    }
   ],
   "source": [
    "probabilities"
   ]
  },
  {
   "cell_type": "code",
   "execution_count": 151,
   "metadata": {
    "collapsed": false
   },
   "outputs": [
    {
     "data": {
      "text/plain": [
       "defaultdict(collections.Counter,\n",
       "            {(0,): Counter({(5, 0): 7574}),\n",
       "             (0,\n",
       "              1,\n",
       "              1): Counter({(0, 0): 153,\n",
       "                      (0, 1, 1, 0): 8963,\n",
       "                      (0, 1, 1, 1): 142,\n",
       "                      (0, 1, 2, 0): 1823,\n",
       "                      (0, 1, 2, 1): 2,\n",
       "                      (0, 2, 1, 0): 38844,\n",
       "                      (0, 2, 1, 1): 22,\n",
       "                      (0, 2, 2, 0): 3887,\n",
       "                      (0, 2, 2, 1): 1,\n",
       "                      (0, 3, 1, 0): 43,\n",
       "                      (0, 3, 1, 1): 1,\n",
       "                      (0, 3, 2, 0): 9,\n",
       "                      (0, 4, 1, 0): 3,\n",
       "                      (1, 0): 1,\n",
       "                      (1, 1, 1, 0): 28,\n",
       "                      (1, 1, 1, 1): 986,\n",
       "                      (1, 1, 2, 0): 514,\n",
       "                      (1, 2, 1, 0): 15,\n",
       "                      (1, 2, 1, 1): 13,\n",
       "                      (1, 2, 2, 0): 491,\n",
       "                      (1, 2, 2, 1): 2,\n",
       "                      (1, 3, 1, 0): 2,\n",
       "                      (1, 3, 2, 0): 2,\n",
       "                      (1, 3, 2, 1): 1,\n",
       "                      (1, 4, 1, 0): 1,\n",
       "                      (1, 4, 1, 1): 2,\n",
       "                      (2, 0): 3691,\n",
       "                      (2, 1): 11,\n",
       "                      (2, 2, 1, 1): 1}),\n",
       "             (0,\n",
       "              1,\n",
       "              2): Counter({(0, 0): 6,\n",
       "                      (0, 1, 1, 0): 172,\n",
       "                      (0, 1, 1, 1): 9,\n",
       "                      (0, 1, 2, 0): 74,\n",
       "                      (0, 2, 1, 0): 480,\n",
       "                      (0, 2, 1, 1): 1,\n",
       "                      (0, 2, 2, 0): 1018,\n",
       "                      (0, 3, 1, 0): 2,\n",
       "                      (0, 3, 2, 0): 2,\n",
       "                      (1, 1, 1, 0): 2,\n",
       "                      (1, 1, 1, 1): 38,\n",
       "                      (1, 1, 2, 0): 18,\n",
       "                      (1, 2, 2, 0): 17,\n",
       "                      (2, 0): 59}),\n",
       "             (0,\n",
       "              2,\n",
       "              1): Counter({(0, 0): 120,\n",
       "                      (0, 1): 1,\n",
       "                      (0, 1, 1, 0): 11424,\n",
       "                      (0, 1, 1, 1): 103,\n",
       "                      (0, 1, 2, 0): 3,\n",
       "                      (0, 2, 1, 0): 712,\n",
       "                      (0, 2, 2, 0): 1101,\n",
       "                      (0, 2, 2, 1): 1,\n",
       "                      (0, 3, 1, 0): 24115,\n",
       "                      (0, 3, 1, 1): 21,\n",
       "                      (0, 3, 2, 0): 1371,\n",
       "                      (0, 4, 1, 0): 22,\n",
       "                      (0, 4, 2, 0): 2,\n",
       "                      (0, 4, 2, 1): 1,\n",
       "                      (1, 0): 1,\n",
       "                      (1, 1, 1, 0): 33,\n",
       "                      (1, 1, 1, 1): 696,\n",
       "                      (1, 2, 1, 0): 50,\n",
       "                      (1, 2, 1, 1): 2,\n",
       "                      (1, 2, 2, 0): 295,\n",
       "                      (1, 2, 2, 1): 1,\n",
       "                      (1, 3, 1, 0): 126,\n",
       "                      (1, 3, 1, 1): 7,\n",
       "                      (1, 3, 2, 0): 276,\n",
       "                      (1, 3, 2, 1): 1,\n",
       "                      (1, 4, 2, 0): 1,\n",
       "                      (2, 0): 3172,\n",
       "                      (2, 1): 7}),\n",
       "             (0,\n",
       "              2,\n",
       "              2): Counter({(0, 0): 18,\n",
       "                      (0, 1, 1, 0): 687,\n",
       "                      (0, 1, 1, 1): 28,\n",
       "                      (0, 1, 2, 0): 1,\n",
       "                      (0, 2, 1, 0): 53,\n",
       "                      (0, 2, 2, 0): 224,\n",
       "                      (0, 2, 2, 1): 1,\n",
       "                      (0, 3, 1, 0): 1804,\n",
       "                      (0, 3, 1, 1): 2,\n",
       "                      (0, 3, 2, 0): 2768,\n",
       "                      (0, 3, 2, 1): 1,\n",
       "                      (0, 4, 1, 0): 3,\n",
       "                      (0, 4, 2, 0): 2,\n",
       "                      (1, 1, 1, 0): 2,\n",
       "                      (1, 1, 1, 1): 152,\n",
       "                      (1, 2, 2, 0): 72,\n",
       "                      (1, 2, 2, 1): 1,\n",
       "                      (1, 3, 1, 0): 1,\n",
       "                      (1, 3, 2, 0): 71,\n",
       "                      (2, 0): 198}),\n",
       "             (0,\n",
       "              3,\n",
       "              1): Counter({(0, 0): 121,\n",
       "                      (0, 1, 1, 0): 9666,\n",
       "                      (0, 1, 1, 1): 109,\n",
       "                      (0, 1, 2, 0): 1,\n",
       "                      (0, 2, 1, 0): 9,\n",
       "                      (0, 2, 1, 1): 1,\n",
       "                      (0, 2, 2, 0): 3,\n",
       "                      (0, 2, 2, 1): 1,\n",
       "                      (0, 3, 1, 0): 610,\n",
       "                      (0, 3, 1, 1): 1,\n",
       "                      (0, 3, 2, 0): 618,\n",
       "                      (0, 4, 1, 0): 12703,\n",
       "                      (0, 4, 1, 1): 14,\n",
       "                      (0, 4, 2, 0): 798,\n",
       "                      (1, 0): 2,\n",
       "                      (1, 1, 1, 0): 21,\n",
       "                      (1, 1, 1, 1): 662,\n",
       "                      (1, 2, 1, 0): 2,\n",
       "                      (1, 3, 1, 0): 59,\n",
       "                      (1, 3, 2, 0): 141,\n",
       "                      (1, 4, 1, 0): 74,\n",
       "                      (1, 4, 1, 1): 4,\n",
       "                      (1, 4, 2, 0): 283,\n",
       "                      (1, 4, 2, 1): 1,\n",
       "                      (2, 0): 2515,\n",
       "                      (2, 1): 7}),\n",
       "             (0,\n",
       "              3,\n",
       "              2): Counter({(0, 0): 37,\n",
       "                      (0, 1, 1, 0): 671,\n",
       "                      (0, 1, 1, 1): 30,\n",
       "                      (0, 2, 1, 0): 1,\n",
       "                      (0, 2, 2, 0): 3,\n",
       "                      (0, 3, 1, 0): 44,\n",
       "                      (0, 3, 2, 0): 209,\n",
       "                      (0, 3, 2, 1): 1,\n",
       "                      (0, 4, 1, 0): 1232,\n",
       "                      (0, 4, 1, 1): 2,\n",
       "                      (0, 4, 2, 0): 2142,\n",
       "                      (0, 4, 2, 1): 3,\n",
       "                      (1, 1, 1, 1): 162,\n",
       "                      (1, 2, 1, 1): 1,\n",
       "                      (1, 3, 2, 0): 46,\n",
       "                      (1, 3, 2, 1): 1,\n",
       "                      (1, 4, 1, 0): 1,\n",
       "                      (1, 4, 1, 1): 1,\n",
       "                      (1, 4, 2, 0): 92,\n",
       "                      (2, 0): 201}),\n",
       "             (0,\n",
       "              4,\n",
       "              1): Counter({(0, 0): 5930,\n",
       "                      (0, 1, 1, 0): 1635,\n",
       "                      (0, 1, 1, 1): 53,\n",
       "                      (0, 2, 1, 0): 2,\n",
       "                      (0, 3, 1, 0): 2,\n",
       "                      (0, 3, 1, 1): 1,\n",
       "                      (0, 4, 1, 0): 317,\n",
       "                      (0, 4, 1, 1): 2,\n",
       "                      (0, 4, 2, 0): 154,\n",
       "                      (1, 0): 4,\n",
       "                      (1, 1, 1, 0): 17,\n",
       "                      (1, 1, 1, 1): 6139,\n",
       "                      (1, 2, 1, 0): 1,\n",
       "                      (1, 2, 1, 1): 2,\n",
       "                      (1, 3, 1, 1): 2,\n",
       "                      (1, 4, 1, 0): 49,\n",
       "                      (1, 4, 1, 1): 2,\n",
       "                      (1, 4, 2, 0): 48,\n",
       "                      (1, 4, 2, 1): 1,\n",
       "                      (2, 0): 388,\n",
       "                      (2, 1): 5,\n",
       "                      (2, 1, 1, 1): 2}),\n",
       "             (0,\n",
       "              4,\n",
       "              2): Counter({(0, 0): 1114,\n",
       "                      (0, 1): 1,\n",
       "                      (0, 1, 1, 0): 65,\n",
       "                      (0, 1, 1, 1): 13,\n",
       "                      (0, 2, 1, 0): 1,\n",
       "                      (0, 3, 2, 0): 3,\n",
       "                      (0, 4, 1, 0): 18,\n",
       "                      (0, 4, 2, 0): 93,\n",
       "                      (1, 1): 1,\n",
       "                      (1, 1, 1, 0): 3,\n",
       "                      (1, 1, 1, 1): 1875,\n",
       "                      (1, 1, 2, 1): 1,\n",
       "                      (1, 4, 2, 0): 27,\n",
       "                      (2, 0): 23,\n",
       "                      (2, 1): 3}),\n",
       "             (1,): Counter({(5, 1): 98}),\n",
       "             (1,\n",
       "              1,\n",
       "              1): Counter({(0, 0): 7,\n",
       "                      (0, 1): 1,\n",
       "                      (0, 1, 1, 0): 7438,\n",
       "                      (0, 1, 1, 1): 1060,\n",
       "                      (0, 1, 2, 0): 1,\n",
       "                      (0, 1, 2, 1): 1,\n",
       "                      (0, 2, 1, 0): 3640,\n",
       "                      (0, 2, 1, 1): 15,\n",
       "                      (0, 2, 2, 0): 3,\n",
       "                      (0, 2, 2, 1): 1,\n",
       "                      (0, 3, 1, 0): 5,\n",
       "                      (0, 3, 1, 1): 2,\n",
       "                      (0, 4, 1, 0): 2,\n",
       "                      (0, 4, 1, 1): 1,\n",
       "                      (1, 1): 22,\n",
       "                      (1, 1, 1, 0): 9925,\n",
       "                      (1, 1, 1, 1): 416,\n",
       "                      (1, 1, 2, 0): 3168,\n",
       "                      (1, 1, 2, 1): 2,\n",
       "                      (1, 2, 1, 0): 51340,\n",
       "                      (1, 2, 1, 1): 43,\n",
       "                      (1, 2, 2, 0): 6211,\n",
       "                      (1, 2, 2, 1): 2,\n",
       "                      (1, 3, 1, 0): 24,\n",
       "                      (1, 3, 1, 1): 2,\n",
       "                      (1, 3, 2, 0): 6,\n",
       "                      (1, 4, 1, 0): 4,\n",
       "                      (1, 4, 1, 1): 1,\n",
       "                      (1, 4, 2, 0): 2,\n",
       "                      (2, 0): 370,\n",
       "                      (2, 1): 21,\n",
       "                      (2, 2, 1, 0): 1}),\n",
       "             (1,\n",
       "              1,\n",
       "              2): Counter({(0, 1, 1, 0): 196,\n",
       "                      (0, 1, 1, 1): 42,\n",
       "                      (0, 1, 2, 0): 1,\n",
       "                      (0, 2, 1, 0): 183,\n",
       "                      (0, 2, 2, 0): 102,\n",
       "                      (0, 2, 2, 1): 2,\n",
       "                      (0, 4, 1, 0): 1,\n",
       "                      (1, 1): 1,\n",
       "                      (1, 1, 1, 0): 199,\n",
       "                      (1, 1, 1, 1): 17,\n",
       "                      (1, 1, 2, 0): 171,\n",
       "                      (1, 2, 1, 0): 797,\n",
       "                      (1, 2, 2, 0): 2102,\n",
       "                      (1, 2, 2, 1): 2,\n",
       "                      (1, 3, 1, 0): 2,\n",
       "                      (1, 3, 2, 0): 2,\n",
       "                      (2, 0): 15,\n",
       "                      (2, 1): 2}),\n",
       "             (1,\n",
       "              2,\n",
       "              1): Counter({(0, 0): 2,\n",
       "                      (0, 1): 3,\n",
       "                      (0, 1, 1, 0): 5932,\n",
       "                      (0, 1, 1, 1): 742,\n",
       "                      (0, 1, 2, 0): 1,\n",
       "                      (0, 2, 1, 0): 51,\n",
       "                      (0, 2, 1, 1): 4,\n",
       "                      (0, 2, 2, 0): 1,\n",
       "                      (0, 3, 1, 0): 1519,\n",
       "                      (0, 3, 1, 1): 3,\n",
       "                      (0, 3, 2, 0): 1,\n",
       "                      (0, 4, 1, 0): 1,\n",
       "                      (1, 1): 20,\n",
       "                      (1, 1, 1, 0): 11292,\n",
       "                      (1, 1, 1, 1): 234,\n",
       "                      (1, 1, 2, 0): 4,\n",
       "                      (1, 2, 1, 0): 731,\n",
       "                      (1, 2, 1, 1): 5,\n",
       "                      (1, 2, 2, 0): 1677,\n",
       "                      (1, 2, 2, 1): 1,\n",
       "                      (1, 3, 1, 0): 28087,\n",
       "                      (1, 3, 1, 1): 21,\n",
       "                      (1, 3, 2, 0): 2175,\n",
       "                      (1, 3, 2, 1): 3,\n",
       "                      (1, 4, 1, 0): 20,\n",
       "                      (1, 4, 2, 0): 1,\n",
       "                      (1, 4, 2, 1): 1,\n",
       "                      (2, 0): 177,\n",
       "                      (2, 1): 23}),\n",
       "             (1,\n",
       "              2,\n",
       "              2): Counter({(0, 0): 1,\n",
       "                      (0, 1, 1, 0): 678,\n",
       "                      (0, 1, 1, 1): 193,\n",
       "                      (0, 1, 2, 0): 1,\n",
       "                      (0, 2, 1, 0): 16,\n",
       "                      (0, 2, 1, 1): 1,\n",
       "                      (0, 2, 2, 0): 2,\n",
       "                      (0, 3, 1, 0): 572,\n",
       "                      (0, 3, 1, 1): 1,\n",
       "                      (0, 3, 2, 0): 142,\n",
       "                      (0, 4, 1, 0): 2,\n",
       "                      (1, 1): 5,\n",
       "                      (1, 1, 1, 0): 754,\n",
       "                      (1, 1, 1, 1): 54,\n",
       "                      (1, 1, 2, 0): 3,\n",
       "                      (1, 2, 1, 0): 64,\n",
       "                      (1, 2, 2, 0): 483,\n",
       "                      (1, 3, 1, 0): 3082,\n",
       "                      (1, 3, 1, 1): 3,\n",
       "                      (1, 3, 2, 0): 4945,\n",
       "                      (1, 4, 1, 0): 7,\n",
       "                      (1, 4, 2, 0): 10,\n",
       "                      (2, 0): 39,\n",
       "                      (2, 1): 2}),\n",
       "             (1,\n",
       "              3,\n",
       "              1): Counter({(0, 1): 1,\n",
       "                      (0, 1, 1, 0): 4623,\n",
       "                      (0, 1, 1, 1): 691,\n",
       "                      (0, 1, 2, 0): 3,\n",
       "                      (0, 2, 1, 0): 2,\n",
       "                      (0, 3, 1, 0): 24,\n",
       "                      (0, 4, 1, 0): 360,\n",
       "                      (0, 4, 1, 1): 2,\n",
       "                      (0, 4, 2, 0): 5,\n",
       "                      (1, 1): 14,\n",
       "                      (1, 1, 1, 0): 9294,\n",
       "                      (1, 1, 1, 1): 197,\n",
       "                      (1, 2, 1, 0): 11,\n",
       "                      (1, 2, 1, 1): 1,\n",
       "                      (1, 2, 2, 0): 2,\n",
       "                      (1, 3, 1, 0): 741,\n",
       "                      (1, 3, 1, 1): 2,\n",
       "                      (1, 3, 2, 0): 939,\n",
       "                      (1, 4, 1, 0): 13215,\n",
       "                      (1, 4, 1, 1): 3,\n",
       "                      (1, 4, 2, 0): 1559,\n",
       "                      (2, 0): 165,\n",
       "                      (2, 1): 15,\n",
       "                      (2, 3, 1, 0): 0,\n",
       "                      (2, 3, 2, 0): 1,\n",
       "                      (2, 4, 1, 1): 0}),\n",
       "             (1,\n",
       "              3,\n",
       "              2): Counter({(0, 1, 1, 0): 685,\n",
       "                      (0, 1, 1, 1): 262,\n",
       "                      (0, 2, 1, 0): 1,\n",
       "                      (0, 2, 1, 1): 1,\n",
       "                      (0, 3, 1, 0): 11,\n",
       "                      (0, 3, 2, 0): 4,\n",
       "                      (0, 4, 1, 0): 365,\n",
       "                      (0, 4, 1, 1): 1,\n",
       "                      (0, 4, 2, 0): 106,\n",
       "                      (1, 1): 8,\n",
       "                      (1, 1, 1, 0): 753,\n",
       "                      (1, 1, 1, 1): 88,\n",
       "                      (1, 1, 2, 0): 1,\n",
       "                      (1, 2, 2, 0): 4,\n",
       "                      (1, 3, 1, 0): 73,\n",
       "                      (1, 3, 2, 0): 488,\n",
       "                      (1, 4, 1, 0): 1917,\n",
       "                      (1, 4, 1, 1): 2,\n",
       "                      (1, 4, 2, 0): 3988,\n",
       "                      (2, 0): 38,\n",
       "                      (2, 1): 4,\n",
       "                      (2, 4, 1, 1): 0,\n",
       "                      (2, 4, 2, 0): 0}),\n",
       "             (1,\n",
       "              4,\n",
       "              1): Counter({(0, 1, 1, 0): 398,\n",
       "                      (0, 1, 1, 1): 1443,\n",
       "                      (0, 2, 2, 0): 1,\n",
       "                      (0, 3, 1, 1): 1,\n",
       "                      (0, 4, 1, 0): 10,\n",
       "                      (1, 1): 15,\n",
       "                      (1, 1, 1, 0): 390,\n",
       "                      (1, 1, 1, 1): 12589,\n",
       "                      (1, 2, 1, 0): 1,\n",
       "                      (1, 2, 1, 1): 5,\n",
       "                      (1, 3, 1, 0): 2,\n",
       "                      (1, 3, 1, 1): 1,\n",
       "                      (1, 4, 1, 0): 323,\n",
       "                      (1, 4, 1, 1): 1,\n",
       "                      (1, 4, 2, 0): 224,\n",
       "                      (2, 0): 7,\n",
       "                      (2, 1): 19,\n",
       "                      (2, 1, 1, 1): 1}),\n",
       "             (1,\n",
       "              4,\n",
       "              2): Counter({(0, 1, 1, 0): 97,\n",
       "                      (0, 1, 1, 1): 923,\n",
       "                      (0, 2, 2, 1): 1,\n",
       "                      (0, 4, 1, 0): 9,\n",
       "                      (0, 4, 2, 0): 3,\n",
       "                      (1, 1): 4,\n",
       "                      (1, 1, 1, 0): 38,\n",
       "                      (1, 1, 1, 1): 5030,\n",
       "                      (1, 1, 2, 1): 1,\n",
       "                      (1, 2, 1, 1): 1,\n",
       "                      (1, 2, 2, 0): 1,\n",
       "                      (1, 3, 2, 0): 1,\n",
       "                      (1, 4, 1, 0): 20,\n",
       "                      (1, 4, 2, 0): 193,\n",
       "                      (2, 0): 3,\n",
       "                      (2, 1): 6}),\n",
       "             (2,): Counter({(3, 0): 10629, (4, 0): 293, (5, 0): 432}),\n",
       "             (2, 1, 1): Counter({(1, 1, 1, 0): 1}),\n",
       "             (2, 2, 1): Counter({(1, 1, 1, 0): 1}),\n",
       "             (2, 3, 2): Counter({(1, 4, 2, 0): 1}),\n",
       "             (3,): Counter({(5, 0): 10629}),\n",
       "             (4,): Counter({(5, 0): 293}),\n",
       "             (5,): Counter({(0, 0): 2,\n",
       "                      (0, 1): 1,\n",
       "                      (0, 1, 1, 0): 155,\n",
       "                      (0, 1, 1, 1): 755,\n",
       "                      (0, 1, 2, 1): 2,\n",
       "                      (0, 2, 1, 0): 21,\n",
       "                      (0, 2, 1, 1): 17,\n",
       "                      (0, 2, 2, 1): 9,\n",
       "                      (0, 3, 1, 0): 4,\n",
       "                      (0, 3, 1, 1): 1,\n",
       "                      (0, 4, 1, 0): 2,\n",
       "                      (0, 4, 1, 1): 1,\n",
       "                      (0, 4, 2, 1): 1,\n",
       "                      (1, 1, 1, 0): 227,\n",
       "                      (1, 1, 1, 1): 16934,\n",
       "                      (1, 1, 2, 0): 2,\n",
       "                      (1, 1, 2, 1): 6,\n",
       "                      (1, 2, 1, 0): 13,\n",
       "                      (1, 2, 1, 1): 129,\n",
       "                      (1, 2, 2, 0): 1,\n",
       "                      (1, 2, 2, 1): 15,\n",
       "                      (1, 3, 1, 0): 2,\n",
       "                      (1, 3, 1, 1): 3,\n",
       "                      (1, 3, 2, 0): 2,\n",
       "                      (1, 3, 2, 1): 1,\n",
       "                      (1, 4, 1, 0): 3,\n",
       "                      (2, 0): 2,\n",
       "                      (2, 1): 10})})"
      ]
     },
     "execution_count": 151,
     "metadata": {},
     "output_type": "execute_result"
    }
   ],
   "source": [
    "counts"
   ]
  },
  {
   "cell_type": "code",
   "execution_count": 152,
   "metadata": {
    "collapsed": false
   },
   "outputs": [
    {
     "name": "stdout",
     "output_type": "stream",
     "text": [
      "50.53880779750853\n",
      "-3.0254012763143785\n",
      "0.7346938775510204\n"
     ]
    }
   ],
   "source": [
    "for i in range(3):\n",
    "    print(metrics[i] / len(test_data))"
   ]
  },
  {
   "cell_type": "code",
   "execution_count": 153,
   "metadata": {
    "collapsed": false
   },
   "outputs": [
    {
     "name": "stdout",
     "output_type": "stream",
     "text": [
      "-35 36\n"
     ]
    },
    {
     "data": {
      "image/png": "[encoded data removed]",
      "text/plain": [
       "<matplotlib.figure.Figure at 0x128e45dd8>"
      ]
     },
     "metadata": {},
     "output_type": "display_data"
    }
   ],
   "source": [
    "pdf = predicted_score_difference((1, 1, 1, 0), 43)\n",
    "score_diff = []\n",
    "probability = []\n",
    "smallest = sorted(pdf.items())[0][0]\n",
    "largest = sorted(pdf.items())[-1][0]\n",
    "print(smallest, largest)\n",
    "for s in range(-40, 41):\n",
    "    p = pdf[s]\n",
    "    score_diff.append(s)\n",
    "    probability.append(p)\n",
    "pylab.rcParams['figure.figsize'] = (25.0, 16.0)\n",
    "indexes = np.arange(len(score_diff))\n",
    "width = 1\n",
    "\n",
    "plt.bar(indexes, probability, width)\n",
    "plt.xticks(indexes + width * 0.5, score_diff)\n",
    "plt.show()"
   ]
  },
  {
   "cell_type": "code",
   "execution_count": 154,
   "metadata": {
    "collapsed": false
   },
   "outputs": [],
   "source": [
    "p2 = [0.0,\n",
    " 0.0,\n",
    " 0.0,\n",
    " 0.0,\n",
    " 0.0,\n",
    " 8.590913049238271e-08,\n",
    " 5.0368203818119676e-08,\n",
    " 0.0,\n",
    " 1.5711050756106297e-08,\n",
    " 2.548633682137432e-07,\n",
    " 2.6705686233336825e-07,\n",
    " 2.2177029473051696e-06,\n",
    " 2.037014604185237e-05,\n",
    " 9.296077812488939e-06,\n",
    " 1.5850385583882454e-06,\n",
    " 6.277214890443037e-06,\n",
    " 5.011779136713652e-05,\n",
    " 2.3572892652339315e-05,\n",
    " 0.00010405134611239556,\n",
    " 0.001239967044119184,\n",
    " 0.00037407134633000994,\n",
    " 6.821197429555011e-05,\n",
    " 0.0004495251651954358,\n",
    " 0.0026115492896615776,\n",
    " 0.0005797023174168079,\n",
    " 0.001137845216986586,\n",
    " 0.019016131121245405,\n",
    " 0.004453014910757983,\n",
    " 0.0009608433304050931,\n",
    " 0.010186653540399855,\n",
    " 0.029217967145849514,\n",
    " 0.003118157385082037,\n",
    " 0.004712402539546323,\n",
    " 0.08921577953533989,\n",
    " 0.017702187046593078,\n",
    " 0.0030762228689117485,\n",
    " 0.058551314514242815,\n",
    " 0.07531590013439553,\n",
    " 0.003827710712997583,\n",
    " 0.017395923425741425,\n",
    " 0.17108356029438385,\n",
    " 0.014171072690631397,\n",
    " 0.00496711010842484,\n",
    " 0.10213584975602819,\n",
    " 0.05876123514674941,\n",
    " 0.003581810351036449,\n",
    " 0.03014598223630368,\n",
    " 0.12043584073974453,\n",
    " 0.006401019994826536,\n",
    " 0.0061579744404007385,\n",
    " 0.05581803490536087,\n",
    " 0.015448034944679443,\n",
    " 0.0018260290038738262,\n",
    " 0.010416756617782911,\n",
    " 0.03608635802669192,\n",
    " 0.0022258365342286844,\n",
    " 0.0016184951918991543,\n",
    " 0.008202853469914815,\n",
    " 0.0011983751882454657,\n",
    " 0.0002042244313135899,\n",
    " 0.0010939697642543282,\n",
    " 0.0037435135945758017,\n",
    " 0.0003172356907138771,\n",
    " 9.948837804318133e-05,\n",
    " 0.00024561785569479324,\n",
    " 2.8044164508722404e-05,\n",
    " 6.822311534540335e-06,\n",
    " 3.960782358468145e-05,\n",
    " 9.450511810154042e-05,\n",
    " 1.0376668501719334e-05,\n",
    " 1.5622343689044508e-06,\n",
    " 1.7725786993998285e-06,\n",
    " 2.0078199436476908e-07,\n",
    " 6.761828914708405e-08,\n",
    " 3.7279793340999653e-07,\n",
    " 6.115440315199974e-07,\n",
    " 7.386088970538335e-08,\n",
    " 0.0,\n",
    " 0.0,\n",
    " 0.0,\n",
    " 0.0]"
   ]
  },
  {
   "cell_type": "code",
   "execution_count": 155,
   "metadata": {
    "collapsed": false
   },
   "outputs": [
    {
     "data": {
      "image/png": "[encoded data removed]",
      "text/plain": [
       "<matplotlib.figure.Figure at 0x144e93780>"
      ]
     },
     "metadata": {},
     "output_type": "display_data"
    }
   ],
   "source": [
    "\n",
    "indexes = np.arange(len(score_diff))\n",
    "width = 1\n",
    "\n",
    "plt.bar(indexes, probability, width, color = 'r')\n",
    "plt.bar(indexes, p2)\n",
    "plt.xticks(indexes + width * 0.5, score_diff)\n",
    "plt.show()"
   ]
  },
  {
   "cell_type": "code",
   "execution_count": 156,
   "metadata": {
    "collapsed": false
   },
   "outputs": [
    {
     "data": {
      "text/plain": [
       "0.9999995507112044"
      ]
     },
     "execution_count": 156,
     "metadata": {},
     "output_type": "execute_result"
    }
   ],
   "source": [
    "sum(pdf.values())"
   ]
  },
  {
   "cell_type": "code",
   "execution_count": 157,
   "metadata": {
    "collapsed": false
   },
   "outputs": [
    {
     "data": {
      "text/plain": [
       "0.9999995395427517"
      ]
     },
     "execution_count": 157,
     "metadata": {},
     "output_type": "execute_result"
    }
   ],
   "source": [
    "sum(p2)"
   ]
  },
  {
   "cell_type": "code",
   "execution_count": 158,
   "metadata": {
    "collapsed": false
   },
   "outputs": [
    {
     "data": {
      "text/plain": [
       "0.9999995507112046"
      ]
     },
     "execution_count": 158,
     "metadata": {},
     "output_type": "execute_result"
    }
   ],
   "source": [
    "sum(probability)"
   ]
  },
  {
   "cell_type": "code",
   "execution_count": 159,
   "metadata": {
    "collapsed": false
   },
   "outputs": [
    {
     "data": {
      "text/plain": [
       "0.0478771100794207"
      ]
     },
     "execution_count": 159,
     "metadata": {},
     "output_type": "execute_result"
    }
   ],
   "source": [
    "math.exp(-3.0391177576866233)"
   ]
  },
  {
   "cell_type": "code",
   "execution_count": 160,
   "metadata": {
    "collapsed": false
   },
   "outputs": [
    {
     "data": {
      "text/plain": [
       "0.048971821411601744"
      ]
     },
     "execution_count": 160,
     "metadata": {},
     "output_type": "execute_result"
    }
   ],
   "source": [
    "math.exp(-3.0165102195221607)"
   ]
  },
  {
   "cell_type": "code",
   "execution_count": 161,
   "metadata": {
    "collapsed": false
   },
   "outputs": [
    {
     "data": {
      "text/plain": [
       "{'def': 'a',\n",
       " 'def_team_avg_yards': 4.0,\n",
       " 'down': 1,\n",
       " 'final_diff': -6,\n",
       " 'off': 'a',\n",
       " 'off_team_avg_yards': 5.590909090909091,\n",
       " 'third_diff': -6,\n",
       " 'togo': 10,\n",
       " 'yard_line': 18,\n",
       " 'ydline': 18}"
      ]
     },
     "execution_count": 161,
     "metadata": {},
     "output_type": "execute_result"
    }
   ],
   "source": [
    "test_data[0]"
   ]
  },
  {
   "cell_type": "code",
   "execution_count": 162,
   "metadata": {
    "collapsed": true
   },
   "outputs": [],
   "source": [
    "score_diff_counts = collections.Counter()\n",
    "for game in test_data:\n",
    "    if game['down'] != -1:\n",
    "        score_diff_counts[game['final_diff'] - game['third_diff']] += 1"
   ]
  },
  {
   "cell_type": "code",
   "execution_count": 163,
   "metadata": {
    "collapsed": false
   },
   "outputs": [
    {
     "data": {
      "text/plain": [
       "291"
      ]
     },
     "execution_count": 163,
     "metadata": {},
     "output_type": "execute_result"
    }
   ],
   "source": [
    "sum(score_diff_counts.values())"
   ]
  },
  {
   "cell_type": "code",
   "execution_count": 164,
   "metadata": {
    "collapsed": false
   },
   "outputs": [
    {
     "data": {
      "image/png": "[encoded data removed]",
      "text/plain": [
       "<matplotlib.figure.Figure at 0x144d7d780>"
      ]
     },
     "metadata": {},
     "output_type": "display_data"
    }
   ],
   "source": [
    "p3 = []\n",
    "for i in range(-40, 41):\n",
    "    p3.append(score_diff_counts[i] / sum(score_diff_counts.values()))\n",
    "indexes = np.arange(len(score_diff))\n",
    "width = 1\n",
    "\n",
    "plt.bar(indexes, probability, width, color = 'r')\n",
    "plt.bar(indexes, p3, color = 'k')\n",
    "plt.bar(indexes, p2, color = 'b')\n",
    "plt.xticks(indexes + width * 0.5, score_diff)\n",
    "plt.show()"
   ]
  },
  {
   "cell_type": "code",
   "execution_count": 165,
   "metadata": {
    "collapsed": false
   },
   "outputs": [
    {
     "data": {
      "text/plain": [
       "0.14776632302405499"
      ]
     },
     "execution_count": 165,
     "metadata": {},
     "output_type": "execute_result"
    }
   ],
   "source": [
    "p3[40]"
   ]
  },
  {
   "cell_type": "code",
   "execution_count": null,
   "metadata": {
    "collapsed": true
   },
   "outputs": [],
   "source": []
  }
 ],
 "metadata": {
  "anaconda-cloud": {},
  "kernelspec": {
   "display_name": "Python [Root]",
   "language": "python",
   "name": "Python [Root]"
  },
  "language_info": {
   "codemirror_mode": {
    "name": "ipython",
    "version": 3
   },
   "file_extension": ".py",
   "mimetype": "text/x-python",
   "name": "python",
   "nbconvert_exporter": "python",
   "pygments_lexer": "ipython3",
   "version": "3.5.2"
  }
 },
 "nbformat": 4,
 "nbformat_minor": 0
}
