{
 "cells": [
  {
   "cell_type": "code",
   "execution_count": 1,
   "metadata": {
    "collapsed": true
   },
   "outputs": [],
   "source": [
    "import csv\n",
    "import collections\n",
    "import numpy as np"
   ]
  },
  {
   "cell_type": "code",
   "execution_count": 2,
   "metadata": {
    "collapsed": false
   },
   "outputs": [],
   "source": [
    "data_dict = []\n",
    "with open('NFLPlaybyPlay2015.csv', 'r') as csv_file:\n",
    "    reader = csv.DictReader(csv_file)\n",
    "    for line in enumerate(reader):\n",
    "        data_dict.append(line[1])"
   ]
  },
  {
   "cell_type": "code",
   "execution_count": 3,
   "metadata": {
    "collapsed": false
   },
   "outputs": [],
   "source": [
    "\n",
    "games = collections.defaultdict(list)\n",
    "for row in data_dict:\n",
    "    games[row['GameID']].append(row)\n",
    "games = list(games.values())"
   ]
  },
  {
   "cell_type": "code",
   "execution_count": 4,
   "metadata": {
    "collapsed": true
   },
   "outputs": [],
   "source": [
    "fields = ['PosTeamScore', 'DefTeamScore', 'TimeSecs', 'down', 'yrdline100', 'ydstogo']"
   ]
  },
  {
   "cell_type": "code",
   "execution_count": 5,
   "metadata": {
    "collapsed": false
   },
   "outputs": [],
   "source": [
    "def has_data_for_winner(play):\n",
    "    try:\n",
    "        int(play['DefTeamScore'])\n",
    "        int(play['PosTeamScore'])\n",
    "    except:\n",
    "        return False\n",
    "    if play['posteam'] == 'NA':\n",
    "        return False\n",
    "    if play['DefensiveTeam'] == 'NA':\n",
    "        return False\n",
    "    return True\n",
    "\n",
    "def extract_features(play):\n",
    "    \n",
    "    features = []\n",
    "    try:\n",
    "        for field in fields:\n",
    "            features.append(int(play[field]))\n",
    "    except:\n",
    "        return None\n",
    "    return features\n",
    "\n",
    "class Game:\n",
    "    \n",
    "    def __init__(self, game_data):\n",
    "        self.game_data = game_data\n",
    "\n",
    "    \n",
    "    def get_winner(self):\n",
    "        last_play = None\n",
    "        for i in range(1,100):\n",
    "            if has_data_for_winner(self.game_data[-i]):\n",
    "                last_play = self.game_data[-i]\n",
    "                break\n",
    "                \n",
    "        if int(last_play['DefTeamScore']) > int(last_play['PosTeamScore']):\n",
    "            return last_play['DefensiveTeam']\n",
    "        elif int(last_play['PosTeamScore']) > int(last_play['DefTeamScore']):\n",
    "            return last_play['posteam']\n",
    "        return None\n",
    "    \n",
    "    def plays_offensive_team_won(self):\n",
    "        winner = self.get_winner()\n",
    "        plays = []\n",
    "        for play in self.game_data:\n",
    "            if play['posteam'] == winner:\n",
    "                plays.append(play)\n",
    "        return plays\n",
    "    \n",
    "    def plays_defensive_team_won(self):\n",
    "        winner = self.get_winner()\n",
    "        plays = []\n",
    "        for play in self.game_data:\n",
    "            if play['DefensiveTeam'] == winner:\n",
    "                plays.append(play)\n",
    "        return plays\n",
    "    \n",
    "    def positive_features(self):\n",
    "        features = []\n",
    "        for play in self.plays_offensive_team_won():\n",
    "            if extract_features(play):\n",
    "                features.append(extract_features(play))\n",
    "        return features\n",
    "    \n",
    "    def negative_features(self):\n",
    "        features = []\n",
    "        for play in self.plays_defensive_team_won():\n",
    "            if extract_features(play):\n",
    "                features.append(extract_features(play))\n",
    "        return features\n",
    "    "
   ]
  },
  {
   "cell_type": "code",
   "execution_count": 6,
   "metadata": {
    "collapsed": false
   },
   "outputs": [],
   "source": [
    "positive_examples = []\n",
    "negative_examples = []\n",
    "for game in games:\n",
    "    positive_examples += Game(game).positive_features()\n",
    "    negative_examples += Game(game).negative_features()\n",
    "positive_examples = np.array(positive_examples)\n",
    "negative_examples = np.array(negative_examples)"
   ]
  },
  {
   "cell_type": "code",
   "execution_count": 7,
   "metadata": {
    "collapsed": false
   },
   "outputs": [
    {
     "name": "stdout",
     "output_type": "stream",
     "text": [
      "(19568, 6)\n",
      "(19294, 6)\n"
     ]
    }
   ],
   "source": [
    "print(positive_examples.shape)\n",
    "print(negative_examples.shape)"
   ]
  },
  {
   "cell_type": "code",
   "execution_count": 8,
   "metadata": {
    "collapsed": false
   },
   "outputs": [
    {
     "data": {
      "text/plain": [
       "array([[   0,    0, 3481,    1,   66,   10],\n",
       "       [   0,    0, 3445,    2,   64,    8],\n",
       "       [   0,    0, 3404,    3,   66,   10],\n",
       "       ..., \n",
       "       [  24,   29,   32,    2,    6,    6],\n",
       "       [  30,   29,   28,    3,    6,    6],\n",
       "       [  31,   29,    5,    1,   51,   10]])"
      ]
     },
     "execution_count": 8,
     "metadata": {},
     "output_type": "execute_result"
    }
   ],
   "source": [
    "positive_examples"
   ]
  },
  {
   "cell_type": "code",
   "execution_count": 9,
   "metadata": {
    "collapsed": false
   },
   "outputs": [
    {
     "data": {
      "text/plain": [
       "array([[   0,    0, 3600,    1,   80,   10],\n",
       "       [   0,    0, 3568,    2,   76,    6],\n",
       "       [   0,    0, 3527,    3,   78,    8],\n",
       "       ..., \n",
       "       [  29,   31,   24,    1,   80,   10],\n",
       "       [  29,   31,   18,    1,   64,   10],\n",
       "       [  29,   31,   12,    2,   58,    4]])"
      ]
     },
     "execution_count": 9,
     "metadata": {},
     "output_type": "execute_result"
    }
   ],
   "source": [
    "negative_examples"
   ]
  },
  {
   "cell_type": "code",
   "execution_count": null,
   "metadata": {
    "collapsed": true
   },
   "outputs": [],
   "source": []
  }
 ],
 "metadata": {
  "kernelspec": {
   "display_name": "Python [Root]",
   "language": "python",
   "name": "Python [Root]"
  },
  "language_info": {
   "codemirror_mode": {
    "name": "ipython",
    "version": 3
   },
   "file_extension": ".py",
   "mimetype": "text/x-python",
   "name": "python",
   "nbconvert_exporter": "python",
   "pygments_lexer": "ipython3",
   "version": "3.5.2"
  }
 },
 "nbformat": 4,
 "nbformat_minor": 0
}
