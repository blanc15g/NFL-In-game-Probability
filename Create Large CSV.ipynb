{
 "cells": [
  {
   "cell_type": "code",
   "execution_count": 1,
   "metadata": {
    "collapsed": true
   },
   "outputs": [],
   "source": [
    "import csv\n",
    "import collections\n",
    "import numpy as np"
   ]
  },
  {
   "cell_type": "code",
   "execution_count": 63,
   "metadata": {
    "collapsed": false
   },
   "outputs": [],
   "source": [
    "data_dict_new = []\n",
    "for year in range(2013, 2016):   \n",
    "    with open('%s NFL Play-by-Play Data.csv' % year, 'r') as csv_file:\n",
    "        reader = csv.DictReader(csv_file)\n",
    "        for line in enumerate(reader):\n",
    "            data_dict_new.append(line[1])"
   ]
  },
  {
   "cell_type": "code",
   "execution_count": 64,
   "metadata": {
    "collapsed": false
   },
   "outputs": [
    {
     "data": {
      "text/plain": [
       "96936"
      ]
     },
     "execution_count": 64,
     "metadata": {},
     "output_type": "execute_result"
    }
   ],
   "source": [
    "len(data_dict_new)"
   ]
  },
  {
   "cell_type": "code",
   "execution_count": 60,
   "metadata": {
    "collapsed": false
   },
   "outputs": [],
   "source": [
    "data_dict_old = []\n",
    "for year in range(2002, 2013):\n",
    "    if year < 2012:\n",
    "        with open('%s_nfl_pbp_data.csv' % year, 'r') as csv_file:\n",
    "            reader = csv.DictReader(csv_file)\n",
    "            for line in enumerate(reader):\n",
    "                data_dict_old.append(line[1])\n",
    "    else:\n",
    "        with open('%s_nfl_pbp_data.csv' % year, encoding = 'latin-1') as csv_file:\n",
    "            reader = csv.DictReader(csv_file)\n",
    "            for line in enumerate(reader):\n",
    "                data_dict_old.append(line[1])"
   ]
  },
  {
   "cell_type": "code",
   "execution_count": 57,
   "metadata": {
    "collapsed": false
   },
   "outputs": [],
   "source": [
    "year = 2012\n",
    "count = 0\n",
    "with open('%s_nfl_pbp_data.csv' % year, encoding = 'latin-1') as csv_file:\n",
    "    f = csv_file.read()"
   ]
  },
  {
   "cell_type": "code",
   "execution_count": 59,
   "metadata": {
    "collapsed": false
   },
   "outputs": [
    {
     "data": {
      "text/plain": [
       "'g'"
      ]
     },
     "execution_count": 59,
     "metadata": {},
     "output_type": "execute_result"
    }
   ],
   "source": [
    "f[0]"
   ]
  },
  {
   "cell_type": "code",
   "execution_count": 61,
   "metadata": {
    "collapsed": false
   },
   "outputs": [
    {
     "data": {
      "text/plain": [
       "473900"
      ]
     },
     "execution_count": 61,
     "metadata": {},
     "output_type": "execute_result"
    }
   ],
   "source": [
    "len(data_dict_old)"
   ]
  },
  {
   "cell_type": "code",
   "execution_count": 22,
   "metadata": {
    "collapsed": false
   },
   "outputs": [
    {
     "data": {
      "text/plain": [
       "611546"
      ]
     },
     "execution_count": 22,
     "metadata": {},
     "output_type": "execute_result"
    }
   ],
   "source": [
    "len(data_dict_new) + len(data_dict_old)"
   ]
  },
  {
   "cell_type": "code",
   "execution_count": 23,
   "metadata": {
    "collapsed": false
   },
   "outputs": [
    {
     "data": {
      "text/plain": [
       "13"
      ]
     },
     "execution_count": 23,
     "metadata": {},
     "output_type": "execute_result"
    }
   ],
   "source": [
    "len(data_dict_old[0])"
   ]
  },
  {
   "cell_type": "code",
   "execution_count": 24,
   "metadata": {
    "collapsed": false
   },
   "outputs": [
    {
     "data": {
      "text/plain": [
       "{'def': 'NYG',\n",
       " 'defscore': '0',\n",
       " 'description': 'J.Cortez kicks 75 yards from SF 30 to NYG -5. R.Dixon  Touchback.',\n",
       " 'down': '',\n",
       " 'gameid': '20020905_SF@NYG',\n",
       " 'min': '',\n",
       " 'off': 'SF',\n",
       " 'offscore': '0',\n",
       " 'qtr': '1',\n",
       " 'season': '2002',\n",
       " 'sec': '0',\n",
       " 'togo': '',\n",
       " 'ydline': ''}"
      ]
     },
     "execution_count": 24,
     "metadata": {},
     "output_type": "execute_result"
    }
   ],
   "source": [
    "data_dict_old[0]"
   ]
  },
  {
   "cell_type": "code",
   "execution_count": 28,
   "metadata": {
    "collapsed": true
   },
   "outputs": [],
   "source": [
    "def compute_time_old(d):\n",
    "    try:\n",
    "        sec = int(d['sec'])\n",
    "        minute = int(d['min'])\n",
    "    except:\n",
    "        return None\n",
    "    if sec is None or minute is None or sec < 0 or minute < 0:\n",
    "        return None\n",
    "    return 60 * minute + sec\n",
    "    "
   ]
  },
  {
   "cell_type": "code",
   "execution_count": 31,
   "metadata": {
    "collapsed": false
   },
   "outputs": [
    {
     "data": {
      "text/plain": [
       "3565"
      ]
     },
     "execution_count": 31,
     "metadata": {},
     "output_type": "execute_result"
    }
   ],
   "source": [
    "compute_time_old(data_dict_old[2])"
   ]
  },
  {
   "cell_type": "code",
   "execution_count": 33,
   "metadata": {
    "collapsed": false
   },
   "outputs": [],
   "source": [
    "features_old = ['gameid', 'off', 'def', 'offscore', 'defscore', 'down', 'togo', 'ydline']"
   ]
  },
  {
   "cell_type": "code",
   "execution_count": 74,
   "metadata": {
    "collapsed": true
   },
   "outputs": [],
   "source": [
    "data = []"
   ]
  },
  {
   "cell_type": "code",
   "execution_count": 75,
   "metadata": {
    "collapsed": true
   },
   "outputs": [],
   "source": [
    "for play in data_dict_old:\n",
    "    row = []\n",
    "    for feature in features_old:\n",
    "        if play[feature]:\n",
    "            row.append(play[feature])\n",
    "    if compute_time_old(play):\n",
    "        row.append(compute_time_old(play))\n",
    "    if len(row) == len(features_old) + 1:\n",
    "        data.append(row)"
   ]
  },
  {
   "cell_type": "code",
   "execution_count": 76,
   "metadata": {
    "collapsed": false
   },
   "outputs": [
    {
     "data": {
      "text/plain": [
       "427166"
      ]
     },
     "execution_count": 76,
     "metadata": {},
     "output_type": "execute_result"
    }
   ],
   "source": [
    "len(data)"
   ]
  },
  {
   "cell_type": "code",
   "execution_count": 67,
   "metadata": {
    "collapsed": false
   },
   "outputs": [
    {
     "data": {
      "text/plain": [
       "{'Absolute Score Differential': '18',\n",
       " 'Conversion Count': '0',\n",
       " 'Date': '9/5/13',\n",
       " 'Detail': 'Joe Flacco pass complete short right to Brandon Stokley for 9 yards (tackle by Duke Ihenacho)',\n",
       " 'Down': '2',\n",
       " 'Fantasy Points Passer Interception ': '0',\n",
       " 'Fantasy Points Passer TD ': '0',\n",
       " 'Fantasy Points Passer Yards ': '0.36',\n",
       " 'Fantasy Points Playmaker Fumble': '0',\n",
       " 'Fantasy Points Receiving TD ': '0',\n",
       " 'Fantasy Points Receiving Yards ': '0.9',\n",
       " 'Fantasy Points Receptions ': '0.5',\n",
       " 'Fantasy Points Rushing TD ': '0',\n",
       " 'Fantasy Points Rushing Yards ': '0',\n",
       " 'First Down': '',\n",
       " 'First Down Count': '0',\n",
       " 'Fumble': '',\n",
       " 'Fumble Count': '0',\n",
       " 'Game Week': '1',\n",
       " 'Goal To Go': '0',\n",
       " 'Intended Receiver': '',\n",
       " 'Interception': '',\n",
       " 'Interception Thrown': '0',\n",
       " 'Len': '93',\n",
       " 'Len Penalty': '93',\n",
       " 'Opp': 'Broncos',\n",
       " 'Opp Score': '35',\n",
       " 'Pass Attempt': '1',\n",
       " 'Pass Distance': 'Short',\n",
       " 'Pass Location': 'Right',\n",
       " 'Pass Result': 'Complete',\n",
       " 'Passer': 'Joe Flacco',\n",
       " 'Passer Fantasy Points': '0.36',\n",
       " 'Penalty Removed Detail': 'Joe Flacco pass complete short right to Brandon Stokley for 9 yards (tackle by Duke Ihenacho)',\n",
       " 'Play Attempts': '1',\n",
       " 'Play Location': 'Short Right',\n",
       " 'Play Percent of Goal': '0.9',\n",
       " 'Play Type': 'Pass',\n",
       " 'Playmaker': 'Brandon Stokley',\n",
       " 'Playmaker Fantasy Points': '1.4',\n",
       " 'Playmaker Position': 'WR',\n",
       " 'Quarter': '3',\n",
       " 'Receiver': 'Brandon Stokley',\n",
       " 'Reception': '1',\n",
       " 'Run Location': '',\n",
       " 'Rush Attempt': '0',\n",
       " 'Rusher': '',\n",
       " 'Sack': '0',\n",
       " 'Score Differential': '-18',\n",
       " 'Side of Field': 'RAV',\n",
       " 'Success Count': '1',\n",
       " 'Target': '1',\n",
       " 'Targeted Receiver': 'Brandon Stokley',\n",
       " 'Team Game Location': 'Away',\n",
       " 'Team Game Number': '1',\n",
       " 'Time': '6:30:00',\n",
       " 'Time Under': '7',\n",
       " 'Tm': 'Ravens',\n",
       " 'Tm Score': '17',\n",
       " 'ToGo': '10',\n",
       " 'Touchdown': '',\n",
       " 'Touchdown Count': '0',\n",
       " 'Touches': '1',\n",
       " 'Turnover': '0',\n",
       " 'Yard Line': '80',\n",
       " 'Yard Marker': '20',\n",
       " 'Yards Gained': '9',\n",
       " 'Yds': '9'}"
      ]
     },
     "execution_count": 67,
     "metadata": {},
     "output_type": "execute_result"
    }
   ],
   "source": [
    "data_dict_new[100]"
   ]
  },
  {
   "cell_type": "code",
   "execution_count": 66,
   "metadata": {
    "collapsed": true
   },
   "outputs": [],
   "source": [
    "def compute_time_new(d):\n",
    "    try:\n",
    "        t = d['Time']\n",
    "        minute,sec,extra = t.split(':')\n",
    "        \n",
    "        sec = int(sec)\n",
    "        minute = int(minute)\n",
    "        quarter = int(d['Quarter'])\n",
    "        if quarter < 1 or quarter > 4:\n",
    "            return None\n",
    "        if minute < 0:\n",
    "            return None\n",
    "        if sec < 0:\n",
    "            return None\n",
    "        return (4-quarter) * 60 * 15 + minute * 60 + sec\n",
    "    except:\n",
    "        return None"
   ]
  },
  {
   "cell_type": "code",
   "execution_count": 72,
   "metadata": {
    "collapsed": true
   },
   "outputs": [],
   "source": [
    "def gameid(d):\n",
    "    try:\n",
    "        return ''.join(sorted([d['Date'], d['Tm'], d['Opp']]))\n",
    "    return None"
   ]
  },
  {
   "cell_type": "code",
   "execution_count": 78,
   "metadata": {
    "collapsed": false
   },
   "outputs": [],
   "source": [
    "features_new = ['Tm', 'Opp', 'Tm Score', 'Opp Score', 'Down', 'ToGo', 'Yard Line']"
   ]
  },
  {
   "cell_type": "code",
   "execution_count": 73,
   "metadata": {
    "collapsed": false
   },
   "outputs": [
    {
     "data": {
      "text/plain": [
       "'9/5/13BroncosRavens'"
      ]
     },
     "execution_count": 73,
     "metadata": {},
     "output_type": "execute_result"
    }
   ],
   "source": [
    "gameid(data_dict_new[0])"
   ]
  },
  {
   "cell_type": "code",
   "execution_count": 79,
   "metadata": {
    "collapsed": false
   },
   "outputs": [],
   "source": [
    "for play in data_dict_new:\n",
    "    row = []\n",
    "    if gameid(play):\n",
    "        row.append(gameid(play))\n",
    "    for feature in features_new:\n",
    "        if play[feature]:\n",
    "            row.append(play[feature])\n",
    "    if compute_time_new(play):\n",
    "        row.append(compute_time_new(play))\n",
    "    if len(row) == len(features_new) + 2:\n",
    "        data.append(row)"
   ]
  },
  {
   "cell_type": "code",
   "execution_count": 80,
   "metadata": {
    "collapsed": false
   },
   "outputs": [
    {
     "data": {
      "text/plain": [
       "522848"
      ]
     },
     "execution_count": 80,
     "metadata": {},
     "output_type": "execute_result"
    }
   ],
   "source": [
    "len(data)"
   ]
  },
  {
   "cell_type": "code",
   "execution_count": 82,
   "metadata": {
    "collapsed": false
   },
   "outputs": [],
   "source": [
    "a = set()\n",
    "b = set()\n",
    "for i in data:\n",
    "    a.add(i[1])\n",
    "    b.add(i[2])"
   ]
  },
  {
   "cell_type": "code",
   "execution_count": 85,
   "metadata": {
    "collapsed": false
   },
   "outputs": [
    {
     "data": {
      "text/plain": [
       "True"
      ]
     },
     "execution_count": 85,
     "metadata": {},
     "output_type": "execute_result"
    }
   ],
   "source": [
    "a == b"
   ]
  },
  {
   "cell_type": "code",
   "execution_count": 86,
   "metadata": {
    "collapsed": false
   },
   "outputs": [
    {
     "data": {
      "text/plain": [
       "{'49ers',\n",
       " 'ARI',\n",
       " 'ATL',\n",
       " 'BAL',\n",
       " 'BUF',\n",
       " 'Bears',\n",
       " 'Bengals',\n",
       " 'Bills',\n",
       " 'Broncos',\n",
       " 'Browns',\n",
       " 'Buccaneers',\n",
       " 'CAR',\n",
       " 'CHI',\n",
       " 'CIN',\n",
       " 'CLE',\n",
       " 'Cardinals',\n",
       " 'Chargers',\n",
       " 'Chiefs',\n",
       " 'Colts',\n",
       " 'Cowboys',\n",
       " 'DAL',\n",
       " 'DEN',\n",
       " 'DET',\n",
       " 'Dolphins',\n",
       " 'Eagles',\n",
       " 'Falcons',\n",
       " 'GB',\n",
       " 'Giants',\n",
       " 'HOU',\n",
       " 'IND',\n",
       " 'JAC',\n",
       " 'Jaguars',\n",
       " 'Jets',\n",
       " 'KC',\n",
       " 'Lions',\n",
       " 'MIA',\n",
       " 'MIN',\n",
       " 'NE',\n",
       " 'NO',\n",
       " 'NYG',\n",
       " 'NYJ',\n",
       " 'OAK',\n",
       " 'PHI',\n",
       " 'PIT',\n",
       " 'Packers',\n",
       " 'Panthers',\n",
       " 'Patriots',\n",
       " 'Raiders',\n",
       " 'Rams',\n",
       " 'Ravens',\n",
       " 'Redskins',\n",
       " 'SD',\n",
       " 'SEA',\n",
       " 'SF',\n",
       " 'STL',\n",
       " 'Saints',\n",
       " 'Seahawks',\n",
       " 'Steelers',\n",
       " 'TB',\n",
       " 'TEN',\n",
       " 'Texans',\n",
       " 'Titans',\n",
       " 'Vikings',\n",
       " 'WAS'}"
      ]
     },
     "execution_count": 86,
     "metadata": {},
     "output_type": "execute_result"
    }
   ],
   "source": [
    "a"
   ]
  },
  {
   "cell_type": "code",
   "execution_count": 117,
   "metadata": {
    "collapsed": true
   },
   "outputs": [],
   "source": [
    "mapper = {}\n",
    "mapper['ARI'] = 'Cardinals'\n",
    "mapper['ATL'] = 'Falcons'\n",
    "mapper['BAL'] = 'Ravens'\n",
    "mapper['BUF'] = 'Bills'\n",
    "mapper['CAR'] = 'Panthers'\n",
    "mapper['CHI'] = 'Bears'\n",
    "mapper['CIN'] = 'Bengals'\n",
    "mapper['CLE'] = 'Browns'\n",
    "mapper['DAL'] = 'Cowboys'\n",
    "mapper['DEN'] = 'Broncos'\n",
    "mapper['DET'] = 'Lions'\n",
    "mapper['GB'] = 'Packers'\n",
    "mapper['HOU'] = 'Texans'\n",
    "mapper['IND'] = 'Colts'\n",
    "mapper['JAC'] = 'Jaguars'\n",
    "mapper['KC'] = 'Chiefs'\n",
    "mapper['MIA'] = 'Dolphins'\n",
    "mapper['MIN'] = 'Vikings'\n",
    "mapper['NE'] = 'Patriots'\n",
    "mapper['NO'] = 'Saints'\n",
    "mapper['NYG'] = 'Giants'\n",
    "mapper['NYJ'] = 'Jets'\n",
    "mapper['OAK'] = 'Raiders'\n",
    "mapper['PHI'] = 'Eagles'\n",
    "mapper['PIT'] = 'Steelers'\n",
    "mapper['SD'] = 'Chargers'\n",
    "mapper['SEA'] = 'Seahawks'\n",
    "mapper['SF'] = '49ers'\n",
    "mapper['STL'] = 'Rams'\n",
    "mapper['TB'] = 'Buccaneers'\n",
    "mapper['TEN'] = 'Titans'\n",
    "mapper['WAS'] = 'Redskins'"
   ]
  },
  {
   "cell_type": "code",
   "execution_count": 118,
   "metadata": {
    "collapsed": true
   },
   "outputs": [],
   "source": [
    "b = set()\n",
    "for i in a:\n",
    "    if i in mapper:\n",
    "        b.add(mapper[i])\n",
    "    else:\n",
    "        b.add(i)"
   ]
  },
  {
   "cell_type": "code",
   "execution_count": 119,
   "metadata": {
    "collapsed": false
   },
   "outputs": [
    {
     "data": {
      "text/plain": [
       "{'49ers',\n",
       " 'Bears',\n",
       " 'Bengals',\n",
       " 'Bills',\n",
       " 'Broncos',\n",
       " 'Browns',\n",
       " 'Buccaneers',\n",
       " 'Cardinals',\n",
       " 'Chargers',\n",
       " 'Chiefs',\n",
       " 'Colts',\n",
       " 'Cowboys',\n",
       " 'Dolphins',\n",
       " 'Eagles',\n",
       " 'Falcons',\n",
       " 'Giants',\n",
       " 'Jaguars',\n",
       " 'Jets',\n",
       " 'Lions',\n",
       " 'Packers',\n",
       " 'Panthers',\n",
       " 'Patriots',\n",
       " 'Raiders',\n",
       " 'Rams',\n",
       " 'Ravens',\n",
       " 'Redskins',\n",
       " 'Saints',\n",
       " 'Seahawks',\n",
       " 'Steelers',\n",
       " 'Texans',\n",
       " 'Titans',\n",
       " 'Vikings'}"
      ]
     },
     "execution_count": 119,
     "metadata": {},
     "output_type": "execute_result"
    }
   ],
   "source": [
    "b"
   ]
  },
  {
   "cell_type": "code",
   "execution_count": 120,
   "metadata": {
    "collapsed": false
   },
   "outputs": [
    {
     "data": {
      "text/plain": [
       "32"
      ]
     },
     "execution_count": 120,
     "metadata": {},
     "output_type": "execute_result"
    }
   ],
   "source": [
    "len(b)"
   ]
  },
  {
   "cell_type": "code",
   "execution_count": 121,
   "metadata": {
    "collapsed": false
   },
   "outputs": [
    {
     "data": {
      "text/plain": [
       "32"
      ]
     },
     "execution_count": 121,
     "metadata": {},
     "output_type": "execute_result"
    }
   ],
   "source": [
    "len(mapper)"
   ]
  },
  {
   "cell_type": "code",
   "execution_count": 123,
   "metadata": {
    "collapsed": false
   },
   "outputs": [],
   "source": [
    "for row in data:\n",
    "    if row[1] in mapper:\n",
    "        row[1] = mapper[row[1]]\n",
    "    if row[2] in mapper:\n",
    "        row[2] = mapper[row[2]]"
   ]
  },
  {
   "cell_type": "code",
   "execution_count": 126,
   "metadata": {
    "collapsed": false
   },
   "outputs": [
    {
     "data": {
      "text/plain": [
       "['1/3/16CowboysRedskins',\n",
       " 'Cowboys',\n",
       " 'Redskins',\n",
       " '16',\n",
       " '34',\n",
       " '1',\n",
       " '7',\n",
       " '7',\n",
       " 270]"
      ]
     },
     "execution_count": 126,
     "metadata": {},
     "output_type": "execute_result"
    }
   ],
   "source": [
    "data[-1]"
   ]
  },
  {
   "cell_type": "code",
   "execution_count": 127,
   "metadata": {
    "collapsed": true
   },
   "outputs": [],
   "source": [
    "headers = ['gameid', 'off', 'def', 'offscore', 'defscore', 'down', 'togo', 'ydline', 'time']"
   ]
  },
  {
   "cell_type": "code",
   "execution_count": 129,
   "metadata": {
    "collapsed": false
   },
   "outputs": [],
   "source": [
    "with open('plays.csv','w') as out:\n",
    "    writer = csv.writer(out)\n",
    "    writer.writerow(headers)\n",
    "    for line in data:\n",
    "        writer.writerow(line)"
   ]
  },
  {
   "cell_type": "code",
   "execution_count": null,
   "metadata": {
    "collapsed": true
   },
   "outputs": [],
   "source": []
  }
 ],
 "metadata": {
  "anaconda-cloud": {},
  "kernelspec": {
   "display_name": "Python [Root]",
   "language": "python",
   "name": "Python [Root]"
  },
  "language_info": {
   "codemirror_mode": {
    "name": "ipython",
    "version": 3
   },
   "file_extension": ".py",
   "mimetype": "text/x-python",
   "name": "python",
   "nbconvert_exporter": "python",
   "pygments_lexer": "ipython3",
   "version": "3.5.2"
  }
 },
 "nbformat": 4,
 "nbformat_minor": 0
}
