{
 "cells": [
  {
   "cell_type": "code",
   "execution_count": 1,
   "metadata": {
    "collapsed": true
   },
   "outputs": [],
   "source": [
    "import csv\n",
    "import numpy as np\n",
    "import collections\n",
    "import matplotlib.mlab as mlab\n",
    "import matplotlib.pyplot as plt"
   ]
  },
  {
   "cell_type": "code",
   "execution_count": 2,
   "metadata": {
    "collapsed": false
   },
   "outputs": [
    {
     "name": "stdout",
     "output_type": "stream",
     "text": [
      "0\n"
     ]
    }
   ],
   "source": [
    "data = []\n",
    "counter = 0\n",
    "with open('train_data.csv', 'r') as f:\n",
    "    reader = csv.DictReader(f)\n",
    "    for i,row in enumerate(reader):\n",
    "        if not row['off'] and not row['def']:\n",
    "            print(i, row)\n",
    "            counter += 1\n",
    "        data.append(row)\n",
    "print(counter)"
   ]
  },
  {
   "cell_type": "code",
   "execution_count": 3,
   "metadata": {
    "collapsed": false
   },
   "outputs": [],
   "source": [
    "grouped_by_game = collections.defaultdict(list)\n",
    "for line in data:\n",
    "    grouped_by_game[line['gameid']].append(line)\n",
    "grouped_by_game = list(grouped_by_game.values())"
   ]
  },
  {
   "cell_type": "code",
   "execution_count": 4,
   "metadata": {
    "collapsed": true
   },
   "outputs": [],
   "source": [
    "for game in grouped_by_game:\n",
    "    for play_dict in game:\n",
    "        for key in play_dict:\n",
    "            try:\n",
    "                play_dict[key] = int(play_dict[key])\n",
    "            except:\n",
    "                pass"
   ]
  },
  {
   "cell_type": "code",
   "execution_count": 5,
   "metadata": {
    "collapsed": false
   },
   "outputs": [],
   "source": [
    "for game in grouped_by_game:\n",
    "    game.sort(key = lambda x: -int(x['time']))"
   ]
  },
  {
   "cell_type": "code",
   "execution_count": 6,
   "metadata": {
    "collapsed": false
   },
   "outputs": [],
   "source": [
    "total_average_yardage = []\n",
    "moving_average = []\n",
    "num_plays_before_calc = 3\n",
    "for game in grouped_by_game:\n",
    "    num_total_yards = (0, 0)\n",
    "    num_plays = (0, 0)\n",
    "    yard_per_play=[]\n",
    "    first_team_yards=0\n",
    "    first_team_plays=0\n",
    "    second_team_yards=0\n",
    "    second_team_plays=0\n",
    "    \n",
    "    for i in range(len(game)-1):\n",
    "        play_dict = game[i]\n",
    "        alph_first_team = play_dict['off'] if play_dict['off']<play_dict['def'] else play_dict['def']\n",
    "        next_play_dict = game[i+1]\n",
    "        if next_play_dict['down'] is not None and play_dict['down'] is not None and play_dict['ydline'] !='' and next_play_dict['ydline'] !='' and next_play_dict['off']==play_dict['off'] and next_play_dict['description'].find('punt')==-1:\n",
    "            progress = play_dict['ydline']-next_play_dict['ydline']\n",
    "            if play_dict['off']==alph_first_team:\n",
    "                first_team_yards+=progress\n",
    "                first_team_plays+=1\n",
    "                if first_team_plays>num_plays_before_calc:\n",
    "                    moving_average.append(first_team_yards/first_team_plays)\n",
    "            else:\n",
    "                second_team_yards+=progress\n",
    "                second_team_plays+=1\n",
    "                if second_team_plays>num_plays_before_calc:\n",
    "                    moving_average.append(second_team_yards/second_team_plays)\n",
    "            yard_per_play.append(progress)\n",
    "            \n",
    "    total_average_yardage.append(first_team_yards/first_team_plays)\n",
    "    total_average_yardage.append(second_team_yards/second_team_plays)"
   ]
  },
  {
   "cell_type": "code",
   "execution_count": 7,
   "metadata": {
    "collapsed": false
   },
   "outputs": [],
   "source": [
    "total_average_yardage = np.array(total_average_yardage).reshape(len(total_average_yardage), 1)\n",
    "moving_average = np.array(moving_average).reshape(len(moving_average), 1)"
   ]
  },
  {
   "cell_type": "code",
   "execution_count": 8,
   "metadata": {
    "collapsed": false,
    "scrolled": true
   },
   "outputs": [
    {
     "data": {
      "image/png": "[encoded data removed]",
      "text/plain": [
       "<matplotlib.figure.Figure at 0x1194e9e10>"
      ]
     },
     "metadata": {},
     "output_type": "display_data"
    }
   ],
   "source": [
    "plt.hist(moving_average, 100)\n",
    "plt.show()"
   ]
  },
  {
   "cell_type": "code",
   "execution_count": 10,
   "metadata": {
    "collapsed": true
   },
   "outputs": [],
   "source": [
    "for i,game in enumerate(grouped_by_game):\n",
    "    first_team_yards=0.0\n",
    "    first_team_plays=0.0\n",
    "    second_team_yards=0.0\n",
    "    second_team_plays=0.0\n",
    "    for j,play_dict in enumerate(game):\n",
    "        if j < len(game)-1:\n",
    "            alph_first_team = play_dict['off'] if play_dict['off']<play_dict['def'] else play_dict['def']\n",
    "            next_play_dict = game[j+1]\n",
    "            if next_play_dict['down'] is not None and play_dict['down'] is not None and play_dict['ydline'] !='' and next_play_dict['ydline'] !='' and next_play_dict['off']==play_dict['off'] and next_play_dict['description'].find('punt')==-1:\n",
    "                progress = play_dict['ydline']-next_play_dict['ydline']\n",
    "                if play_dict['off']==alph_first_team:\n",
    "                    first_team_yards+=progress\n",
    "                    first_team_plays+=1\n",
    "                    play_dict['avg_yards'] = first_team_yards/first_team_plays\n",
    "                    play_dict['num_plays_exec'] = first_team_plays\n",
    "                else:\n",
    "                    second_team_yards+=progress\n",
    "                    second_team_plays+=1\n",
    "                    play_dict['avg_yards'] = second_team_yards/second_team_plays \n",
    "                    play_dict['num_plays_exec'] = second_team_plays\n",
    "            else: #if yards didn't change/it was not a standard play (i.e. field goal)\n",
    "                if play_dict['off']==alph_first_team and first_team_plays>0:\n",
    "                    play_dict['avg_yards'] = first_team_yards/first_team_plays\n",
    "                    play_dict['num_plays_exec'] = first_team_plays\n",
    "                elif second_team_plays>0:\n",
    "                    play_dict['avg_yards'] = second_team_yards/second_team_plays\n",
    "                    play_dict['num_plays_exec'] = second_team_plays"
   ]
  },
  {
   "cell_type": "code",
   "execution_count": 11,
   "metadata": {
    "collapsed": true
   },
   "outputs": [],
   "source": [
    "    twenty_perecentile = np.percentile(moving_average, 20)\n",
    "    forty_percentile = np.percentile(moving_average, 40)\n",
    "    sixty_percentile = np.percentile(moving_average, 60)\n",
    "    eighty_percentile = np.percentile(moving_average, 80)"
   ]
  },
  {
   "cell_type": "code",
   "execution_count": 12,
   "metadata": {
    "collapsed": false
   },
   "outputs": [],
   "source": [
    "def put_into_bucket(play_dict):\n",
    "    yard = play_dict['ydline'] // 10\n",
    "    down = play_dict['down']\n",
    "    if play_dict['togo'] <= 2:\n",
    "        togo = 0\n",
    "    elif play_dict['togo'] <= 4:\n",
    "        togo = 1\n",
    "    elif play_dict['togo'] <= 6:\n",
    "        togo = 2\n",
    "    elif play_dict['togo'] <= 8:\n",
    "        togo = 3\n",
    "    elif play_dict['togo'] <= 10:\n",
    "        togo = 4\n",
    "    elif play_dict['togo'] <= 15:\n",
    "        togo = 5\n",
    "    elif play_dict['togo'] <= 20:\n",
    "        togo = 6\n",
    "    else:\n",
    "        togo = 7\n",
    "    #average yardage\n",
    "    if play_dict['avg_yards'] <= twenty_perecentile:\n",
    "        avg_yards = 1\n",
    "    elif play_dict['avg_yards'] <= forty_percentile:\n",
    "        avg_yards = 2\n",
    "    elif play_dict['avg_yards'] <= sixty_percentile:\n",
    "        avg_yards = 3\n",
    "    elif play_dict['avg_yards'] <= eighty_percentile:\n",
    "        avg_yards = 4\n",
    "    else:\n",
    "        avg_yards = 5\n",
    "    \n",
    "    if play_dict['off'] < play_dict['def']:\n",
    "        posession = 1\n",
    "    else:\n",
    "        posession = 0\n",
    "    return (yard, down, togo, avg_yards, posession)"
   ]
  },
  {
   "cell_type": "code",
   "execution_count": 13,
   "metadata": {
    "collapsed": true
   },
   "outputs": [],
   "source": [
    "def group_by_score_change(game, original_scores = None):\n",
    "    if not game:\n",
    "        return []\n",
    "    if original_scores is None:\n",
    "        original_scores = collections.defaultdict(int)\n",
    "    changed_team = None\n",
    "    changed_score = None\n",
    "    for i, play in enumerate(game):\n",
    "        if original_scores[play['off']] != play['offscore']:\n",
    "            changed_team = play['off']\n",
    "            changed_score = play['offscore'] - original_scores[changed_team]\n",
    "            break\n",
    "        if original_scores[play['def']] != play['defscore']:\n",
    "            changed_team = play['def']\n",
    "            changed_score = play['defscore'] - original_scores[changed_team]\n",
    "            break     \n",
    "    \n",
    "    if changed_team is None:\n",
    "        return [('', 0,game)]\n",
    "    \n",
    "    new_scores = collections.defaultdict(int)\n",
    "    new_scores[play['off']] = play['offscore']\n",
    "    new_scores[play['def']] = play['defscore']\n",
    "    return [(changed_team, changed_score, game[:i+1])] + group_by_score_change(game[i+1:], new_scores)    "
   ]
  },
  {
   "cell_type": "code",
   "execution_count": 14,
   "metadata": {
    "collapsed": false
   },
   "outputs": [],
   "source": [
    "def bucketable(play):\n",
    "    if not play['down']:\n",
    "        return False\n",
    "    if play['down'] < 1:\n",
    "        return False\n",
    "    if play['down'] > 4:\n",
    "        return False\n",
    "    if not play['togo']:\n",
    "        return False\n",
    "    if play['togo'] < 1:\n",
    "        return False\n",
    "    if not play['ydline']:\n",
    "        return False\n",
    "    if play['ydline'] < 1:\n",
    "        return False\n",
    "    if not play['off'] or not play['def']:\n",
    "        return False\n",
    "    if 'num_plays_exec' not in play or play['num_plays_exec'] <= 3:\n",
    "        return False\n",
    "    return True\n",
    "    \n"
   ]
  },
  {
   "cell_type": "code",
   "execution_count": 15,
   "metadata": {
    "collapsed": false
   },
   "outputs": [],
   "source": [
    "def possession(play):\n",
    "    if play_dict['off'] < play_dict['def']:\n",
    "        return 1\n",
    "    else:\n",
    "        return 0\n",
    "\n",
    "def bucket_group(group):\n",
    "    global test\n",
    "    test = group\n",
    "    team, diff, group = group\n",
    "    answer = []\n",
    "    teams = set()\n",
    "\n",
    "    for play in group:\n",
    "        teams.add(play['off'])\n",
    "        teams.add(play['def'])\n",
    "    if '' in teams:\n",
    "        teams.remove('')\n",
    "    if team:\n",
    "        #print(teams)\n",
    "        pos = 1 - sorted(teams).index(team)\n",
    "    if diff != 0:\n",
    "        group = group[:-1]\n",
    "    for i, play in enumerate(group):\n",
    "        if play['time'] in (1800, 3600):\n",
    "            if i == 0 or group[i-1]['time'] in (1800, 3600):\n",
    "                answer.append([6])\n",
    "        if bucketable(play):\n",
    "            answer.append(put_into_bucket(play))\n",
    "        else:\n",
    "            answer.append([6])\n",
    "    if team:\n",
    "        if answer and answer[-1] == [6]:\n",
    "            answer = answer[:-1]\n",
    "        if diff == 2:\n",
    "            answer.append([1, pos])\n",
    "            answer.append([5, 1-pos])\n",
    "        elif diff == 3:\n",
    "            answer.append([0, pos])\n",
    "            answer.append([5, pos])\n",
    "        elif diff == 6:\n",
    "            answer.append([2, pos])\n",
    "            answer.append([5, pos])\n",
    "        elif diff == 7:\n",
    "            answer.append([2, pos])\n",
    "            answer.append([3, pos])\n",
    "            answer.append([5, pos])\n",
    "        elif diff == 8:\n",
    "            answer.append([2, pos])\n",
    "            answer.append([4, pos])\n",
    "            answer.append([5, pos])\n",
    "        elif diff != 0:\n",
    "            answer.append([6])\n",
    "    return answer\n",
    "        "
   ]
  },
  {
   "cell_type": "code",
   "execution_count": 16,
   "metadata": {
    "collapsed": false
   },
   "outputs": [],
   "source": [
    "def bucket_game(game):\n",
    "    grouped = group_by_score_change(game)\n",
    "    answer = []\n",
    "    for group in grouped:\n",
    "        answer += bucket_group(group)\n",
    "    return answer\n",
    "        \n"
   ]
  },
  {
   "cell_type": "code",
   "execution_count": 17,
   "metadata": {
    "collapsed": false
   },
   "outputs": [
    {
     "data": {
      "text/plain": [
       "2696"
      ]
     },
     "execution_count": 17,
     "metadata": {},
     "output_type": "execute_result"
    }
   ],
   "source": [
    "counter = 0\n",
    "for game in grouped_by_game:\n",
    "    for play in game:\n",
    "        if 'num_plays_exec' not in play:\n",
    "            counter+=1\n",
    "counter"
   ]
  },
  {
   "cell_type": "code",
   "execution_count": 18,
   "metadata": {
    "collapsed": false
   },
   "outputs": [],
   "source": [
    "bucket_sequence = []\n",
    "for game in grouped_by_game:\n",
    "    bucket_sequence += bucket_game(game)\n",
    "    bucket_sequence += [6]"
   ]
  },
  {
   "cell_type": "code",
   "execution_count": 19,
   "metadata": {
    "collapsed": false
   },
   "outputs": [
    {
     "data": {
      "text/plain": [
       "[[6],\n",
       " [6],\n",
       " [6],\n",
       " (4, 2, 4, 5, 1),\n",
       " (4, 2, 2, 5, 1),\n",
       " (4, 3, 1, 5, 1),\n",
       " (3, 1, 4, 5, 1),\n",
       " (2, 2, 0, 5, 1),\n",
       " (2, 1, 4, 5, 1),\n",
       " (1, 2, 1, 5, 1),\n",
       " (1, 3, 0, 4, 1),\n",
       " (1, 4, 0, 3, 1),\n",
       " [0, 1],\n",
       " [5, 1],\n",
       " [6],\n",
       " [6],\n",
       " [6],\n",
       " [6],\n",
       " (6, 1, 4, 3, 1),\n",
       " (5, 2, 1, 5, 1),\n",
       " (3, 1, 4, 5, 1),\n",
       " (3, 2, 2, 4, 1),\n",
       " (3, 2, 5, 5, 1),\n",
       " (1, 1, 4, 5, 1),\n",
       " (0, 1, 1, 5, 1),\n",
       " [2, 1],\n",
       " [3, 1],\n",
       " [5, 1],\n",
       " (7, 1, 4, 1, 0),\n",
       " (7, 1, 5, 1, 0),\n",
       " (7, 2, 5, 1, 0),\n",
       " (7, 3, 4, 1, 0),\n",
       " (7, 4, 4, 1, 0),\n",
       " (8, 1, 4, 5, 1),\n",
       " (5, 1, 4, 5, 1),\n",
       " (5, 2, 4, 5, 1),\n",
       " (5, 3, 2, 5, 1),\n",
       " (4, 1, 4, 5, 1),\n",
       " (4, 2, 4, 5, 1),\n",
       " (4, 3, 0, 5, 1),\n",
       " (3, 1, 4, 5, 1),\n",
       " (3, 1, 2, 5, 1),\n",
       " (1, 1, 4, 5, 1),\n",
       " (1, 2, 4, 5, 1),\n",
       " (0, 3, 0, 5, 1),\n",
       " (0, 4, 0, 4, 1),\n",
       " [0, 1],\n",
       " [5, 1],\n",
       " (7, 1, 4, 1, 0),\n",
       " (7, 2, 4, 1, 0)]"
      ]
     },
     "execution_count": 19,
     "metadata": {},
     "output_type": "execute_result"
    }
   ],
   "source": [
    "bucket_sequence[:50]"
   ]
  },
  {
   "cell_type": "code",
   "execution_count": null,
   "metadata": {
    "collapsed": false
   },
   "outputs": [],
   "source": [
    "grouped_by_game[0][19:22]"
   ]
  },
  {
   "cell_type": "code",
   "execution_count": 21,
   "metadata": {
    "collapsed": false
   },
   "outputs": [],
   "source": [
    "import pickle\n",
    "with open('basic_buckets_with_avg_yards.pkl', 'wb') as f:\n",
    "    pickle.dump(bucket_sequence, f, -1)"
   ]
  },
  {
   "cell_type": "code",
   "execution_count": 20,
   "metadata": {
    "collapsed": false
   },
   "outputs": [
    {
     "data": {
      "text/plain": [
       "418864"
      ]
     },
     "execution_count": 20,
     "metadata": {},
     "output_type": "execute_result"
    }
   ],
   "source": [
    "sum(len(game) for game in grouped_by_game)"
   ]
  },
  {
   "cell_type": "code",
   "execution_count": null,
   "metadata": {
    "collapsed": true
   },
   "outputs": [],
   "source": [
    "#dump cell\n",
    "\n",
    "counter = 0\n",
    "features = ['down', 'togo']\n",
    "for game in grouped_by_game:\n",
    "    for i, play in enumerate(game):\n",
    "        missing = False\n",
    "        for feature in features:\n",
    "            if not play[feature]:\n",
    "                missing = True\n",
    "        if missing:\n",
    "            counter += 1\n",
    "            scores = collections.defaultdict(set)\n",
    "            num_gaps = 1\n",
    "            for j in range(i-1, i + 1):\n",
    "                if 0 <= j < len(game):\n",
    "                    scores[game[j]['off']].add(game[j]['offscore'])\n",
    "                    scores[game[j]['def']].add(game[j]['defscore'])\n",
    "                    for feature in features:\n",
    "                        if not game[j][feature]:\n",
    "                            num_gaps += 1\n",
    "            score_changed = False\n",
    "            for team in scores:\n",
    "                if len(scores) >= 1:\n",
    "                    score_changed = True\n",
    "                #if max(scores[team]) - min(scores[team]) in (2,3):\n",
    "                #    num_gaps -= 1\n",
    "                #if max(scores[team]) - min(scores[team]) in (6,7,8):\n",
    "                #    num_gaps -= 2\n",
    "            #if num_gaps > 0:\n",
    "            #    #print(play)\n",
    "            #    pass\n",
    "            if not score_changed:\n",
    "                print(play)\n",
    "                        \n",
    "for j, game in enumerate(grouped_by_game):\n",
    "    scores = collections.defaultdict(list)\n",
    "    for play in game:\n",
    "        scores[play['off']].append(play['offscore'])\n",
    "        scores[play['def']].append(play['defscore'])\n",
    "\n",
    "    for i in range(2, len(game)):\n",
    "        for team in scores:\n",
    "            try:\n",
    "                if len(set((scores[team][i], scores[team][i-1], scores[team][i-2]))) == 3:\n",
    "                    print(j, i,scores[team][i], scores[team][i-1], scores[team][i-2])\n",
    "            except:\n",
    "                pass"
   ]
  }
 ],
 "metadata": {
  "anaconda-cloud": {},
  "kernelspec": {
   "display_name": "Python [conda root]",
   "language": "python",
   "name": "conda-root-py"
  },
  "language_info": {
   "codemirror_mode": {
    "name": "ipython",
    "version": 3
   },
   "file_extension": ".py",
   "mimetype": "text/x-python",
   "name": "python",
   "nbconvert_exporter": "python",
   "pygments_lexer": "ipython3",
   "version": "3.5.2"
  }
 },
 "nbformat": 4,
 "nbformat_minor": 0
}
