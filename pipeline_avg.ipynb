{
 "cells": [
  {
   "cell_type": "code",
   "execution_count": 1377,
   "metadata": {
    "collapsed": true
   },
   "outputs": [],
   "source": [
    "import csv\n",
    "import numpy as np\n",
    "import collections\n",
    "import matplotlib.mlab as mlab\n",
    "import matplotlib.pyplot as plt\n",
    "import functools\n",
    "from matplotlib import pylab\n",
    "import math\n",
    "%matplotlib inline\n",
    "\n",
    "num_avg_buckets = 5\n",
    "VAR = 8"
   ]
  },
  {
   "cell_type": "code",
   "execution_count": 1378,
   "metadata": {
    "collapsed": false
   },
   "outputs": [
    {
     "name": "stdout",
     "output_type": "stream",
     "text": [
      "0\n"
     ]
    }
   ],
   "source": [
    "data = []\n",
    "counter = 0\n",
    "with open('train_data.csv', 'r') as f:\n",
    "    reader = csv.DictReader(f)\n",
    "    for i,row in enumerate(reader):\n",
    "        if not row['off'] and not row['def']:\n",
    "            print(i, row)\n",
    "            counter += 1\n",
    "        data.append(row)\n",
    "print(counter)"
   ]
  },
  {
   "cell_type": "code",
   "execution_count": null,
   "metadata": {
    "collapsed": false
   },
   "outputs": [],
   "source": [
    "grouped_by_game = collections.defaultdict(list)\n",
    "for line in data:\n",
    "    grouped_by_game[line['gameid']].append(line)\n",
    "grouped_by_game = list(grouped_by_game.values())"
   ]
  },
  {
   "cell_type": "code",
   "execution_count": null,
   "metadata": {
    "collapsed": false
   },
   "outputs": [],
   "source": [
    "for game in grouped_by_game:\n",
    "    for play_dict in game:\n",
    "        for key in play_dict:\n",
    "            try:\n",
    "                play_dict[key] = int(play_dict[key])\n",
    "            except:\n",
    "                pass"
   ]
  },
  {
   "cell_type": "code",
   "execution_count": null,
   "metadata": {
    "collapsed": false
   },
   "outputs": [],
   "source": [
    "for game in grouped_by_game:\n",
    "    game.sort(key = lambda x: -int(x['time']))"
   ]
  },
  {
   "cell_type": "code",
   "execution_count": null,
   "metadata": {
    "collapsed": false
   },
   "outputs": [],
   "source": [
    "\n",
    "total_average_yardage = []\n",
    "moving_average = []\n",
    "num_plays_before_calc = 3\n",
    "for game in grouped_by_game:\n",
    "    num_total_yards = (0, 0)\n",
    "    num_plays = (0, 0)\n",
    "    yard_per_play=[]\n",
    "    first_team_yards=0\n",
    "    first_team_plays=0\n",
    "    second_team_yards=0\n",
    "    second_team_plays=0\n",
    "\n",
    "    for i in range(len(game)-1):\n",
    "        play_dict = game[i]\n",
    "        alph_first_team = play_dict['off'] if play_dict['off']<play_dict['def'] else play_dict['def']\n",
    "        next_play_dict = game[i+1]\n",
    "        if next_play_dict['down'] is not None and play_dict['down'] is not None and play_dict['ydline'] !='' and next_play_dict['ydline'] !='' and next_play_dict['off']==play_dict['off'] and next_play_dict['description'].find('punt')==-1:\n",
    "            progress = play_dict['ydline']-next_play_dict['ydline']\n",
    "            if play_dict['off']==alph_first_team:\n",
    "                first_team_yards+=progress\n",
    "                first_team_plays+=1\n",
    "                if first_team_plays>num_plays_before_calc:\n",
    "                    moving_average.append(first_team_yards/first_team_plays)\n",
    "            else:\n",
    "                second_team_yards+=progress\n",
    "                second_team_plays+=1\n",
    "                if second_team_plays>num_plays_before_calc:\n",
    "                    moving_average.append(second_team_yards/second_team_plays)\n",
    "            yard_per_play.append(progress)\n",
    "\n",
    "    total_average_yardage.append(first_team_yards/first_team_plays)\n",
    "    total_average_yardage.append(second_team_yards/second_team_plays)"
   ]
  },
  {
   "cell_type": "code",
   "execution_count": null,
   "metadata": {
    "collapsed": false
   },
   "outputs": [],
   "source": [
    "\n",
    "total_average_yardage = np.array(total_average_yardage).reshape(len(total_average_yardage), 1)\n",
    "moving_average = np.array(moving_average).reshape(len(moving_average), 1)"
   ]
  },
  {
   "cell_type": "code",
   "execution_count": null,
   "metadata": {
    "collapsed": false,
    "scrolled": true
   },
   "outputs": [],
   "source": [
    "if 0:\n",
    "    plt.hist(moving_average, 100)\n",
    "    plt.show()"
   ]
  },
  {
   "cell_type": "code",
   "execution_count": null,
   "metadata": {
    "collapsed": true
   },
   "outputs": [],
   "source": [
    "\n",
    "for i,game in enumerate(grouped_by_game):\n",
    "    first_team_yards=0.0\n",
    "    first_team_plays=0.0\n",
    "    second_team_yards=0.0\n",
    "    second_team_plays=0.0\n",
    "    for j,play_dict in enumerate(game):\n",
    "        if j < len(game)-1:\n",
    "            alph_first_team = play_dict['off'] if play_dict['off']<play_dict['def'] else play_dict['def']\n",
    "            next_play_dict = game[j+1]\n",
    "            if next_play_dict['down'] is not None and play_dict['down'] is not None and play_dict['ydline'] !='' and next_play_dict['ydline'] !='' and next_play_dict['off']==play_dict['off'] and next_play_dict['description'].find('punt')==-1:\n",
    "                progress = play_dict['ydline']-next_play_dict['ydline']\n",
    "                if play_dict['off']==alph_first_team:\n",
    "                    first_team_yards+=progress\n",
    "                    first_team_plays+=1\n",
    "                    play_dict['avg_yards'] = first_team_yards/first_team_plays\n",
    "                    play_dict['num_plays_exec'] = first_team_plays\n",
    "                else:\n",
    "                    second_team_yards+=progress\n",
    "                    second_team_plays+=1\n",
    "                    play_dict['avg_yards'] = second_team_yards/second_team_plays \n",
    "                    play_dict['num_plays_exec'] = second_team_plays\n",
    "            else: #if yards didn't change/it was not a standard play (i.e. field goal)\n",
    "                if play_dict['off']==alph_first_team and first_team_plays>0:\n",
    "                    play_dict['avg_yards'] = first_team_yards/first_team_plays\n",
    "                    play_dict['num_plays_exec'] = first_team_plays\n",
    "                elif second_team_plays>0:\n",
    "                    play_dict['avg_yards'] = second_team_yards/second_team_plays\n",
    "                    play_dict['num_plays_exec'] = second_team_plays"
   ]
  },
  {
   "cell_type": "code",
   "execution_count": null,
   "metadata": {
    "collapsed": false
   },
   "outputs": [],
   "source": [
    "\n",
    "percentiles = []\n",
    "for i in range(num_avg_buckets - 1):\n",
    "    percentiles.append(np.percentile(moving_average, ((i+1) * 100) // num_avg_buckets))\n",
    "    \n",
    "def bucket_avg(avg):\n",
    "    for i in range(num_avg_buckets):\n",
    "        if avg <= percentiles[i]:\n",
    "            return i+1\n",
    "    return num_avg_buckets\n",
    "\n",
    "\n",
    "\n",
    "if 0:\n",
    "    twenty_perecentile = np.percentile(moving_average, 20)\n",
    "    forty_percentile = np.percentile(moving_average, 40)\n",
    "    sixty_percentile = np.percentile(moving_average, 60)\n",
    "    eighty_percentile = np.percentile(moving_average, 80)\n",
    "    fifty_percentile = np.percentile(moving_average, 50)\n",
    "    _perecentile = np.percentile(moving_average, 20)\n",
    "    forty_percentile = np.percentile(moving_average, 40)\n",
    "    sixty_percentile = np.percentile(moving_average, 60)\n",
    "    eighty_percentile = np.percentile(moving_average, 80)\n",
    "    fifty_percentile = np.percentile(moving_average, 50)\n",
    "    percentiles = [0]"
   ]
  },
  {
   "cell_type": "code",
   "execution_count": null,
   "metadata": {
    "collapsed": false
   },
   "outputs": [],
   "source": [
    "twenty_perecentile,forty_percentile,sixty_percentile,eighty_percentile,fifty_percentile"
   ]
  },
  {
   "cell_type": "code",
   "execution_count": null,
   "metadata": {
    "collapsed": false
   },
   "outputs": [],
   "source": [
    "\n",
    "def bucket_avg(avg):\n",
    "    if avg <= twenty_perecentile:\n",
    "        return 1\n",
    "    if avg <= forty_percentile:\n",
    "        return 2\n",
    "    if avg <= sixty_percentile:\n",
    "        return 3\n",
    "    if avg <= eighty_percentile:\n",
    "        return 4\n",
    "    return 5\n",
    "num_avg_bucket = 5\n",
    "'''\n",
    "def bucket_avg(avg):\n",
    "    return 1\n",
    "    #if avg <= fifty_percentile:\n",
    "    #    return 1\n",
    "    #return 2'''"
   ]
  },
  {
   "cell_type": "code",
   "execution_count": null,
   "metadata": {
    "collapsed": false
   },
   "outputs": [],
   "source": [
    "def put_into_bucket(play_dict):\n",
    "    yard = play_dict['ydline'] // 10\n",
    "    down = play_dict['down']\n",
    "    #if play_dict['togo'] <= 5:\n",
    "    #    togo = 0\n",
    "    #if play_dict['togo'] <= 10:\n",
    "    #    togo = 1\n",
    "    #else:\n",
    "    #    togo = 2\n",
    "    if play_dict['togo'] <= 2:\n",
    "        togo = 0\n",
    "    elif play_dict['togo'] <= 4:\n",
    "        togo = 1\n",
    "    elif play_dict['togo'] <= 6:\n",
    "        togo = 2\n",
    "    elif play_dict['togo'] <= 8:\n",
    "        togo = 3\n",
    "    elif play_dict['togo'] <= 10:\n",
    "        togo = 4\n",
    "    elif play_dict['togo'] <= 15:\n",
    "        togo = 5\n",
    "    elif play_dict['togo'] <= 20:\n",
    "        togo = 6\n",
    "    else:\n",
    "        togo = 7\n",
    "    '''if play_dict['togo'] <= 4:\n",
    "        togo = 1\n",
    "    elif play_dict['togo'] <= 8:\n",
    "        togo = 3\n",
    "    elif play_dict['togo'] <= 15:\n",
    "        togo = 5\n",
    "    else:\n",
    "        togo = 7'''\n",
    "    \n",
    "    #average yardage\n",
    "    \n",
    "    avg_yards = bucket_avg(play_dict['avg_yards'])\n",
    "    \n",
    "    if play_dict['off'] < play_dict['def']:\n",
    "        posession = 1\n",
    "    else:\n",
    "        posession = 0\n",
    "    #return (1, 1, 1, posession)\n",
    "    return (yard, down, togo, avg_yards, posession)\n",
    "    #return (1,1,1,1,posession)"
   ]
  },
  {
   "cell_type": "code",
   "execution_count": null,
   "metadata": {
    "collapsed": true
   },
   "outputs": [],
   "source": [
    "def group_by_score_change(game, original_scores = None):\n",
    "    if not game:\n",
    "        return []\n",
    "    if original_scores is None:\n",
    "        original_scores = collections.defaultdict(int)\n",
    "    changed_team = None\n",
    "    changed_score = None\n",
    "    for i, play in enumerate(game):\n",
    "        if original_scores[play['off']] != play['offscore']:\n",
    "            changed_team = play['off']\n",
    "            changed_score = play['offscore'] - original_scores[changed_team]\n",
    "            break\n",
    "        if original_scores[play['def']] != play['defscore']:\n",
    "            changed_team = play['def']\n",
    "            changed_score = play['defscore'] - original_scores[changed_team]\n",
    "            break     \n",
    "    \n",
    "    if changed_team is None:\n",
    "        return [('', 0,game)]\n",
    "    \n",
    "    new_scores = collections.defaultdict(int)\n",
    "    new_scores[play['off']] = play['offscore']\n",
    "    new_scores[play['def']] = play['defscore']\n",
    "    return [(changed_team, changed_score, game[:i+1])] + group_by_score_change(game[i+1:], new_scores)    "
   ]
  },
  {
   "cell_type": "code",
   "execution_count": null,
   "metadata": {
    "collapsed": false
   },
   "outputs": [],
   "source": [
    "def bucketable(play):\n",
    "    if not play['down']:\n",
    "        return False\n",
    "    if play['down'] < 1:\n",
    "        return False\n",
    "    if play['down'] > 4:\n",
    "        return False\n",
    "    if not play['togo']:\n",
    "        return False\n",
    "    if play['togo'] < 1:\n",
    "        return False\n",
    "    if not play['ydline']:\n",
    "        return False\n",
    "    if play['ydline'] < 1:\n",
    "        return False\n",
    "    if not play['off'] or not play['def']:\n",
    "        return False\n",
    "    if play['time'] > 900:\n",
    "        return False\n",
    "\n",
    "    if 'num_plays_exec' not in play or play['num_plays_exec'] <= 3:\n",
    "        return False\n",
    "    \n",
    "    return True\n",
    "    \n"
   ]
  },
  {
   "cell_type": "code",
   "execution_count": null,
   "metadata": {
    "collapsed": false
   },
   "outputs": [],
   "source": [
    "def possession(play):\n",
    "    if play_dict['off'] < play_dict['def']:\n",
    "        return 1\n",
    "    else:\n",
    "        return 0\n",
    "\n",
    "def bucket_group(group):\n",
    "    global test\n",
    "    test = group\n",
    "    team, diff, group = group\n",
    "    answer = []\n",
    "    teams = set()\n",
    "\n",
    "    for play in group:\n",
    "        teams.add(play['off'])\n",
    "        teams.add(play['def'])\n",
    "    if '' in teams:\n",
    "        teams.remove('')\n",
    "    if team:\n",
    "        #print(teams)\n",
    "        pos = 1 - sorted(teams).index(team)\n",
    "    \n",
    "    if diff != 0:\n",
    "        group2 = group[:-1]\n",
    "    else:\n",
    "        group2 = group\n",
    "    for i, play in enumerate(group2):\n",
    "        if play['time'] in (1800, 3600):\n",
    "            if i == 0 or group2[i-1]['time'] in (1800, 3600):\n",
    "                answer.append([6])\n",
    "        if bucketable(play):\n",
    "            answer.append(put_into_bucket(play))\n",
    "        else:\n",
    "            answer.append([6])\n",
    "            \n",
    "    \n",
    "        \n",
    "    if team:\n",
    "        '''\n",
    "        if answer and answer[-1] == [6]:\n",
    "            answer = answer[:-1]\n",
    "        if diff == 2:\n",
    "            answer.append([1, pos])\n",
    "            answer.append([5, 1-pos])\n",
    "        elif diff == 3:\n",
    "            answer.append([0, pos])\n",
    "            answer.append([5, pos])\n",
    "        elif diff == 6:\n",
    "            answer.append([2, pos])\n",
    "            answer.append([5, pos])\n",
    "        elif diff == 7:\n",
    "            answer.append([2, pos])\n",
    "            answer.append([3, pos])\n",
    "            answer.append([5, pos])\n",
    "        elif diff == 8:\n",
    "            answer.append([2, pos])\n",
    "            answer.append([4, pos])\n",
    "            answer.append([5, pos])\n",
    "        elif diff != 0:\n",
    "            answer.append([6])\n",
    "        '''\n",
    "        play_dict = group[-1]\n",
    "        if 'avg_yards' in play_dict and play_dict['time'] <= 900:\n",
    "            avg_yards = bucket_avg(play_dict['avg_yards'])\n",
    "            '''\n",
    "            if play_dict['avg_yards'] <= twenty_perecentile:\n",
    "                avg_yards = 1\n",
    "            elif play_dict['avg_yards'] <= forty_percentile:\n",
    "                avg_yards = 2\n",
    "            elif play_dict['avg_yards'] <= sixty_percentile:\n",
    "                avg_yards = 3\n",
    "            elif play_dict['avg_yards'] <= eighty_percentile:\n",
    "                avg_yards = 4\n",
    "            else:\n",
    "                avg_yards = 5'''\n",
    "            if answer and answer[-1] == [6]:\n",
    "                answer = answer[:-1]\n",
    "            if diff == 2:\n",
    "                answer.append([1, avg_yards, pos])\n",
    "                answer.append([5, avg_yards, 1-pos])\n",
    "            elif diff == 3:\n",
    "                answer.append([0, avg_yards, pos])\n",
    "                answer.append([5, avg_yards, pos])\n",
    "            elif diff == 6:\n",
    "                answer.append([2, avg_yards, pos])\n",
    "                answer.append([5, avg_yards, pos])\n",
    "            elif diff == 7:\n",
    "                answer.append([2, avg_yards, pos])\n",
    "                answer.append([3, avg_yards, pos])\n",
    "                answer.append([5, avg_yards, pos])\n",
    "            elif diff == 8:\n",
    "                answer.append([2, avg_yards, pos])\n",
    "                answer.append([4, avg_yards, pos])\n",
    "                answer.append([5, avg_yards, pos])\n",
    "            elif diff != 0:\n",
    "                answer.append([6])\n",
    "    return answer\n",
    "        "
   ]
  },
  {
   "cell_type": "code",
   "execution_count": null,
   "metadata": {
    "collapsed": false
   },
   "outputs": [],
   "source": [
    "def bucket_game(game):\n",
    "    grouped = group_by_score_change(game)\n",
    "    answer = []\n",
    "    for group in grouped:\n",
    "        answer += bucket_group(group)\n",
    "    return answer\n",
    "        \n"
   ]
  },
  {
   "cell_type": "code",
   "execution_count": null,
   "metadata": {
    "collapsed": false
   },
   "outputs": [],
   "source": [
    "bucket_sequence = []\n",
    "for game in grouped_by_game:\n",
    "    bucket_sequence += bucket_game(game)\n",
    "    bucket_sequence += [6]"
   ]
  },
  {
   "cell_type": "code",
   "execution_count": null,
   "metadata": {
    "collapsed": false
   },
   "outputs": [],
   "source": [
    "buckets = bucket_sequence #glue scripts together\n",
    "len(buckets)"
   ]
  },
  {
   "cell_type": "code",
   "execution_count": null,
   "metadata": {
    "collapsed": false
   },
   "outputs": [],
   "source": [
    "sum(b != [6] for b in buckets)"
   ]
  },
  {
   "cell_type": "code",
   "execution_count": null,
   "metadata": {
    "collapsed": false
   },
   "outputs": [],
   "source": [
    "for i in range(len(buckets)):\n",
    "    if buckets[i] == 6:\n",
    "        buckets[i] = [6]\n",
    "    buckets[i] = list(buckets[i])"
   ]
  },
  {
   "cell_type": "code",
   "execution_count": null,
   "metadata": {
    "collapsed": false
   },
   "outputs": [],
   "source": [
    "counts = collections.defaultdict(collections.Counter)\n",
    "for i in range(len(buckets) - 1):\n",
    "    if buckets[i] != [6] and buckets[i+1] != [6]:\n",
    "        start = buckets[i][:-1]\n",
    "        end = buckets[i+1][:-2]\n",
    "        if buckets[i][-1] == buckets[i+1][-1]:\n",
    "            end.append(0)\n",
    "        else:\n",
    "            end.append(1)\n",
    "    \n",
    "        counts[tuple(start)][tuple(end)] += 1"
   ]
  },
  {
   "cell_type": "code",
   "execution_count": null,
   "metadata": {
    "collapsed": false
   },
   "outputs": [],
   "source": [
    "counts2[(3, 2, 3, 2)]"
   ]
  },
  {
   "cell_type": "code",
   "execution_count": null,
   "metadata": {
    "collapsed": false
   },
   "outputs": [],
   "source": [
    "def smooth_on_feature(counts, feature_num = -1, feature_min = 1, feature_max = num_avg_bucket):\n",
    "    var = VAR\n",
    "    counts2 = collections.defaultdict(collections.Counter)\n",
    "    for bucket in counts:\n",
    "        mean = bucket[feature_num]\n",
    "        for feature_val in range(feature_min, feature_max + 1):\n",
    "            new_bucket = list(bucket)\n",
    "            new_bucket[feature_num] = feature_val\n",
    "            new_bucket = tuple(new_bucket)\n",
    "            if new_bucket in counts:\n",
    "                weight = 1/math.sqrt(2*math.pi*var) * math.exp(-((feature_val - mean)**2)/ (2 * var))\n",
    "                for outcome in counts[new_bucket]:\n",
    "                    counts2[bucket][outcome] += weight * counts[new_bucket][outcome]\n",
    "    return counts2\n",
    "    "
   ]
  },
  {
   "cell_type": "code",
   "execution_count": null,
   "metadata": {
    "collapsed": false
   },
   "outputs": [],
   "source": [
    "counts = smooth_on_feature(counts)"
   ]
  },
  {
   "cell_type": "code",
   "execution_count": null,
   "metadata": {
    "collapsed": false
   },
   "outputs": [],
   "source": [
    "#remove states we can't support\n",
    "def completely_in_counts(features, avg, pos_change):\n",
    "    if pos_change == 1:\n",
    "        for i in range(1,1 + num_avg_bucket):\n",
    "            if tuple(list(features) + [i]) not in counts:\n",
    "                return False\n",
    "        return True\n",
    "    return tuple(list(features) +[avg]) in counts\n",
    "\n",
    "#remove states we can't support\n",
    "counter = 0\n",
    "updated = True\n",
    "while updated:\n",
    "    updated = False\n",
    "    for bucket_start in counts:\n",
    "        avg = bucket_start[-1]\n",
    "        for bucket_end in counts[bucket_start]:\n",
    "            end = list(bucket_end)[:-1]\n",
    "            pos_change = bucket_end[-1]\n",
    "            if counts[bucket_start][bucket_end] and not completely_in_counts(end, avg, pos_change):\n",
    "                counts[bucket_start][bucket_end] = 0\n",
    "                counter += 1\n",
    "                updated = True\n",
    "    \n",
    "print(counter)"
   ]
  },
  {
   "cell_type": "code",
   "execution_count": null,
   "metadata": {
    "collapsed": false
   },
   "outputs": [],
   "source": [
    "for bucket_start in counts:\n",
    "    if sum(counts[bucket_start].values()) == 0:\n",
    "        print(bucket_start)\n",
    "        raise Exception(\"Hit Guy up to fix\")"
   ]
  },
  {
   "cell_type": "code",
   "execution_count": null,
   "metadata": {
    "collapsed": true
   },
   "outputs": [],
   "source": [
    "probabilities = collections.defaultdict(dict)\n",
    "for bucket_start in counts:\n",
    "    total = sum(counts[bucket_start].values())\n",
    "    for bucket_end in counts[bucket_start]:\n",
    "        if counts[bucket_start][bucket_end]:\n",
    "            probabilities[bucket_start][bucket_end] = counts[bucket_start][bucket_end] / total"
   ]
  },
  {
   "cell_type": "code",
   "execution_count": null,
   "metadata": {
    "collapsed": false
   },
   "outputs": [],
   "source": [
    "rewards = collections.defaultdict(int)\n",
    "rewards[(0,0)] = 3\n",
    "rewards[(1,0)] = 2\n",
    "rewards[(2,0)] = 6\n",
    "rewards[(3,0)] = 1\n",
    "rewards[(4,0)] = 2\n",
    "for pair in list(rewards.keys()):\n",
    "    rewards[(pair[0], 1-pair[1])] = -rewards[pair]\n",
    "for a,b in list(rewards.keys()):\n",
    "    for i in range(1,num_avg_bucket + 2):\n",
    "        rewards[(a,i,b)] = rewards[(a,b)]\n",
    "print(rewards,num_avg_bucket)"
   ]
  },
  {
   "cell_type": "code",
   "execution_count": null,
   "metadata": {
    "collapsed": true
   },
   "outputs": [],
   "source": [
    "THRESHOLD = 10**-8\n",
    "\n",
    "@functools.lru_cache(maxsize = None)\n",
    "def predicted_score_difference(current_state, num_turns_left, off_avg, def_avg):\n",
    "    if num_turns_left == 0:\n",
    "        answer = collections.defaultdict(float)\n",
    "        answer[rewards[current_state]] = 1.0\n",
    "        return answer\n",
    "    \n",
    "    child_score_diffs = collections.defaultdict(float)\n",
    "    state, pos = current_state[:-1], current_state[-1]\n",
    "    state = tuple(list(state) + [off_avg])\n",
    "    #print(state, probabilities[state])\n",
    "    for child_state in probabilities[state]:\n",
    "        p = probabilities[state][child_state]\n",
    "        \n",
    "        child_state = list(child_state)\n",
    "        pos_changed = child_state[-1]\n",
    "        child_state[-1] = ((pos_changed + pos) % 2)\n",
    "\n",
    "        child_state = tuple(child_state)\n",
    "        \n",
    "        if pos_changed:\n",
    "            child_answer = predicted_score_difference(child_state, num_turns_left - 1, def_avg, off_avg)\n",
    "        else:\n",
    "            child_answer = predicted_score_difference(child_state, num_turns_left - 1, off_avg, def_avg)\n",
    "            \n",
    "        for score_diff in child_answer:\n",
    "            child_score_diffs[score_diff] += p * child_answer[score_diff]\n",
    "    \n",
    "    answer = collections.defaultdict(float)\n",
    "    for score_diff in child_score_diffs:\n",
    "        if child_score_diffs[score_diff] > THRESHOLD:\n",
    "            answer[score_diff + rewards[current_state]] = child_score_diffs[score_diff]\n",
    "    return answer"
   ]
  },
  {
   "cell_type": "code",
   "execution_count": null,
   "metadata": {
    "collapsed": false
   },
   "outputs": [],
   "source": [
    "def compute_metrics_for_game(pdf, start_diff, end_diff):\n",
    "    actual_diff = end_diff - start_diff\n",
    "    #print(pdf, actual_diff)\n",
    "    metric2 = math.log(pdf[actual_diff])\n",
    "    expected_value = 0\n",
    "    pairs = []\n",
    "    for diff in pdf:\n",
    "        pairs.append([pdf[diff], diff])\n",
    "        expected_value += diff * pdf[diff]\n",
    "    metric1 = (expected_value - actual_diff) ** 2\n",
    "    pairs.sort(reverse = True)\n",
    "    metric3 = 0\n",
    "    for pair in pairs[:5]:\n",
    "        if pair[1] == actual_diff:\n",
    "            metric3 = 1\n",
    "    return (metric1, metric2, metric3)"
   ]
  },
  {
   "cell_type": "code",
   "execution_count": null,
   "metadata": {
    "collapsed": true
   },
   "outputs": [],
   "source": [
    "test_data = []\n",
    "with open('formatted_test.csv') as f:\n",
    "    reader = csv.DictReader(f)\n",
    "    for line in reader:\n",
    "        test_data.append(line)"
   ]
  },
  {
   "cell_type": "code",
   "execution_count": null,
   "metadata": {
    "collapsed": false
   },
   "outputs": [],
   "source": [
    "line"
   ]
  },
  {
   "cell_type": "code",
   "execution_count": null,
   "metadata": {
    "collapsed": false
   },
   "outputs": [],
   "source": [
    "for row in test_data:\n",
    "    for feature in ('def_team_avg_yards', 'off_team_avg_yards'):\n",
    "        row[feature] = float(row[feature])\n",
    "    for feature in ('down', 'final_diff', 'third_diff', 'togo', 'yard_line'):\n",
    "        row[feature] = int(row[feature])\n",
    "    "
   ]
  },
  {
   "cell_type": "code",
   "execution_count": null,
   "metadata": {
    "collapsed": true
   },
   "outputs": [],
   "source": [
    "def put_into_bucket_test(play_dict):\n",
    "    play_dict['ydline'] = play_dict['yard_line']\n",
    "    play_dict['off'] = 'a'\n",
    "    play_dict['def'] = 'a'\n",
    "    play_dict['avg_yards'] = 5\n",
    "    if play_dict['yard_line'] == -1 or play_dict['down'] == -1 or play_dict['togo'] == -1:\n",
    "        return (5,)\n",
    "    bucket = put_into_bucket(play_dict)\n",
    "    return bucket[:-2]\n",
    "    #return (yard, down, togo, avg_yards, posession)\n",
    "    \n"
   ]
  },
  {
   "cell_type": "code",
   "execution_count": null,
   "metadata": {
    "collapsed": false
   },
   "outputs": [],
   "source": [
    "metrics = [0,0,0]\n",
    "wrong = []\n",
    "for game in test_data:\n",
    "    start_bucket = tuple(list(put_into_bucket_test(game)) + [0])\n",
    "    \n",
    "    pdf = predicted_score_difference(start_bucket, 43, bucket_avg(game['off_team_avg_yards']),bucket_avg(game['def_team_avg_yards']))\n",
    "    #print(sum(pdf.values()))\n",
    "    for i, metric in enumerate(compute_metrics_for_game(pdf, game['third_diff'], game['final_diff'])):\n",
    "        metrics[i] += metric\n",
    "        if i == 2 and metric == 0:\n",
    "            wrong.append(game)"
   ]
  },
  {
   "cell_type": "code",
   "execution_count": null,
   "metadata": {
    "collapsed": false
   },
   "outputs": [],
   "source": [
    "for i in range(3):\n",
    "    print(metrics[i] / len(test_data))"
   ]
  },
  {
   "cell_type": "code",
   "execution_count": null,
   "metadata": {
    "collapsed": false
   },
   "outputs": [],
   "source": [
    "game"
   ]
  },
  {
   "cell_type": "code",
   "execution_count": null,
   "metadata": {
    "collapsed": false
   },
   "outputs": [],
   "source": [
    "test_data.index(game)"
   ]
  },
  {
   "cell_type": "code",
   "execution_count": null,
   "metadata": {
    "collapsed": false
   },
   "outputs": [],
   "source": [
    "len(test_data)"
   ]
  },
  {
   "cell_type": "code",
   "execution_count": null,
   "metadata": {
    "collapsed": false
   },
   "outputs": [],
   "source": [
    "pdf = predicted_score_difference((2, 1,1, 0), 43, 2, 1)\n",
    "score_diff = []\n",
    "probability = []\n",
    "smallest = sorted(pdf.items())[0][0]\n",
    "largest = sorted(pdf.items())[-1][0]\n",
    "print(smallest, largest)\n",
    "for s in range(-40, 41):\n",
    "    p = pdf[s]\n",
    "    score_diff.append(s)\n",
    "    probability.append(p)\n",
    "pylab.rcParams['figure.figsize'] = (25.0, 16.0)\n",
    "indexes = np.arange(len(score_diff))\n",
    "width = 1\n",
    "\n",
    "plt.bar(indexes, probability, width)\n",
    "plt.xticks(indexes + width * 0.5, score_diff)\n",
    "plt.show()"
   ]
  },
  {
   "cell_type": "code",
   "execution_count": null,
   "metadata": {
    "collapsed": false
   },
   "outputs": [],
   "source": [
    "probabilities[((1, 1,1, 1))]"
   ]
  },
  {
   "cell_type": "code",
   "execution_count": null,
   "metadata": {
    "collapsed": false
   },
   "outputs": [],
   "source": [
    "num_avg_bucket"
   ]
  },
  {
   "cell_type": "code",
   "execution_count": null,
   "metadata": {
    "collapsed": true
   },
   "outputs": [],
   "source": []
  }
 ],
 "metadata": {
  "anaconda-cloud": {},
  "kernelspec": {
   "display_name": "Python [Root]",
   "language": "python",
   "name": "Python [Root]"
  },
  "language_info": {
   "codemirror_mode": {
    "name": "ipython",
    "version": 3
   },
   "file_extension": ".py",
   "mimetype": "text/x-python",
   "name": "python",
   "nbconvert_exporter": "python",
   "pygments_lexer": "ipython3",
   "version": "3.5.2"
  }
 },
 "nbformat": 4,
 "nbformat_minor": 0
}
