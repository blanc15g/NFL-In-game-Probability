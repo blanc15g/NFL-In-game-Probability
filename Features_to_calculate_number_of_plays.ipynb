{
 "cells": [
  {
   "cell_type": "code",
   "execution_count": 16,
   "metadata": {
    "collapsed": true
   },
   "outputs": [],
   "source": [
    "import csv\n",
    "import collections\n",
    "import numpy as np"
   ]
  },
  {
   "cell_type": "code",
   "execution_count": 3,
   "metadata": {
    "collapsed": false
   },
   "outputs": [],
   "source": [
    "train_data_dict = []\n",
    "test_data_dict = []\n",
    "with open('train_data.csv', 'r') as f:\n",
    "    reader = csv.DictReader(f)\n",
    "    for line in enumerate(reader):\n",
    "        train_data_dict.append(line[1])\n",
    "        \n",
    "with open('test_data.csv', 'r') as f:\n",
    "    reader = csv.DictReader(f)\n",
    "    for line in enumerate(reader):\n",
    "        test_data_dict.append(line[1])"
   ]
  },
  {
   "cell_type": "code",
   "execution_count": 31,
   "metadata": {
    "collapsed": false
   },
   "outputs": [],
   "source": [
    "grouped_by_game = collections.defaultdict(list)\n",
    "for line in test_data_dict:\n",
    "    grouped_by_game[line['gameid']].append(line)\n",
    "grouped_by_game = list(grouped_by_game.values())"
   ]
  },
  {
   "cell_type": "code",
   "execution_count": 32,
   "metadata": {
    "collapsed": true
   },
   "outputs": [],
   "source": [
    "for game in grouped_by_game:\n",
    "    for play_dict in game:\n",
    "        for key in play_dict:\n",
    "            try:\n",
    "                play_dict[key] = int(play_dict[key])\n",
    "            except:\n",
    "                pass"
   ]
  },
  {
   "cell_type": "code",
   "execution_count": 33,
   "metadata": {
    "collapsed": true
   },
   "outputs": [],
   "source": [
    "for game in grouped_by_game:\n",
    "    game.sort(key = lambda x: -int(x['time']))"
   ]
  },
  {
   "cell_type": "code",
   "execution_count": 34,
   "metadata": {
    "collapsed": false
   },
   "outputs": [],
   "source": [
    "train = []\n",
    "y = []\n",
    "\n",
    "for game in grouped_by_game:\n",
    "    #game = grouped_by_game[key]\n",
    "    \n",
    "    num_plays_first = 0\n",
    "    num_plays_second = 0\n",
    "    num_plays_third = 0\n",
    "    num_plays_fourth = 0\n",
    "    score_diff = 0\n",
    "    average_yards = 0\n",
    "    \n",
    "    for play_dict in game:\n",
    "        if int(play_dict['time'])<=900:\n",
    "            num_plays_fourth+=1\n",
    "        elif int(play_dict['time'])<=1800:\n",
    "            num_plays_third+=1\n",
    "        elif int(play_dict['time'])<=2700:\n",
    "            num_plays_second+=1\n",
    "        else:\n",
    "            num_plays_first+=1\n",
    "        \n",
    "        if int(play_dict['time']) >=900:\n",
    "            score_diff = abs(int(play_dict['offscore'])-int(play_dict['defscore']))\n",
    "        \n",
    "    first_team_yards=0\n",
    "    first_team_plays=0\n",
    "    second_team_yards=0\n",
    "    second_team_plays=0\n",
    "    time_per_play = []\n",
    "    for i in range(len(game)-1):\n",
    "        play_dict = game[i]\n",
    "        alph_first_team = play_dict['off'] if play_dict['off']<play_dict['def'] else play_dict['def']\n",
    "        next_play_dict = game[i+1]\n",
    "        if next_play_dict['down'] is not None and play_dict['down'] is not None and play_dict['ydline'] !='' and next_play_dict['ydline'] !='' and next_play_dict['off']==play_dict['off'] and next_play_dict['description'].find('punt')==-1:\n",
    "            progress = play_dict['ydline']-next_play_dict['ydline']\n",
    "            if play_dict['off']==alph_first_team:\n",
    "                first_team_yards+=progress\n",
    "                first_team_plays+=1\n",
    "            else:\n",
    "                second_team_yards+=progress\n",
    "                second_team_plays+=1\n",
    "            time_per_play.append(int(play_dict['time'])-int(next_play_dict['time']))\n",
    "            \n",
    "    first_team_avg_yards = first_team_yards/first_team_plays\n",
    "    second_team_avg_yards = second_team_yards/second_team_plays\n",
    "    total_avg_yards = (first_team_yards+second_team_yards)/(first_team_plays+second_team_plays)\n",
    "    train.append((num_plays_first, num_plays_second, num_plays_third, score_diff, first_team_avg_yards, second_team_avg_yards, total_avg_yards, np.var(time_per_play), num_plays_fourth))\n",
    "    y.append(num_plays_fourth)"
   ]
  },
  {
   "cell_type": "code",
   "execution_count": 35,
   "metadata": {
    "collapsed": false
   },
   "outputs": [
    {
     "data": {
      "text/plain": [
       "(42,\n",
       " 51,\n",
       " 40,\n",
       " 22,\n",
       " 5.160714285714286,\n",
       " 4.397058823529412,\n",
       " 4.741935483870968,\n",
       " 253.48829344432886,\n",
       " 38)"
      ]
     },
     "execution_count": 35,
     "metadata": {},
     "output_type": "execute_result"
    }
   ],
   "source": [
    "train[0]"
   ]
  },
  {
   "cell_type": "code",
   "execution_count": 36,
   "metadata": {
    "collapsed": true
   },
   "outputs": [],
   "source": [
    "features = ['num_plays_first', 'num_plays_second', 'num_plays_third', 'score_diff', 'first_team_avg_yards', 'second_team_avg_yards', 'total_avg_yards', 'variance_time_per_play', 'num_plays_fourth']"
   ]
  },
  {
   "cell_type": "code",
   "execution_count": 37,
   "metadata": {
    "collapsed": false
   },
   "outputs": [],
   "source": [
    "with open('numplaysfeatures_test.csv','w') as out:\n",
    "    writer = csv.writer(out)\n",
    "    writer.writerow(features)\n",
    "    for datum in train:\n",
    "        writer.writerow(datum)"
   ]
  },
  {
   "cell_type": "code",
   "execution_count": null,
   "metadata": {
    "collapsed": true
   },
   "outputs": [],
   "source": []
  }
 ],
 "metadata": {
  "anaconda-cloud": {},
  "kernelspec": {
   "display_name": "Python [conda root]",
   "language": "python",
   "name": "conda-root-py"
  },
  "language_info": {
   "codemirror_mode": {
    "name": "ipython",
    "version": 3
   },
   "file_extension": ".py",
   "mimetype": "text/x-python",
   "name": "python",
   "nbconvert_exporter": "python",
   "pygments_lexer": "ipython3",
   "version": "3.5.2"
  }
 },
 "nbformat": 4,
 "nbformat_minor": 1
}
