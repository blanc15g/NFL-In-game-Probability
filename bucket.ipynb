{
 "cells": [
  {
   "cell_type": "code",
   "execution_count": 1,
   "metadata": {
    "collapsed": true
   },
   "outputs": [],
   "source": [
    "import csv\n",
    "import numpy as np\n",
    "import collections"
   ]
  },
  {
   "cell_type": "code",
   "execution_count": 2,
   "metadata": {
    "collapsed": false
   },
   "outputs": [
    {
     "name": "stdout",
     "output_type": "stream",
     "text": [
      "0\n"
     ]
    }
   ],
   "source": [
    "data = []\n",
    "counter = 0\n",
    "with open('plays_clean2.csv', 'r') as f:\n",
    "    reader = csv.DictReader(f)\n",
    "    for i,row in enumerate(reader):\n",
    "        if not row['off'] and not row['def']:\n",
    "            print(i, row)\n",
    "            counter += 1\n",
    "        data.append(row)\n",
    "print(counter)"
   ]
  },
  {
   "cell_type": "code",
   "execution_count": 3,
   "metadata": {
    "collapsed": false
   },
   "outputs": [],
   "source": [
    "grouped_by_game = collections.defaultdict(list)\n",
    "for line in data:\n",
    "    grouped_by_game[line['gameid']].append(line)\n",
    "grouped_by_game = list(grouped_by_game.values())"
   ]
  },
  {
   "cell_type": "code",
   "execution_count": 4,
   "metadata": {
    "collapsed": true
   },
   "outputs": [],
   "source": [
    "for game in grouped_by_game:\n",
    "    for play_dict in game:\n",
    "        for key in play_dict:\n",
    "            try:\n",
    "                play_dict[key] = int(play_dict[key])\n",
    "            except:\n",
    "                pass"
   ]
  },
  {
   "cell_type": "code",
   "execution_count": 5,
   "metadata": {
    "collapsed": false
   },
   "outputs": [],
   "source": [
    "def put_into_bucket(play_dict):\n",
    "    yard = play_dict['ydline'] // 10\n",
    "    down = play_dict['down']\n",
    "    if play_dict['togo'] <= 2:\n",
    "        togo = 0\n",
    "    elif play_dict['togo'] <= 4:\n",
    "        togo = 1\n",
    "    elif play_dict['togo'] <= 6:\n",
    "        togo = 2\n",
    "    elif play_dict['togo'] <= 8:\n",
    "        togo = 3\n",
    "    elif play_dict['togo'] <= 10:\n",
    "        togo = 4\n",
    "    elif play_dict['togo'] <= 15:\n",
    "        togo = 5\n",
    "    elif play_dict['togo'] <= 20:\n",
    "        togo = 6\n",
    "    else:\n",
    "        togo = 7\n",
    "    if play_dict['off'] < play_dict['def']:\n",
    "        posession = 1\n",
    "    else:\n",
    "        posession = 0\n",
    "    return (yard, down, togo, posession)"
   ]
  },
  {
   "cell_type": "code",
   "execution_count": 9,
   "metadata": {
    "collapsed": true
   },
   "outputs": [],
   "source": [
    "def group_by_score_change(game, original_scores = None):\n",
    "    if not game:\n",
    "        return []\n",
    "    if original_scores is None:\n",
    "        original_scores = collections.defaultdict(int)\n",
    "    changed_team = None\n",
    "    changed_score = None\n",
    "    for i, play in enumerate(game):\n",
    "        if original_scores[play['off']] != play['offscore']:\n",
    "            changed_team = play['off']\n",
    "            changed_score = play['offscore'] - original_scores[changed_team]\n",
    "            break\n",
    "        if original_scores[play['def']] != play['defscore']:\n",
    "            changed_team = play['def']\n",
    "            changed_score = play['defscore'] - original_scores[changed_team]\n",
    "            break     \n",
    "    \n",
    "    if changed_team is None:\n",
    "        return [('', 0,game)]\n",
    "    \n",
    "    new_scores = collections.defaultdict(int)\n",
    "    new_scores[play['off']] = play['offscore']\n",
    "    new_scores[play['def']] = play['defscore']\n",
    "    return [(changed_team, changed_score, game[:i+1])] + group_by_score_change(game[i+1:], new_scores)    "
   ]
  },
  {
   "cell_type": "code",
   "execution_count": 10,
   "metadata": {
    "collapsed": false
   },
   "outputs": [],
   "source": [
    "def bucketable(play):\n",
    "    if not play['down']:\n",
    "        return False\n",
    "    if play['down'] < 1:\n",
    "        return False\n",
    "    if play['down'] > 4:\n",
    "        return False\n",
    "    if not play['togo']:\n",
    "        return False\n",
    "    if play['togo'] < 1:\n",
    "        return False\n",
    "    if not play['ydline']:\n",
    "        return False\n",
    "    if play['ydline'] < 1:\n",
    "        return False\n",
    "    if not play['off'] or not play['def']:\n",
    "        return False\n",
    "    return True\n",
    "    \n"
   ]
  },
  {
   "cell_type": "code",
   "execution_count": 34,
   "metadata": {
    "collapsed": false
   },
   "outputs": [],
   "source": [
    "def possession(play):\n",
    "    if play_dict['off'] < play_dict['def']:\n",
    "        return 1\n",
    "    else:\n",
    "        return 0\n",
    "\n",
    "def bucket_group(group):\n",
    "    global test\n",
    "    test = group\n",
    "    team, diff, group = group\n",
    "    answer = []\n",
    "    teams = set()\n",
    "\n",
    "    for play in group:\n",
    "        teams.add(play['off'])\n",
    "        teams.add(play['def'])\n",
    "    if '' in teams:\n",
    "        teams.remove('')\n",
    "    if team:\n",
    "        #print(teams)\n",
    "        pos = 1- sorted(teams).index(team)\n",
    "    if diff != 0:\n",
    "        group = group[:-1]\n",
    "    for i, play in enumerate(group):\n",
    "        if play['time'] in (1800, 3600):\n",
    "            if i == 0 or group[i-1]['time'] in (1800, 3600):\n",
    "                answer.append([6])\n",
    "        if bucketable(play):\n",
    "            answer.append(put_into_bucket(play))\n",
    "        else:\n",
    "            answer.append([6])\n",
    "    if team:\n",
    "        \n",
    "        if answer and answer[-1] == [6]:\n",
    "            answer = answer[:-1]\n",
    "        if diff == 2:\n",
    "            answer.append([1, pos])\n",
    "            answer.append([5, pos])\n",
    "        elif diff == 3:\n",
    "            answer.append([0, pos])\n",
    "            answer.append([5, pos])\n",
    "        elif diff == 6:\n",
    "            answer.append([2, pos])\n",
    "            answer.append([5, pos])\n",
    "        elif diff == 7:\n",
    "            answer.append([2, pos])\n",
    "            answer.append([3, pos])\n",
    "            answer.append([5, pos])\n",
    "        elif diff == 8:\n",
    "            answer.append([2, pos])\n",
    "            answer.append([4, pos])\n",
    "            answer.append([5, pos])\n",
    "        elif diff != 0:\n",
    "            answer.append([6])\n",
    "    return answer\n",
    "        "
   ]
  },
  {
   "cell_type": "code",
   "execution_count": 12,
   "metadata": {
    "collapsed": false
   },
   "outputs": [],
   "source": [
    "def bucket_game(game):\n",
    "    grouped = group_by_score_change(game)\n",
    "    answer = []\n",
    "    for group in grouped:\n",
    "        answer += bucket_group(group)\n",
    "    return answer\n",
    "        \n"
   ]
  },
  {
   "cell_type": "code",
   "execution_count": 35,
   "metadata": {
    "collapsed": false
   },
   "outputs": [],
   "source": [
    "bucket_sequence = []\n",
    "for game in grouped_by_game:\n",
    "    bucket_sequence += bucket_game(game)\n",
    "    bucket_sequence += [6]"
   ]
  },
  {
   "cell_type": "code",
   "execution_count": 36,
   "metadata": {
    "collapsed": false
   },
   "outputs": [
    {
     "data": {
      "text/plain": [
       "492232"
      ]
     },
     "execution_count": 36,
     "metadata": {},
     "output_type": "execute_result"
    }
   ],
   "source": [
    "len(bucket_sequence)"
   ]
  },
  {
   "cell_type": "code",
   "execution_count": 40,
   "metadata": {
    "collapsed": false
   },
   "outputs": [],
   "source": [
    "import pickle\n",
    "with open('basic_buckets.pkl', 'wb') as f:\n",
    "    pickle.dump(bucket_sequence, f, -1)"
   ]
  },
  {
   "cell_type": "code",
   "execution_count": null,
   "metadata": {
    "collapsed": false
   },
   "outputs": [],
   "source": [
    "len(grouped_by_game)"
   ]
  },
  {
   "cell_type": "code",
   "execution_count": null,
   "metadata": {
    "collapsed": true
   },
   "outputs": [],
   "source": [
    "for play"
   ]
  },
  {
   "cell_type": "code",
   "execution_count": null,
   "metadata": {
    "collapsed": true
   },
   "outputs": [],
   "source": []
  },
  {
   "cell_type": "code",
   "execution_count": null,
   "metadata": {
    "collapsed": true
   },
   "outputs": [],
   "source": [
    "#dump cell\n",
    "\n",
    "counter = 0\n",
    "features = ['down', 'togo']\n",
    "for game in grouped_by_game:\n",
    "    for i, play in enumerate(game):\n",
    "        missing = False\n",
    "        for feature in features:\n",
    "            if not play[feature]:\n",
    "                missing = True\n",
    "        if missing:\n",
    "            counter += 1\n",
    "            scores = collections.defaultdict(set)\n",
    "            num_gaps = 1\n",
    "            for j in range(i-1, i + 1):\n",
    "                if 0 <= j < len(game):\n",
    "                    scores[game[j]['off']].add(game[j]['offscore'])\n",
    "                    scores[game[j]['def']].add(game[j]['defscore'])\n",
    "                    for feature in features:\n",
    "                        if not game[j][feature]:\n",
    "                            num_gaps += 1\n",
    "            score_changed = False\n",
    "            for team in scores:\n",
    "                if len(scores) >= 1:\n",
    "                    score_changed = True\n",
    "                #if max(scores[team]) - min(scores[team]) in (2,3):\n",
    "                #    num_gaps -= 1\n",
    "                #if max(scores[team]) - min(scores[team]) in (6,7,8):\n",
    "                #    num_gaps -= 2\n",
    "            #if num_gaps > 0:\n",
    "            #    #print(play)\n",
    "            #    pass\n",
    "            if not score_changed:\n",
    "                print(play)\n",
    "                \n",
    "                \n",
    "for j, game in enumerate(grouped_by_game):\n",
    "    scores = collections.defaultdict(list)\n",
    "    for play in game:\n",
    "        scores[play['off']].append(play['offscore'])\n",
    "        scores[play['def']].append(play['defscore'])\n",
    "\n",
    "    for i in range(2, len(game)):\n",
    "        for team in scores:\n",
    "            try:\n",
    "                if len(set((scores[team][i], scores[team][i-1], scores[team][i-2]))) == 3:\n",
    "                    print(j, i,scores[team][i], scores[team][i-1], scores[team][i-2])\n",
    "            except:\n",
    "                pass"
   ]
  }
 ],
 "metadata": {
  "anaconda-cloud": {},
  "kernelspec": {
   "display_name": "Python [Root]",
   "language": "python",
   "name": "Python [Root]"
  },
  "language_info": {
   "codemirror_mode": {
    "name": "ipython",
    "version": 3
   },
   "file_extension": ".py",
   "mimetype": "text/x-python",
   "name": "python",
   "nbconvert_exporter": "python",
   "pygments_lexer": "ipython3",
   "version": "3.5.2"
  }
 },
 "nbformat": 4,
 "nbformat_minor": 0
}
