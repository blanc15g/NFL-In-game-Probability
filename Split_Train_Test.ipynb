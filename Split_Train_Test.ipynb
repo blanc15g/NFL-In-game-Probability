{
 "cells": [
  {
   "cell_type": "code",
   "execution_count": 11,
   "metadata": {
    "collapsed": false
   },
   "outputs": [],
   "source": [
    "import csv\n",
    "import collections"
   ]
  },
  {
   "cell_type": "code",
   "execution_count": 12,
   "metadata": {
    "collapsed": false
   },
   "outputs": [],
   "source": [
    "data_dict = []\n",
    "with open('plays_clean2.csv', 'r') as f:\n",
    "    reader = csv.DictReader(f)\n",
    "    for line in enumerate(reader):\n",
    "        data_dict.append(line[1])"
   ]
  },
  {
   "cell_type": "code",
   "execution_count": 19,
   "metadata": {
    "collapsed": true
   },
   "outputs": [],
   "source": [
    "headers = ['gameid', 'off', 'def', 'offscore', 'defscore', 'down', 'togo', 'ydline', 'description', 'time']"
   ]
  },
  {
   "cell_type": "code",
   "execution_count": 20,
   "metadata": {
    "collapsed": false
   },
   "outputs": [],
   "source": [
    "data = []\n",
    "for datum in data_dict:\n",
    "    row = []\n",
    "    for feature in headers:\n",
    "        if datum[feature]:\n",
    "            row.append(datum[feature])\n",
    "        else: \n",
    "            row.append(\"\")\n",
    "    data.append(row)"
   ]
  },
  {
   "cell_type": "code",
   "execution_count": 21,
   "metadata": {
    "collapsed": false
   },
   "outputs": [],
   "source": [
    "train_data = []\n",
    "test_data = []\n",
    "\n",
    "for datum in data:\n",
    "    if datum[0][:4]=='2012' or datum[0][:4]=='2013':\n",
    "        test_data.append(datum)\n",
    "    else:\n",
    "        train_data.append(datum)"
   ]
  },
  {
   "cell_type": "code",
   "execution_count": 22,
   "metadata": {
    "collapsed": true
   },
   "outputs": [],
   "source": [
    "with open('train_data.csv','w') as out:\n",
    "    writer = csv.writer(out)\n",
    "    writer.writerow(headers)\n",
    "    for line in train_data:\n",
    "        writer.writerow(line)"
   ]
  },
  {
   "cell_type": "code",
   "execution_count": 23,
   "metadata": {
    "collapsed": true
   },
   "outputs": [],
   "source": [
    "with open('test_data.csv','w') as out:\n",
    "    writer = csv.writer(out)\n",
    "    writer.writerow(headers)\n",
    "    for line in test_data:\n",
    "        writer.writerow(line)"
   ]
  },
  {
   "cell_type": "code",
   "execution_count": null,
   "metadata": {
    "collapsed": true
   },
   "outputs": [],
   "source": []
  },
  {
   "cell_type": "code",
   "execution_count": null,
   "metadata": {
    "collapsed": true
   },
   "outputs": [],
   "source": []
  }
 ],
 "metadata": {
  "anaconda-cloud": {},
  "kernelspec": {
   "display_name": "Python [conda root]",
   "language": "python",
   "name": "conda-root-py"
  },
  "language_info": {
   "codemirror_mode": {
    "name": "ipython",
    "version": 3
   },
   "file_extension": ".py",
   "mimetype": "text/x-python",
   "name": "python",
   "nbconvert_exporter": "python",
   "pygments_lexer": "ipython3",
   "version": "3.5.2"
  }
 },
 "nbformat": 4,
 "nbformat_minor": 1
}
