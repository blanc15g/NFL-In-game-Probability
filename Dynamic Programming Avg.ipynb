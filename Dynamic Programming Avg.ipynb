{
 "cells": [
  {
   "cell_type": "code",
   "execution_count": 2,
   "metadata": {
    "collapsed": true
   },
   "outputs": [],
   "source": [
    "import collections\n",
    "import pickle\n",
    "import functools\n",
    "import numpy as np\n",
    "import matplotlib.pyplot as plt\n",
    "from matplotlib import pylab\n",
    "\n",
    "%matplotlib inline"
   ]
  },
  {
   "cell_type": "code",
   "execution_count": 3,
   "metadata": {
    "collapsed": false
   },
   "outputs": [],
   "source": [
    "with open('basic_buckets.pkl', 'rb') as f:\n",
    "    buckets = pickle.load(f)\n",
    "for i in range(len(buckets)):\n",
    "    if buckets[i] == 6:\n",
    "        buckets[i] = [6]\n",
    "    buckets[i] = list(buckets[i])"
   ]
  },
  {
   "cell_type": "code",
   "execution_count": 4,
   "metadata": {
    "collapsed": false
   },
   "outputs": [
    {
     "data": {
      "text/plain": [
       "[[6, 3, 3, 0],\n",
       " [6, 4, 3, 0],\n",
       " [7, 1, 4, 1],\n",
       " [6, 2, 3, 1],\n",
       " [2, 1, 4, 1],\n",
       " [1, 1, 4, 1],\n",
       " [0, 2, 1, 1],\n",
       " [1, 2, 4, 1],\n",
       " [2, 2, 6, 1],\n",
       " [2, 3, 6, 1],\n",
       " [0, 1, 2, 1],\n",
       " [0, 2, 2, 1],\n",
       " [2, 1],\n",
       " [3, 1],\n",
       " [5, 1],\n",
       " [7, 1, 4, 0],\n",
       " [6, 1, 4, 0],\n",
       " [7, 1, 6, 0],\n",
       " [7, 2, 6, 0],\n",
       " [7, 3, 6, 0]]"
      ]
     },
     "execution_count": 4,
     "metadata": {},
     "output_type": "execute_result"
    }
   ],
   "source": [
    "buckets[140:160]"
   ]
  },
  {
   "cell_type": "code",
   "execution_count": 5,
   "metadata": {
    "collapsed": false
   },
   "outputs": [],
   "source": [
    "counts = collections.defaultdict(collections.Counter)\n",
    "for i in range(len(buckets) - 1):\n",
    "    if buckets[i] != [6] and buckets[i+1] != [6]:\n",
    "        start = buckets[i][:-1]\n",
    "        end = buckets[i+1][:-1]\n",
    "        if buckets[i][-1] == buckets[i+1][-1]:\n",
    "            end.append(0)\n",
    "        else:\n",
    "            end.append(1)\n",
    "    \n",
    "        counts[tuple(start)][tuple(end)] += 1"
   ]
  },
  {
   "cell_type": "code",
   "execution_count": 6,
   "metadata": {
    "collapsed": false
   },
   "outputs": [
    {
     "name": "stdout",
     "output_type": "stream",
     "text": [
      "5\n"
     ]
    }
   ],
   "source": [
    "#remove states we can't support\n",
    "counter = 0\n",
    "updated = True\n",
    "while updated:\n",
    "    updated = False\n",
    "    for bucket_start in counts:\n",
    "        for bucket_end in counts[bucket_start]:\n",
    "            end = list(bucket_end)[:-1]\n",
    "            if tuple(end) not in counts and counts[bucket_start][bucket_end]:\n",
    "                counts[bucket_start][bucket_end] = 0\n",
    "                counter += 1\n",
    "                updated = True\n",
    "    \n",
    "print(counter)"
   ]
  },
  {
   "cell_type": "code",
   "execution_count": 7,
   "metadata": {
    "collapsed": false
   },
   "outputs": [],
   "source": [
    "for bucket_start in counts:\n",
    "    if sum(counts[bucket_start].values()) == 0:\n",
    "        print('bad')"
   ]
  },
  {
   "cell_type": "code",
   "execution_count": 8,
   "metadata": {
    "collapsed": false
   },
   "outputs": [],
   "source": [
    "probabilities = collections.defaultdict(dict)\n",
    "for bucket_start in counts:\n",
    "    total = sum(counts[bucket_start].values())\n",
    "    for bucket_end in counts[bucket_start]:\n",
    "        if counts[bucket_start][bucket_end]:\n",
    "            probabilities[bucket_start][bucket_end] = counts[bucket_start][bucket_end] / total"
   ]
  },
  {
   "cell_type": "code",
   "execution_count": 9,
   "metadata": {
    "collapsed": false
   },
   "outputs": [
    {
     "data": {
      "text/plain": [
       "{(0, 1, 0, 0): 0.0016941973739940702,\n",
       " (0, 1, 1, 0): 0.0012706480304955528,\n",
       " (0, 1, 2, 0): 0.002964845404489623,\n",
       " (0, 1, 3, 0): 0.0016941973739940702,\n",
       " (0, 1, 4, 0): 0.0008470986869970351,\n",
       " (0, 1, 4, 1): 0.00042354934349851756,\n",
       " (1, 1, 4, 0): 0.023295213892418468,\n",
       " (2, 0): 0.007200338839474798,\n",
       " (2, 1): 0.00042354934349851756,\n",
       " (2, 1, 4, 0): 0.06480304955527319,\n",
       " (2, 1, 4, 1): 0.0012706480304955528,\n",
       " (3, 1, 4, 0): 0.21516306649724692,\n",
       " (3, 1, 4, 1): 0.00042354934349851756,\n",
       " (3, 2, 0, 0): 0.0033883947479881405,\n",
       " (3, 3, 0, 0): 0.0529436679373147,\n",
       " (3, 3, 0, 1): 0.00042354934349851756,\n",
       " (3, 3, 1, 0): 0.027530707327403644,\n",
       " (3, 3, 2, 0): 0.0025412960609911056,\n",
       " (4, 1, 4, 0): 0.05040237187632359,\n",
       " (4, 1, 4, 1): 0.0038119440914866584,\n",
       " (4, 1, 5, 0): 0.00042354934349851756,\n",
       " (4, 2, 0, 0): 0.004235493434985175,\n",
       " (4, 2, 2, 0): 0.0012706480304955528,\n",
       " (4, 2, 3, 0): 0.00042354934349851756,\n",
       " (4, 2, 4, 0): 0.005506141465480729,\n",
       " (4, 2, 5, 0): 0.005082592121982211,\n",
       " (4, 3, 0, 0): 0.08894536213468869,\n",
       " (4, 3, 1, 0): 0.08301567132570944,\n",
       " (4, 3, 2, 0): 0.24481152054214317,\n",
       " (4, 3, 3, 0): 0.020330368487928845,\n",
       " (4, 3, 4, 0): 0.005082592121982211,\n",
       " (4, 3, 5, 0): 0.007200338839474798,\n",
       " (5, 1, 4, 0): 0.0008470986869970351,\n",
       " (5, 1, 4, 1): 0.004659042778483694,\n",
       " (5, 2, 4, 0): 0.006776789495976281,\n",
       " (5, 2, 5, 0): 0.012706480304955527,\n",
       " (5, 2, 6, 0): 0.009741634900465904,\n",
       " (5, 2, 7, 0): 0.00042354934349851756,\n",
       " (5, 3, 2, 0): 0.0012706480304955528,\n",
       " (5, 3, 3, 0): 0.005082592121982211,\n",
       " (5, 3, 4, 0): 0.002964845404489623,\n",
       " (5, 3, 5, 0): 0.014824227022448115,\n",
       " (5, 3, 6, 0): 0.0021177467174925877,\n",
       " (5, 3, 7, 0): 0.0008470986869970351,\n",
       " (6, 1, 4, 1): 0.0033883947479881405,\n",
       " (6, 2, 6, 0): 0.00042354934349851756,\n",
       " (6, 3, 0, 1): 0.00042354934349851756,\n",
       " (6, 3, 6, 0): 0.0012706480304955528,\n",
       " (6, 3, 7, 0): 0.00042354934349851756,\n",
       " (7, 1, 4, 1): 0.00042354934349851756,\n",
       " (7, 2, 5, 1): 0.00042354934349851756,\n",
       " (8, 1, 4, 1): 0.0008470986869970351,\n",
       " (9, 1, 4, 1): 0.0012706480304955528}"
      ]
     },
     "execution_count": 9,
     "metadata": {},
     "output_type": "execute_result"
    }
   ],
   "source": [
    "probabilities[list(probabilities.keys())[0]]"
   ]
  },
  {
   "cell_type": "code",
   "execution_count": 10,
   "metadata": {
    "collapsed": false
   },
   "outputs": [
    {
     "data": {
      "text/plain": [
       "{(5, 0): 1.0}"
      ]
     },
     "execution_count": 10,
     "metadata": {},
     "output_type": "execute_result"
    }
   ],
   "source": [
    "probabilities[(3,)]"
   ]
  },
  {
   "cell_type": "code",
   "execution_count": 11,
   "metadata": {
    "collapsed": false
   },
   "outputs": [
    {
     "name": "stdout",
     "output_type": "stream",
     "text": [
      "defaultdict(<class 'int'>, {(0, 1): -3, (2, 0): 6, (0, 0): 3, (3, 0): 1, (1, 0): 2, (3, 1): -1, (4, 1): -2, (1, 1): -2, (2, 1): -6, (4, 0): 2})\n"
     ]
    }
   ],
   "source": [
    "rewards = collections.defaultdict(int)\n",
    "rewards[(0,0)] = 3\n",
    "rewards[(1,0)] = 2\n",
    "rewards[(2,0)] = 6\n",
    "rewards[(3,0)] = 1\n",
    "rewards[(4,0)] = 2\n",
    "for pair in list(rewards.keys()):\n",
    "    rewards[(pair[0], 1-pair[1])] = -rewards[pair]\n",
    "print(rewards)"
   ]
  },
  {
   "cell_type": "code",
   "execution_count": 12,
   "metadata": {
    "collapsed": false
   },
   "outputs": [],
   "source": [
    "THRESHOLD = 10**-8\n",
    "\n",
    "@functools.lru_cache(maxsize = None)\n",
    "def predicted_score_difference(current_state, num_turns_left):\n",
    "    if num_turns_left == 0:\n",
    "        answer = collections.defaultdict(float)\n",
    "        answer[rewards[current_state]] = 1.0\n",
    "        return answer\n",
    "    \n",
    "    child_score_diffs = collections.defaultdict(float)\n",
    "    state,pos = current_state[:-1], current_state[-1]\n",
    "    for child_state in probabilities[state]:\n",
    "        p = probabilities[state][child_state]\n",
    "        child_state = list(child_state)\n",
    "        child_state[-1] = (pos + child_state[-1]) % 2\n",
    "        child_state = tuple(child_state)\n",
    "        child_answer = predicted_score_difference(child_state, num_turns_left - 1)\n",
    "        for score_diff in child_answer:\n",
    "            child_score_diffs[score_diff] += p * child_answer[score_diff]\n",
    "    \n",
    "    answer = collections.defaultdict(float)\n",
    "    for score_diff in child_score_diffs:\n",
    "        if child_score_diffs[score_diff] > THRESHOLD:\n",
    "            answer[score_diff + rewards[current_state]] = child_score_diffs[score_diff]\n",
    "    return answer\n",
    "    "
   ]
  },
  {
   "cell_type": "code",
   "execution_count": 13,
   "metadata": {
    "collapsed": false
   },
   "outputs": [],
   "source": [
    "pdf = predicted_score_difference((4, 2, 2,0), 200)"
   ]
  },
  {
   "cell_type": "code",
   "execution_count": 19,
   "metadata": {
    "collapsed": false
   },
   "outputs": [],
   "source": [
    "score_diff = []\n",
    "probability = []\n",
    "for s, p in sorted(pdf.items()):\n",
    "    score_diff.append(s)\n",
    "    probability.append(p)"
   ]
  },
  {
   "cell_type": "code",
   "execution_count": 21,
   "metadata": {
    "collapsed": false
   },
   "outputs": [
    {
     "data": {
      "image/png": "[encoded data removed]",
      "text/plain": [
       "<matplotlib.figure.Figure at 0x160b829e8>"
      ]
     },
     "metadata": {},
     "output_type": "display_data"
    }
   ],
   "source": [
    "pylab.rcParams['figure.figsize'] = (25.0, 16.0)\n",
    "indexes = np.arange(len(score_diff))\n",
    "width = 1\n",
    "\n",
    "plt.bar(indexes, probability, width)\n",
    "plt.xticks(indexes + width * 0.5, score_diff)\n",
    "plt.show()"
   ]
  },
  {
   "cell_type": "code",
   "execution_count": null,
   "metadata": {
    "collapsed": true
   },
   "outputs": [],
   "source": []
  }
 ],
 "metadata": {
  "anaconda-cloud": {},
  "kernelspec": {
   "display_name": "Python [Root]",
   "language": "python",
   "name": "Python [Root]"
  },
  "language_info": {
   "codemirror_mode": {
    "name": "ipython",
    "version": 3
   },
   "file_extension": ".py",
   "mimetype": "text/x-python",
   "name": "python",
   "nbconvert_exporter": "python",
   "pygments_lexer": "ipython3",
   "version": "3.5.2"
  }
 },
 "nbformat": 4,
 "nbformat_minor": 0
}
