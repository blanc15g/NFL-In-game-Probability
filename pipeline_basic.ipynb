{
 "cells": [
  {
   "cell_type": "code",
   "execution_count": 582,
   "metadata": {
    "collapsed": true
   },
   "outputs": [],
   "source": [
    "import csv\n",
    "import numpy as np\n",
    "import collections\n",
    "import matplotlib.mlab as mlab\n",
    "import matplotlib.pyplot as plt\n",
    "import functools\n",
    "from matplotlib import pylab\n",
    "import math\n",
    "%matplotlib inline"
   ]
  },
  {
   "cell_type": "code",
   "execution_count": 583,
   "metadata": {
    "collapsed": false
   },
   "outputs": [
    {
     "name": "stdout",
     "output_type": "stream",
     "text": [
      "0\n"
     ]
    }
   ],
   "source": [
    "data = []\n",
    "counter = 0\n",
    "with open('train_data.csv', 'r') as f:\n",
    "    reader = csv.DictReader(f)\n",
    "    for i,row in enumerate(reader):\n",
    "        if not row['off'] and not row['def']:\n",
    "            print(i, row)\n",
    "            counter += 1\n",
    "        data.append(row)\n",
    "print(counter)"
   ]
  },
  {
   "cell_type": "code",
   "execution_count": 584,
   "metadata": {
    "collapsed": false
   },
   "outputs": [],
   "source": [
    "grouped_by_game = collections.defaultdict(list)\n",
    "for line in data:\n",
    "    grouped_by_game[line['gameid']].append(line)\n",
    "grouped_by_game = list(grouped_by_game.values())"
   ]
  },
  {
   "cell_type": "code",
   "execution_count": 585,
   "metadata": {
    "collapsed": true
   },
   "outputs": [],
   "source": [
    "for game in grouped_by_game:\n",
    "    for play_dict in game:\n",
    "        for key in play_dict:\n",
    "            try:\n",
    "                play_dict[key] = int(play_dict[key])\n",
    "            except:\n",
    "                pass"
   ]
  },
  {
   "cell_type": "code",
   "execution_count": 586,
   "metadata": {
    "collapsed": false
   },
   "outputs": [],
   "source": [
    "for game in grouped_by_game:\n",
    "    game.sort(key = lambda x: -int(x['time']))"
   ]
  },
  {
   "cell_type": "code",
   "execution_count": 587,
   "metadata": {
    "collapsed": false
   },
   "outputs": [],
   "source": [
    "if 0:\n",
    "    total_average_yardage = []\n",
    "    moving_average = []\n",
    "    num_plays_before_calc = 3\n",
    "    for game in grouped_by_game:\n",
    "        num_total_yards = (0, 0)\n",
    "        num_plays = (0, 0)\n",
    "        yard_per_play=[]\n",
    "        first_team_yards=0\n",
    "        first_team_plays=0\n",
    "        second_team_yards=0\n",
    "        second_team_plays=0\n",
    "\n",
    "        for i in range(len(game)-1):\n",
    "            play_dict = game[i]\n",
    "            alph_first_team = play_dict['off'] if play_dict['off']<play_dict['def'] else play_dict['def']\n",
    "            next_play_dict = game[i+1]\n",
    "            if next_play_dict['down'] is not None and play_dict['down'] is not None and play_dict['ydline'] !='' and next_play_dict['ydline'] !='' and next_play_dict['off']==play_dict['off'] and next_play_dict['description'].find('punt')==-1:\n",
    "                progress = play_dict['ydline']-next_play_dict['ydline']\n",
    "                if play_dict['off']==alph_first_team:\n",
    "                    first_team_yards+=progress\n",
    "                    first_team_plays+=1\n",
    "                    if first_team_plays>num_plays_before_calc:\n",
    "                        moving_average.append(first_team_yards/first_team_plays)\n",
    "                else:\n",
    "                    second_team_yards+=progress\n",
    "                    second_team_plays+=1\n",
    "                    if second_team_plays>num_plays_before_calc:\n",
    "                        moving_average.append(second_team_yards/second_team_plays)\n",
    "                yard_per_play.append(progress)\n",
    "\n",
    "        total_average_yardage.append(first_team_yards/first_team_plays)\n",
    "        total_average_yardage.append(second_team_yards/second_team_plays)"
   ]
  },
  {
   "cell_type": "code",
   "execution_count": 588,
   "metadata": {
    "collapsed": false
   },
   "outputs": [],
   "source": [
    "if 0:\n",
    "    total_average_yardage = np.array(total_average_yardage).reshape(len(total_average_yardage), 1)\n",
    "    moving_average = np.array(moving_average).reshape(len(moving_average), 1)"
   ]
  },
  {
   "cell_type": "code",
   "execution_count": 589,
   "metadata": {
    "collapsed": false,
    "scrolled": true
   },
   "outputs": [],
   "source": [
    "if 0:\n",
    "    plt.hist(moving_average, 100)\n",
    "    plt.show()"
   ]
  },
  {
   "cell_type": "code",
   "execution_count": 590,
   "metadata": {
    "collapsed": true
   },
   "outputs": [],
   "source": [
    "if 0:\n",
    "    for i,game in enumerate(grouped_by_game):\n",
    "        first_team_yards=0.0\n",
    "        first_team_plays=0.0\n",
    "        second_team_yards=0.0\n",
    "        second_team_plays=0.0\n",
    "        for j,play_dict in enumerate(game):\n",
    "            if j < len(game)-1:\n",
    "                alph_first_team = play_dict['off'] if play_dict['off']<play_dict['def'] else play_dict['def']\n",
    "                next_play_dict = game[j+1]\n",
    "                if next_play_dict['down'] is not None and play_dict['down'] is not None and play_dict['ydline'] !='' and next_play_dict['ydline'] !='' and next_play_dict['off']==play_dict['off'] and next_play_dict['description'].find('punt')==-1:\n",
    "                    progress = play_dict['ydline']-next_play_dict['ydline']\n",
    "                    if play_dict['off']==alph_first_team:\n",
    "                        first_team_yards+=progress\n",
    "                        first_team_plays+=1\n",
    "                        play_dict['avg_yards'] = first_team_yards/first_team_plays\n",
    "                        play_dict['num_plays_exec'] = first_team_plays\n",
    "                    else:\n",
    "                        second_team_yards+=progress\n",
    "                        second_team_plays+=1\n",
    "                        play_dict['avg_yards'] = second_team_yards/second_team_plays \n",
    "                        play_dict['num_plays_exec'] = second_team_plays\n",
    "                else: #if yards didn't change/it was not a standard play (i.e. field goal)\n",
    "                    if play_dict['off']==alph_first_team and first_team_plays>0:\n",
    "                        play_dict['avg_yards'] = first_team_yards/first_team_plays\n",
    "                        play_dict['num_plays_exec'] = first_team_plays\n",
    "                    elif second_team_plays>0:\n",
    "                        play_dict['avg_yards'] = second_team_yards/second_team_plays\n",
    "                        play_dict['num_plays_exec'] = second_team_plays"
   ]
  },
  {
   "cell_type": "code",
   "execution_count": 591,
   "metadata": {
    "collapsed": true
   },
   "outputs": [],
   "source": [
    "if 0:    \n",
    "    twenty_perecentile = np.percentile(moving_average, 20)\n",
    "    forty_percentile = np.percentile(moving_average, 40)\n",
    "    sixty_percentile = np.percentile(moving_average, 60)\n",
    "    eighty_percentile = np.percentile(moving_average, 80)"
   ]
  },
  {
   "cell_type": "code",
   "execution_count": 592,
   "metadata": {
    "collapsed": false
   },
   "outputs": [],
   "source": [
    "def put_into_bucket(play_dict):\n",
    "    yard = play_dict['ydline'] // 10\n",
    "    down = play_dict['down']\n",
    "    #if play_dict['togo'] <= 5:\n",
    "    #    togo = 0\n",
    "    #if play_dict['togo'] <= 10:\n",
    "    #    togo = 1\n",
    "    #else:\n",
    "    #    togo = 2\n",
    "    if play_dict['togo'] <= 2:\n",
    "        togo = 0\n",
    "    elif play_dict['togo'] <= 4:\n",
    "        togo = 1\n",
    "    elif play_dict['togo'] <= 6:\n",
    "        togo = 2\n",
    "    elif play_dict['togo'] <= 8:\n",
    "        togo = 3\n",
    "    elif play_dict['togo'] <= 10:\n",
    "        togo = 4\n",
    "    elif play_dict['togo'] <= 15:\n",
    "        togo = 5\n",
    "    elif play_dict['togo'] <= 20:\n",
    "        togo = 6\n",
    "    else:\n",
    "        togo = 7\n",
    "    #average yardage\n",
    "    '''\n",
    "    if play_dict['avg_yards'] <= twenty_perecentile:\n",
    "        avg_yards = 1\n",
    "    elif play_dict['avg_yards'] <= forty_percentile:\n",
    "        avg_yards = 2\n",
    "    elif play_dict['avg_yards'] <= sixty_percentile:\n",
    "        avg_yards = 3\n",
    "    elif play_dict['avg_yards'] <= eighty_percentile:\n",
    "        avg_yards = 4\n",
    "    else:\n",
    "        avg_yards = 5\n",
    "    '''\n",
    "    if play_dict['off'] < play_dict['def']:\n",
    "        posession = 1\n",
    "    else:\n",
    "        posession = 0\n",
    "    return (yard, down, togo, posession)\n",
    "    #return (yard, down, togo, avg_yards, posession)"
   ]
  },
  {
   "cell_type": "code",
   "execution_count": 593,
   "metadata": {
    "collapsed": true
   },
   "outputs": [],
   "source": [
    "def group_by_score_change(game, original_scores = None):\n",
    "    if not game:\n",
    "        return []\n",
    "    if original_scores is None:\n",
    "        original_scores = collections.defaultdict(int)\n",
    "    changed_team = None\n",
    "    changed_score = None\n",
    "    for i, play in enumerate(game):\n",
    "        if original_scores[play['off']] != play['offscore']:\n",
    "            changed_team = play['off']\n",
    "            changed_score = play['offscore'] - original_scores[changed_team]\n",
    "            break\n",
    "        if original_scores[play['def']] != play['defscore']:\n",
    "            changed_team = play['def']\n",
    "            changed_score = play['defscore'] - original_scores[changed_team]\n",
    "            break     \n",
    "    \n",
    "    if changed_team is None:\n",
    "        return [('', 0,game)]\n",
    "    \n",
    "    new_scores = collections.defaultdict(int)\n",
    "    new_scores[play['off']] = play['offscore']\n",
    "    new_scores[play['def']] = play['defscore']\n",
    "    return [(changed_team, changed_score, game[:i+1])] + group_by_score_change(game[i+1:], new_scores)    "
   ]
  },
  {
   "cell_type": "code",
   "execution_count": 594,
   "metadata": {
    "collapsed": false
   },
   "outputs": [],
   "source": [
    "def bucketable(play):\n",
    "    if not play['down']:\n",
    "        return False\n",
    "    if play['down'] < 1:\n",
    "        return False\n",
    "    if play['down'] > 4:\n",
    "        return False\n",
    "    if not play['togo']:\n",
    "        return False\n",
    "    if play['togo'] < 1:\n",
    "        return False\n",
    "    if not play['ydline']:\n",
    "        return False\n",
    "    if play['ydline'] < 1:\n",
    "        return False\n",
    "    if not play['off'] or not play['def']:\n",
    "        return False\n",
    "    \n",
    "    #if 'num_plays_exec' not in play or play['num_plays_exec'] <= 3:\n",
    "    #    return False\n",
    "    \n",
    "    return True\n",
    "    \n"
   ]
  },
  {
   "cell_type": "code",
   "execution_count": 595,
   "metadata": {
    "collapsed": false
   },
   "outputs": [],
   "source": [
    "def possession(play):\n",
    "    if play_dict['off'] < play_dict['def']:\n",
    "        return 1\n",
    "    else:\n",
    "        return 0\n",
    "\n",
    "def bucket_group(group):\n",
    "    global test\n",
    "    test = group\n",
    "    team, diff, group = group\n",
    "    answer = []\n",
    "    teams = set()\n",
    "\n",
    "    for play in group:\n",
    "        teams.add(play['off'])\n",
    "        teams.add(play['def'])\n",
    "    if '' in teams:\n",
    "        teams.remove('')\n",
    "    if team:\n",
    "        #print(teams)\n",
    "        pos = 1 - sorted(teams).index(team)\n",
    "    \n",
    "    if diff != 0:\n",
    "        group2 = group[:-1]\n",
    "    else:\n",
    "        group2 = group\n",
    "    for i, play in enumerate(group2):\n",
    "        if play['time'] in (1800, 3600):\n",
    "            if i == 0 or group2[i-1]['time'] in (1800, 3600):\n",
    "                answer.append([6])\n",
    "        if bucketable(play):\n",
    "            answer.append(put_into_bucket(play))\n",
    "        else:\n",
    "            answer.append([6])\n",
    "            \n",
    "    \n",
    "        \n",
    "    if team:\n",
    "\n",
    "        if answer and answer[-1] == [6]:\n",
    "            answer = answer[:-1]\n",
    "        if diff == 2:\n",
    "            answer.append([1, pos])\n",
    "            answer.append([5, 1-pos])\n",
    "        elif diff == 3:\n",
    "            answer.append([0, pos])\n",
    "            answer.append([5, pos])\n",
    "        elif diff == 6:\n",
    "            answer.append([2, pos])\n",
    "            answer.append([5, pos])\n",
    "        elif diff == 7:\n",
    "            answer.append([2, pos])\n",
    "            answer.append([3, pos])\n",
    "            answer.append([5, pos])\n",
    "        elif diff == 8:\n",
    "            answer.append([2, pos])\n",
    "            answer.append([4, pos])\n",
    "            answer.append([5, pos])\n",
    "        elif diff != 0:\n",
    "            answer.append([6])\n",
    "        '''\n",
    "        play_dict = group[-1]\n",
    "        if 'avg_yards' in play_dict:\n",
    "            if play_dict['avg_yards'] <= twenty_perecentile:\n",
    "                avg_yards = 1\n",
    "            elif play_dict['avg_yards'] <= forty_percentile:\n",
    "                avg_yards = 2\n",
    "            elif play_dict['avg_yards'] <= sixty_percentile:\n",
    "                avg_yards = 3\n",
    "            elif play_dict['avg_yards'] <= eighty_percentile:\n",
    "                avg_yards = 4\n",
    "            else:\n",
    "                avg_yards = 5\n",
    "            if answer and answer[-1] == [6]:\n",
    "                answer = answer[:-1]\n",
    "            if diff == 2:\n",
    "                answer.append([1, avg_yards, pos])\n",
    "                answer.append([5, avg_yards, 1-pos])\n",
    "            elif diff == 3:\n",
    "                answer.append([0, avg_yards, pos])\n",
    "                answer.append([5, avg_yards, pos])\n",
    "            elif diff == 6:\n",
    "                answer.append([2, avg_yards, pos])\n",
    "                answer.append([5, avg_yards, pos])\n",
    "            elif diff == 7:\n",
    "                answer.append([2, avg_yards, pos])\n",
    "                answer.append([3, avg_yards, pos])\n",
    "                answer.append([5, avg_yards, pos])\n",
    "            elif diff == 8:\n",
    "                answer.append([2, avg_yards, pos])\n",
    "                answer.append([4, avg_yards, pos])\n",
    "                answer.append([5, avg_yards, pos])\n",
    "            elif diff != 0:\n",
    "                answer.append([6])'''\n",
    "    return answer\n",
    "        "
   ]
  },
  {
   "cell_type": "code",
   "execution_count": 596,
   "metadata": {
    "collapsed": false
   },
   "outputs": [],
   "source": [
    "def bucket_game(game):\n",
    "    grouped = group_by_score_change(game)\n",
    "    answer = []\n",
    "    for group in grouped:\n",
    "        answer += bucket_group(group)\n",
    "    return answer\n",
    "        \n"
   ]
  },
  {
   "cell_type": "code",
   "execution_count": 597,
   "metadata": {
    "collapsed": false
   },
   "outputs": [
    {
     "data": {
      "text/plain": [
       "[(8, 2, 5, 1),\n",
       " (7, 3, 1, 1),\n",
       " (6, 1, 4, 1),\n",
       " (6, 2, 5, 1),\n",
       " (5, 1, 4, 1),\n",
       " (5, 2, 3, 1),\n",
       " (5, 3, 3, 1),\n",
       " (5, 4, 3, 1),\n",
       " (8, 1, 4, 0),\n",
       " (7, 2, 0, 0),\n",
       " (7, 1, 4, 0),\n",
       " (5, 1, 4, 0),\n",
       " (5, 2, 4, 0),\n",
       " (5, 3, 1, 0),\n",
       " (4, 1, 4, 0),\n",
       " (4, 2, 2, 0),\n",
       " (3, 3, 1, 0),\n",
       " (3, 4, 1, 0),\n",
       " (9, 1, 4, 1),\n",
       " (8, 2, 3, 1),\n",
       " (8, 3, 3, 1),\n",
       " (8, 4, 0, 1),\n",
       " (5, 1, 4, 0),\n",
       " [2, 0],\n",
       " [3, 0],\n",
       " [5, 0],\n",
       " (3, 1, 4, 1),\n",
       " (3, 2, 5, 1),\n",
       " (2, 3, 1, 1),\n",
       " [2, 1],\n",
       " [3, 1],\n",
       " [5, 1],\n",
       " (6, 1, 4, 0),\n",
       " (5, 1, 4, 0),\n",
       " (5, 2, 4, 0),\n",
       " (2, 1, 4, 0),\n",
       " (2, 2, 0, 0),\n",
       " (1, 1, 4, 0),\n",
       " [2, 0],\n",
       " [3, 0],\n",
       " [5, 0],\n",
       " (7, 1, 4, 1),\n",
       " (7, 2, 4, 1),\n",
       " (7, 3, 4, 1),\n",
       " (7, 4, 4, 1),\n",
       " (6, 1, 4, 0),\n",
       " (5, 1, 4, 0),\n",
       " (9, 1, 4, 1),\n",
       " (8, 2, 3, 1),\n",
       " (7, 1, 4, 1),\n",
       " (7, 2, 3, 1),\n",
       " (7, 3, 3, 1),\n",
       " (6, 1, 4, 1),\n",
       " (4, 1, 4, 1),\n",
       " (5, 1, 6, 1),\n",
       " (6, 2, 7, 1),\n",
       " (4, 3, 4, 1),\n",
       " (4, 4, 4, 1),\n",
       " (8, 1, 4, 0),\n",
       " (7, 2, 2, 0),\n",
       " (8, 2, 5, 0),\n",
       " (6, 1, 4, 0),\n",
       " (6, 2, 4, 0),\n",
       " (5, 3, 0, 0),\n",
       " (5, 1, 4, 0),\n",
       " (3, 1, 4, 0),\n",
       " (3, 2, 4, 0),\n",
       " (4, 3, 5, 0),\n",
       " (1, 1, 4, 0),\n",
       " (1, 2, 4, 0),\n",
       " (1, 3, 4, 0),\n",
       " (1, 4, 4, 0),\n",
       " [0, 0],\n",
       " [5, 0],\n",
       " (7, 1, 4, 1),\n",
       " (7, 2, 3, 1),\n",
       " (6, 3, 1, 1),\n",
       " (6, 4, 1, 1),\n",
       " (6, 1, 4, 0),\n",
       " (7, 2, 5, 0),\n",
       " [6],\n",
       " (7, 1, 4, 0),\n",
       " (6, 2, 1, 0),\n",
       " (6, 3, 3, 0),\n",
       " (5, 1, 4, 0),\n",
       " (2, 1, 4, 0),\n",
       " (2, 2, 5, 0),\n",
       " (2, 3, 5, 0),\n",
       " (1, 4, 1, 0),\n",
       " [0, 0],\n",
       " [5, 0],\n",
       " (6, 1, 4, 1),\n",
       " (6, 2, 3, 1),\n",
       " (3, 1, 4, 0),\n",
       " (3, 2, 3, 0),\n",
       " (4, 2, 6, 0),\n",
       " (4, 3, 5, 0),\n",
       " (4, 4, 5, 0),\n",
       " (9, 1, 4, 1),\n",
       " (9, 2, 5, 1),\n",
       " (9, 3, 5, 1),\n",
       " (9, 3, 5, 1),\n",
       " (9, 3, 5, 1),\n",
       " [1, 0],\n",
       " [5, 1],\n",
       " (4, 1, 4, 0),\n",
       " (4, 2, 4, 0),\n",
       " (4, 3, 6, 0),\n",
       " (4, 4, 5, 0),\n",
       " (9, 1, 4, 1),\n",
       " (9, 2, 4, 1),\n",
       " (9, 3, 4, 1),\n",
       " [1, 0],\n",
       " [5, 1],\n",
       " (6, 1, 4, 0),\n",
       " (6, 2, 4, 0),\n",
       " (6, 3, 5, 0),\n",
       " (6, 4, 5, 0),\n",
       " (7, 1, 4, 1),\n",
       " (5, 1, 4, 1),\n",
       " (5, 2, 4, 1),\n",
       " (4, 3, 0, 1),\n",
       " (4, 1, 4, 1),\n",
       " (3, 2, 2, 1),\n",
       " (4, 3, 3, 1),\n",
       " (4, 4, 3, 1),\n",
       " (9, 1, 4, 0),\n",
       " (9, 2, 3, 0),\n",
       " (9, 3, 5, 0),\n",
       " (8, 4, 1, 0),\n",
       " (5, 1, 4, 1),\n",
       " (5, 2, 2, 1),\n",
       " (4, 1, 4, 1),\n",
       " (5, 1, 6, 1),\n",
       " (5, 2, 5, 1),\n",
       " (4, 3, 1, 1),\n",
       " (4, 4, 1, 1),\n",
       " (5, 1, 4, 0),\n",
       " (5, 2, 3, 0),\n",
       " (5, 3, 0, 0),\n",
       " (4, 1, 4, 0),\n",
       " (5, 1, 6, 0),\n",
       " (5, 2, 6, 0),\n",
       " (5, 3, 6, 0),\n",
       " (3, 1, 4, 0),\n",
       " (3, 2, 3, 0),\n",
       " (3, 3, 4, 0),\n",
       " (2, 4, 0, 0),\n",
       " (7, 1, 4, 1),\n",
       " (7, 2, 4, 1),\n",
       " (1, 1, 4, 0),\n",
       " (1, 2, 2, 0),\n",
       " (1, 3, 1, 0),\n",
       " (1, 4, 0, 0),\n",
       " (0, 1, 2, 0),\n",
       " (0, 2, 3, 0),\n",
       " (0, 3, 3, 0)]"
      ]
     },
     "execution_count": 597,
     "metadata": {},
     "output_type": "execute_result"
    }
   ],
   "source": [
    "bucket_game(grouped_by_game[0])"
   ]
  },
  {
   "cell_type": "code",
   "execution_count": 598,
   "metadata": {
    "collapsed": false
   },
   "outputs": [],
   "source": [
    "bucket_sequence = []\n",
    "for game in grouped_by_game:\n",
    "    bucket_sequence += bucket_game(game)\n",
    "    bucket_sequence += [6]"
   ]
  },
  {
   "cell_type": "code",
   "execution_count": 599,
   "metadata": {
    "collapsed": false
   },
   "outputs": [
    {
     "data": {
      "text/plain": [
       "441183"
      ]
     },
     "execution_count": 599,
     "metadata": {},
     "output_type": "execute_result"
    }
   ],
   "source": [
    "buckets = bucket_sequence #glue scripts together\n",
    "len(buckets)"
   ]
  },
  {
   "cell_type": "code",
   "execution_count": 600,
   "metadata": {
    "collapsed": false
   },
   "outputs": [],
   "source": [
    "for i in range(len(buckets)):\n",
    "    if buckets[i] == 6:\n",
    "        buckets[i] = [6]\n",
    "    buckets[i] = list(buckets[i])"
   ]
  },
  {
   "cell_type": "code",
   "execution_count": 601,
   "metadata": {
    "collapsed": false
   },
   "outputs": [
    {
     "data": {
      "text/plain": [
       "[[8, 2, 5, 1],\n",
       " [7, 3, 1, 1],\n",
       " [6, 1, 4, 1],\n",
       " [6, 2, 5, 1],\n",
       " [5, 1, 4, 1],\n",
       " [5, 2, 3, 1],\n",
       " [5, 3, 3, 1],\n",
       " [5, 4, 3, 1],\n",
       " [8, 1, 4, 0],\n",
       " [7, 2, 0, 0],\n",
       " [7, 1, 4, 0],\n",
       " [5, 1, 4, 0],\n",
       " [5, 2, 4, 0],\n",
       " [5, 3, 1, 0],\n",
       " [4, 1, 4, 0],\n",
       " [4, 2, 2, 0],\n",
       " [3, 3, 1, 0],\n",
       " [3, 4, 1, 0],\n",
       " [9, 1, 4, 1],\n",
       " [8, 2, 3, 1],\n",
       " [8, 3, 3, 1],\n",
       " [8, 4, 0, 1],\n",
       " [5, 1, 4, 0],\n",
       " [2, 0],\n",
       " [3, 0],\n",
       " [5, 0],\n",
       " [3, 1, 4, 1],\n",
       " [3, 2, 5, 1],\n",
       " [2, 3, 1, 1],\n",
       " [2, 1],\n",
       " [3, 1],\n",
       " [5, 1],\n",
       " [6, 1, 4, 0],\n",
       " [5, 1, 4, 0],\n",
       " [5, 2, 4, 0],\n",
       " [2, 1, 4, 0],\n",
       " [2, 2, 0, 0],\n",
       " [1, 1, 4, 0],\n",
       " [2, 0],\n",
       " [3, 0],\n",
       " [5, 0],\n",
       " [7, 1, 4, 1],\n",
       " [7, 2, 4, 1],\n",
       " [7, 3, 4, 1],\n",
       " [7, 4, 4, 1],\n",
       " [6, 1, 4, 0],\n",
       " [5, 1, 4, 0],\n",
       " [9, 1, 4, 1],\n",
       " [8, 2, 3, 1],\n",
       " [7, 1, 4, 1],\n",
       " [7, 2, 3, 1],\n",
       " [7, 3, 3, 1],\n",
       " [6, 1, 4, 1],\n",
       " [4, 1, 4, 1],\n",
       " [5, 1, 6, 1],\n",
       " [6, 2, 7, 1],\n",
       " [4, 3, 4, 1],\n",
       " [4, 4, 4, 1],\n",
       " [8, 1, 4, 0],\n",
       " [7, 2, 2, 0],\n",
       " [8, 2, 5, 0],\n",
       " [6, 1, 4, 0],\n",
       " [6, 2, 4, 0],\n",
       " [5, 3, 0, 0],\n",
       " [5, 1, 4, 0],\n",
       " [3, 1, 4, 0],\n",
       " [3, 2, 4, 0],\n",
       " [4, 3, 5, 0],\n",
       " [1, 1, 4, 0],\n",
       " [1, 2, 4, 0],\n",
       " [1, 3, 4, 0],\n",
       " [1, 4, 4, 0],\n",
       " [0, 0],\n",
       " [5, 0],\n",
       " [7, 1, 4, 1],\n",
       " [7, 2, 3, 1],\n",
       " [6, 3, 1, 1],\n",
       " [6, 4, 1, 1],\n",
       " [6, 1, 4, 0],\n",
       " [7, 2, 5, 0],\n",
       " [6],\n",
       " [7, 1, 4, 0],\n",
       " [6, 2, 1, 0],\n",
       " [6, 3, 3, 0],\n",
       " [5, 1, 4, 0],\n",
       " [2, 1, 4, 0],\n",
       " [2, 2, 5, 0],\n",
       " [2, 3, 5, 0],\n",
       " [1, 4, 1, 0],\n",
       " [0, 0],\n",
       " [5, 0],\n",
       " [6, 1, 4, 1],\n",
       " [6, 2, 3, 1],\n",
       " [3, 1, 4, 0],\n",
       " [3, 2, 3, 0],\n",
       " [4, 2, 6, 0],\n",
       " [4, 3, 5, 0],\n",
       " [4, 4, 5, 0],\n",
       " [9, 1, 4, 1],\n",
       " [9, 2, 5, 1]]"
      ]
     },
     "execution_count": 601,
     "metadata": {},
     "output_type": "execute_result"
    }
   ],
   "source": [
    "buckets[:100]"
   ]
  },
  {
   "cell_type": "code",
   "execution_count": 602,
   "metadata": {
    "collapsed": false
   },
   "outputs": [
    {
     "data": {
      "text/plain": [
       "[4, 3, 5]"
      ]
     },
     "execution_count": 602,
     "metadata": {},
     "output_type": "execute_result"
    }
   ],
   "source": [
    "buckets[96][:-1]"
   ]
  },
  {
   "cell_type": "code",
   "execution_count": 603,
   "metadata": {
    "collapsed": false
   },
   "outputs": [],
   "source": [
    "counts = collections.defaultdict(collections.Counter)\n",
    "for i in range(len(buckets) - 1):\n",
    "    if buckets[i] != [6] and buckets[i+1] != [6]:\n",
    "        start = buckets[i][:-1]\n",
    "        end = buckets[i+1][:-1]\n",
    "        if buckets[i][-1] == buckets[i+1][-1]:\n",
    "            end.append(0)\n",
    "        else:\n",
    "            end.append(1)\n",
    "    \n",
    "        counts[tuple(start)][tuple(end)] += 1"
   ]
  },
  {
   "cell_type": "code",
   "execution_count": 604,
   "metadata": {
    "collapsed": false
   },
   "outputs": [
    {
     "data": {
      "text/plain": [
       "Counter({(0, 1, 0, 0): 1,\n",
       "         (0, 1, 0, 1): 1,\n",
       "         (0, 1, 1, 0): 3,\n",
       "         (0, 1, 1, 1): 1,\n",
       "         (0, 1, 2, 0): 3,\n",
       "         (0, 1, 3, 0): 6,\n",
       "         (0, 1, 3, 1): 1,\n",
       "         (0, 1, 4, 0): 2,\n",
       "         (1, 1, 4, 0): 22,\n",
       "         (1, 1, 4, 1): 1,\n",
       "         (2, 0): 19,\n",
       "         (2, 1): 1,\n",
       "         (2, 1, 4, 0): 122,\n",
       "         (3, 1, 2, 0): 1,\n",
       "         (3, 1, 4, 0): 320,\n",
       "         (3, 1, 4, 1): 4,\n",
       "         (3, 1, 7, 0): 1,\n",
       "         (3, 3, 0, 0): 11,\n",
       "         (3, 4, 0, 0): 43,\n",
       "         (3, 4, 1, 0): 7,\n",
       "         (3, 4, 2, 0): 2,\n",
       "         (4, 1, 4, 0): 97,\n",
       "         (4, 1, 4, 1): 7,\n",
       "         (4, 2, 4, 0): 1,\n",
       "         (4, 3, 0, 0): 6,\n",
       "         (4, 3, 4, 0): 7,\n",
       "         (4, 3, 5, 0): 12,\n",
       "         (4, 4, 0, 0): 68,\n",
       "         (4, 4, 1, 0): 40,\n",
       "         (4, 4, 2, 0): 428,\n",
       "         (4, 4, 3, 0): 11,\n",
       "         (4, 4, 4, 0): 11,\n",
       "         (4, 4, 5, 0): 11,\n",
       "         (4, 4, 6, 0): 1,\n",
       "         (5, 1, 4, 0): 2,\n",
       "         (5, 1, 4, 1): 13,\n",
       "         (5, 3, 4, 0): 13,\n",
       "         (5, 3, 5, 0): 21,\n",
       "         (5, 3, 6, 0): 9,\n",
       "         (5, 3, 7, 0): 1,\n",
       "         (5, 4, 2, 0): 4,\n",
       "         (5, 4, 3, 0): 6,\n",
       "         (5, 4, 4, 0): 4,\n",
       "         (5, 4, 5, 0): 53,\n",
       "         (5, 4, 6, 0): 13,\n",
       "         (6, 1, 4, 1): 7,\n",
       "         (6, 4, 6, 0): 1,\n",
       "         (6, 4, 7, 0): 1,\n",
       "         (7, 1, 4, 1): 8,\n",
       "         (7, 4, 2, 0): 1,\n",
       "         (7, 4, 7, 0): 2,\n",
       "         (8, 1, 4, 1): 4,\n",
       "         (8, 4, 2, 1): 1,\n",
       "         (9, 1, 4, 1): 3})"
      ]
     },
     "execution_count": 604,
     "metadata": {},
     "output_type": "execute_result"
    }
   ],
   "source": [
    "counts[(4,3,2)]"
   ]
  },
  {
   "cell_type": "code",
   "execution_count": 605,
   "metadata": {
    "collapsed": false
   },
   "outputs": [
    {
     "name": "stdout",
     "output_type": "stream",
     "text": [
      "(8, 3, 2) (10, 4, 0, 1)\n",
      "(8, 3, 6) (10, 4, 7, 0)\n",
      "(9, 3, 1) (10, 3, 3, 0)\n",
      "(7, 3, 5) (10, 4, 2, 1)\n",
      "(9, 1, 4) (10, 2, 3, 0)\n",
      "5\n"
     ]
    }
   ],
   "source": [
    "#remove states we can't support\n",
    "counter = 0\n",
    "updated = True\n",
    "while updated:\n",
    "    updated = False\n",
    "    for bucket_start in counts:\n",
    "        for bucket_end in counts[bucket_start]:\n",
    "            end = list(bucket_end)[:-1]\n",
    "            if tuple(end) not in counts and counts[bucket_start][bucket_end]:\n",
    "                print(bucket_start, bucket_end)\n",
    "                counts[bucket_start][bucket_end] = 0\n",
    "                counter += 1\n",
    "                updated = True\n",
    "    \n",
    "print(counter)"
   ]
  },
  {
   "cell_type": "code",
   "execution_count": 606,
   "metadata": {
    "collapsed": false
   },
   "outputs": [
    {
     "data": {
      "text/plain": [
       "[[8, 2, 6, 1], [8, 3, 6, 1], [10, 4, 7, 1], [6], [6, 1, 4, 0]]"
      ]
     },
     "execution_count": 606,
     "metadata": {},
     "output_type": "execute_result"
    }
   ],
   "source": [
    "buckets[382455: 382460]"
   ]
  },
  {
   "cell_type": "code",
   "execution_count": 607,
   "metadata": {
    "collapsed": true
   },
   "outputs": [],
   "source": [
    "for bucket_start in counts:\n",
    "    if sum(counts[bucket_start].values()) == 0:\n",
    "        raise Exception(\"Hit Guy up to fix\")"
   ]
  },
  {
   "cell_type": "code",
   "execution_count": 608,
   "metadata": {
    "collapsed": true
   },
   "outputs": [],
   "source": [
    "probabilities = collections.defaultdict(dict)\n",
    "for bucket_start in counts:\n",
    "    total = sum(counts[bucket_start].values())\n",
    "    for bucket_end in counts[bucket_start]:\n",
    "        if counts[bucket_start][bucket_end]:\n",
    "            probabilities[bucket_start][bucket_end] = counts[bucket_start][bucket_end] / total"
   ]
  },
  {
   "cell_type": "code",
   "execution_count": 609,
   "metadata": {
    "collapsed": false
   },
   "outputs": [
    {
     "data": {
      "text/plain": [
       "{(0, 1, 0, 1): 0.0009541984732824427,\n",
       " (0, 1, 3, 0): 0.0009541984732824427,\n",
       " (1, 1, 4, 0): 0.0009541984732824427,\n",
       " (1, 1, 4, 1): 0.007633587786259542,\n",
       " (2, 0): 0.0028625954198473282,\n",
       " (2, 1): 0.0009541984732824427,\n",
       " (2, 1, 4, 0): 0.0019083969465648854,\n",
       " (2, 1, 4, 1): 0.0019083969465648854,\n",
       " (3, 1, 4, 0): 0.0019083969465648854,\n",
       " (3, 1, 4, 1): 0.0009541984732824427,\n",
       " (4, 1, 4, 0): 0.006679389312977099,\n",
       " (4, 1, 4, 1): 0.0019083969465648854,\n",
       " (5, 1, 4, 0): 0.015267175572519083,\n",
       " (5, 4, 7, 1): 0.0009541984732824427,\n",
       " (6, 1, 4, 0): 0.05820610687022901,\n",
       " (6, 1, 4, 1): 0.0009541984732824427,\n",
       " (7, 1, 4, 0): 0.2032442748091603,\n",
       " (7, 2, 0, 0): 0.0019083969465648854,\n",
       " (7, 3, 0, 0): 0.08015267175572519,\n",
       " (7, 3, 1, 0): 0.04007633587786259,\n",
       " (7, 3, 2, 0): 0.0057251908396946565,\n",
       " (8, 1, 4, 0): 0.04770992366412214,\n",
       " (8, 2, 0, 0): 0.0019083969465648854,\n",
       " (8, 2, 1, 0): 0.0009541984732824427,\n",
       " (8, 2, 2, 0): 0.0009541984732824427,\n",
       " (8, 2, 4, 0): 0.008587786259541985,\n",
       " (8, 2, 5, 0): 0.008587786259541985,\n",
       " (8, 3, 0, 0): 0.07824427480916031,\n",
       " (8, 3, 1, 0): 0.09732824427480916,\n",
       " (8, 3, 2, 0): 0.22805343511450382,\n",
       " (8, 3, 3, 0): 0.03148854961832061,\n",
       " (8, 3, 4, 0): 0.012404580152671756,\n",
       " (8, 3, 5, 0): 0.004770992366412214,\n",
       " (9, 2, 4, 0): 0.003816793893129771,\n",
       " (9, 2, 5, 0): 0.01812977099236641,\n",
       " (9, 2, 6, 0): 0.0009541984732824427,\n",
       " (9, 3, 2, 0): 0.0009541984732824427,\n",
       " (9, 3, 3, 0): 0.0019083969465648854,\n",
       " (9, 3, 4, 0): 0.003816793893129771,\n",
       " (9, 3, 5, 0): 0.011450381679389313,\n",
       " (9, 3, 6, 0): 0.0019083969465648854}"
      ]
     },
     "execution_count": 609,
     "metadata": {},
     "output_type": "execute_result"
    }
   ],
   "source": [
    "probabilities[(8, 2, 2)]"
   ]
  },
  {
   "cell_type": "code",
   "execution_count": 610,
   "metadata": {
    "collapsed": false
   },
   "outputs": [
    {
     "name": "stdout",
     "output_type": "stream",
     "text": [
      "defaultdict(<class 'int'>, {(0, 1): -3, (2, 0): 6, (0, 0): 3, (3, 0): 1, (1, 0): 2, (3, 1): -1, (4, 1): -2, (1, 1): -2, (2, 1): -6, (4, 0): 2})\n"
     ]
    }
   ],
   "source": [
    "rewards = collections.defaultdict(int)\n",
    "rewards[(0,0)] = 3\n",
    "rewards[(1,0)] = 2\n",
    "rewards[(2,0)] = 6\n",
    "rewards[(3,0)] = 1\n",
    "rewards[(4,0)] = 2\n",
    "for pair in list(rewards.keys()):\n",
    "    rewards[(pair[0], 1-pair[1])] = -rewards[pair]\n",
    "print(rewards)"
   ]
  },
  {
   "cell_type": "code",
   "execution_count": 611,
   "metadata": {
    "collapsed": true
   },
   "outputs": [],
   "source": [
    "THRESHOLD = 10**-8\n",
    "\n",
    "@functools.lru_cache(maxsize = None)\n",
    "def predicted_score_difference(current_state, num_turns_left):\n",
    "    if num_turns_left == 0:\n",
    "        answer = collections.defaultdict(float)\n",
    "        answer[rewards[current_state]] = 1.0\n",
    "        return answer\n",
    "    \n",
    "    child_score_diffs = collections.defaultdict(float)\n",
    "    state,pos = current_state[:-1], current_state[-1]\n",
    "    for child_state in probabilities[state]:\n",
    "        p = probabilities[state][child_state]\n",
    "        #transition to child_state with probability p\n",
    "        \n",
    "        child_state = list(child_state)\n",
    "        child_state[-1] = (pos + child_state[-1]) % 2\n",
    "        child_state = tuple(child_state)\n",
    "        child_answer = predicted_score_difference(child_state, num_turns_left - 1)\n",
    "        for score_diff in child_answer:\n",
    "            child_score_diffs[score_diff] += p * child_answer[score_diff]\n",
    "    \n",
    "    answer = collections.defaultdict(float)\n",
    "    for score_diff in child_score_diffs:\n",
    "        if child_score_diffs[score_diff] > THRESHOLD:\n",
    "            answer[score_diff + rewards[current_state]] = child_score_diffs[score_diff]\n",
    "    return answer\n",
    "    "
   ]
  },
  {
   "cell_type": "code",
   "execution_count": 648,
   "metadata": {
    "collapsed": false
   },
   "outputs": [],
   "source": [
    "def compute_metrics_for_game(pdf, start_diff, end_diff):\n",
    "    actual_diff = end_diff - start_diff\n",
    "    #print(pdf, actual_diff)\n",
    "    metric2 = math.log(pdf[actual_diff])\n",
    "    expected_value = 0\n",
    "    pairs = []\n",
    "    for diff in pdf:\n",
    "        pairs.append([pdf[diff], diff])\n",
    "        expected_value += diff * pdf[diff]\n",
    "    metric1 = (expected_value - actual_diff) ** 2\n",
    "    pairs.sort(reverse = True)\n",
    "    metric3 = 0\n",
    "    for pair in pairs[:10]:\n",
    "        if pair[1] == actual_diff:\n",
    "            metric3 = 1\n",
    "    return (metric1, metric2, metric3)"
   ]
  },
  {
   "cell_type": "code",
   "execution_count": 613,
   "metadata": {
    "collapsed": true
   },
   "outputs": [],
   "source": [
    "test_data = []\n",
    "with open('formatted_test.csv') as f:\n",
    "    reader = csv.DictReader(f)\n",
    "    for line in reader:\n",
    "        test_data.append(line)"
   ]
  },
  {
   "cell_type": "code",
   "execution_count": 614,
   "metadata": {
    "collapsed": false
   },
   "outputs": [],
   "source": [
    "for row in test_data:\n",
    "    for feature in ('def_team_avg_yards', 'off_team_avg_yards'):\n",
    "        row[feature] = float(row[feature])\n",
    "    for feature in ('down', 'final_diff', 'third_diff', 'togo', 'yard_line'):\n",
    "        row[feature] = int(row[feature])\n",
    "    "
   ]
  },
  {
   "cell_type": "code",
   "execution_count": 615,
   "metadata": {
    "collapsed": true
   },
   "outputs": [],
   "source": [
    "def put_into_bucket_test(play_dict):\n",
    "    play_dict['ydline'] = play_dict['yard_line']\n",
    "    play_dict['off'] = 'a'\n",
    "    play_dict['def'] = 'a'\n",
    "    if play_dict['yard_line'] == -1 or play_dict['down'] == -1 or play_dict['togo'] == -1:\n",
    "        return (5,)\n",
    "    bucket = put_into_bucket(play_dict)\n",
    "    return bucket[:-1]\n",
    "    #return (yard, down, togo, avg_yards, posession)\n",
    "    \n"
   ]
  },
  {
   "cell_type": "code",
   "execution_count": 652,
   "metadata": {
    "collapsed": false
   },
   "outputs": [],
   "source": [
    "metrics = [0,0,0]\n",
    "for game in test_data:\n",
    "    start_bucket = tuple(list(put_into_bucket_test(game)) + [0])\n",
    "    \n",
    "    pdf = compute_full_pdf(start_bucket)\n",
    "    for i, metric in enumerate(compute_metrics_for_game(pdf, game['third_diff'], game['final_diff'])):\n",
    "        metrics[i] += metric"
   ]
  },
  {
   "cell_type": "code",
   "execution_count": 651,
   "metadata": {
    "collapsed": false
   },
   "outputs": [
    {
     "data": {
      "image/png": "[encoded data removed]",
      "text/plain": [
       "<matplotlib.figure.Figure at 0x1340bea58>"
      ]
     },
     "metadata": {},
     "output_type": "display_data"
    }
   ],
   "source": [
    "pdf = predicted_score_difference((1, 1, 1, 0), 43)\n",
    "score_diff = []\n",
    "probability = []\n",
    "for s, p in sorted(pdf.items()):\n",
    "    score_diff.append(s)\n",
    "    probability.append(p)\n",
    "pylab.rcParams['figure.figsize'] = (25.0, 16.0)\n",
    "indexes = np.arange(len(score_diff))\n",
    "width = 1\n",
    "\n",
    "plt.bar(indexes, probability, width)\n",
    "plt.xticks(indexes + width * 0.5, score_diff)\n",
    "plt.show()"
   ]
  },
  {
   "cell_type": "code",
   "execution_count": 653,
   "metadata": {
    "collapsed": false
   },
   "outputs": [
    {
     "name": "stdout",
     "output_type": "stream",
     "text": [
      "51.25832230949707\n",
      "-3.0165102195221607\n",
      "0.7346938775510204\n"
     ]
    }
   ],
   "source": [
    "for i in range(3):\n",
    "    print(metrics[i] / len(test_data))"
   ]
  },
  {
   "cell_type": "code",
   "execution_count": 641,
   "metadata": {
    "collapsed": false,
    "scrolled": true
   },
   "outputs": [
    {
     "name": "stdout",
     "output_type": "stream",
     "text": [
      "51.25832230949707\n",
      "-3.0165102195221607\n",
      "0.5374149659863946\n"
     ]
    }
   ],
   "source": [
    "for i in range(3):\n",
    "    print(metrics[i] / len(test_data))"
   ]
  },
  {
   "cell_type": "code",
   "execution_count": 646,
   "metadata": {
    "collapsed": false
   },
   "outputs": [
    {
     "name": "stdout",
     "output_type": "stream",
     "text": [
      "-40 40\n"
     ]
    },
    {
     "data": {
      "image/png": "[encoded data removed]",
      "text/plain": [
       "<matplotlib.figure.Figure at 0x13708e2e8>"
      ]
     },
     "metadata": {},
     "output_type": "display_data"
    }
   ],
   "source": [
    "pdf = predicted_score_difference((5, 2, 3, 0), 43)\n",
    "score_diff = []\n",
    "probability = []\n",
    "smallest = sorted(pdf.items())[0][0]\n",
    "largest = sorted(pdf.items())[-1][0]\n",
    "print(smallest, largest)\n",
    "for s in range(-40, 41):\n",
    "    p = pdf[s]\n",
    "    score_diff.append(s)\n",
    "    probability.append(p)\n",
    "pylab.rcParams['figure.figsize'] = (25.0, 16.0)\n",
    "indexes = np.arange(len(score_diff))\n",
    "width = 1\n",
    "\n",
    "plt.bar(indexes, probability, width)\n",
    "plt.xticks(indexes + width * 0.5, score_diff)\n",
    "plt.show()"
   ]
  },
  {
   "cell_type": "code",
   "execution_count": 647,
   "metadata": {
    "collapsed": false
   },
   "outputs": [
    {
     "data": {
      "text/plain": [
       "[0.0,\n",
       " 0.0,\n",
       " 0.0,\n",
       " 0.0,\n",
       " 0.0,\n",
       " 8.590913049238271e-08,\n",
       " 5.0368203818119676e-08,\n",
       " 0.0,\n",
       " 1.5711050756106297e-08,\n",
       " 2.548633682137432e-07,\n",
       " 2.6705686233336825e-07,\n",
       " 2.2177029473051696e-06,\n",
       " 2.037014604185237e-05,\n",
       " 9.296077812488939e-06,\n",
       " 1.5850385583882454e-06,\n",
       " 6.277214890443037e-06,\n",
       " 5.011779136713652e-05,\n",
       " 2.3572892652339315e-05,\n",
       " 0.00010405134611239556,\n",
       " 0.001239967044119184,\n",
       " 0.00037407134633000994,\n",
       " 6.821197429555011e-05,\n",
       " 0.0004495251651954358,\n",
       " 0.0026115492896615776,\n",
       " 0.0005797023174168079,\n",
       " 0.001137845216986586,\n",
       " 0.019016131121245405,\n",
       " 0.004453014910757983,\n",
       " 0.0009608433304050931,\n",
       " 0.010186653540399855,\n",
       " 0.029217967145849514,\n",
       " 0.003118157385082037,\n",
       " 0.004712402539546323,\n",
       " 0.08921577953533989,\n",
       " 0.017702187046593078,\n",
       " 0.0030762228689117485,\n",
       " 0.058551314514242815,\n",
       " 0.07531590013439553,\n",
       " 0.003827710712997583,\n",
       " 0.017395923425741425,\n",
       " 0.17108356029438385,\n",
       " 0.014171072690631397,\n",
       " 0.00496711010842484,\n",
       " 0.10213584975602819,\n",
       " 0.05876123514674941,\n",
       " 0.003581810351036449,\n",
       " 0.03014598223630368,\n",
       " 0.12043584073974453,\n",
       " 0.006401019994826536,\n",
       " 0.0061579744404007385,\n",
       " 0.05581803490536087,\n",
       " 0.015448034944679443,\n",
       " 0.0018260290038738262,\n",
       " 0.010416756617782911,\n",
       " 0.03608635802669192,\n",
       " 0.0022258365342286844,\n",
       " 0.0016184951918991543,\n",
       " 0.008202853469914815,\n",
       " 0.0011983751882454657,\n",
       " 0.0002042244313135899,\n",
       " 0.0010939697642543282,\n",
       " 0.0037435135945758017,\n",
       " 0.0003172356907138771,\n",
       " 9.948837804318133e-05,\n",
       " 0.00024561785569479324,\n",
       " 2.8044164508722404e-05,\n",
       " 6.822311534540335e-06,\n",
       " 3.960782358468145e-05,\n",
       " 9.450511810154042e-05,\n",
       " 1.0376668501719334e-05,\n",
       " 1.5622343689044508e-06,\n",
       " 1.7725786993998285e-06,\n",
       " 2.0078199436476908e-07,\n",
       " 6.761828914708405e-08,\n",
       " 3.7279793340999653e-07,\n",
       " 6.115440315199974e-07,\n",
       " 7.386088970538335e-08,\n",
       " 0.0,\n",
       " 0.0,\n",
       " 0.0,\n",
       " 0.0]"
      ]
     },
     "execution_count": 647,
     "metadata": {},
     "output_type": "execute_result"
    }
   ],
   "source": [
    "probability"
   ]
  },
  {
   "cell_type": "code",
   "execution_count": 635,
   "metadata": {
    "collapsed": false
   },
   "outputs": [
    {
     "data": {
      "text/plain": [
       "0.9999999991033468"
      ]
     },
     "execution_count": 635,
     "metadata": {},
     "output_type": "execute_result"
    }
   ],
   "source": [
    "mean = 44\n",
    "var = 43.2\n",
    "sum(1/math.sqrt(2*math.pi * var)*math.exp(-(play - mean)**2 / (2 * var)) for play in range(5,100))\n",
    "    "
   ]
  },
  {
   "cell_type": "code",
   "execution_count": 650,
   "metadata": {
    "collapsed": true
   },
   "outputs": [],
   "source": [
    "def compute_full_pdf(start_bucket):\n",
    "    mean = 44\n",
    "    var = 43.2\n",
    "    answer = collections.defaultdict(float)\n",
    "    for play in range(2,100):\n",
    "        p = 1/math.sqrt(2*math.pi * var)*math.exp(-(play - mean)**2 / (2 * var))\n",
    "        pdf = predicted_score_difference(start_bucket, play)\n",
    "        for score_diff in pdf:\n",
    "            answer[score_diff] += p * pdf[score_diff]\n",
    "    return answer"
   ]
  },
  {
   "cell_type": "code",
   "execution_count": 654,
   "metadata": {
    "collapsed": false
   },
   "outputs": [
    {
     "data": {
      "text/plain": [
       "0.048971821411601744"
      ]
     },
     "execution_count": 654,
     "metadata": {},
     "output_type": "execute_result"
    }
   ],
   "source": [
    "math.exp(-3.0165102195221607)"
   ]
  },
  {
   "cell_type": "code",
   "execution_count": null,
   "metadata": {
    "collapsed": true
   },
   "outputs": [],
   "source": []
  }
 ],
 "metadata": {
  "anaconda-cloud": {},
  "kernelspec": {
   "display_name": "Python [Root]",
   "language": "python",
   "name": "Python [Root]"
  },
  "language_info": {
   "codemirror_mode": {
    "name": "ipython",
    "version": 3
   },
   "file_extension": ".py",
   "mimetype": "text/x-python",
   "name": "python",
   "nbconvert_exporter": "python",
   "pygments_lexer": "ipython3",
   "version": "3.5.2"
  }
 },
 "nbformat": 4,
 "nbformat_minor": 0
}
