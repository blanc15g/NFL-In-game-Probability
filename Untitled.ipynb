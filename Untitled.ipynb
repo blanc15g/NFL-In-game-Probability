{
 "cells": [
  {
   "cell_type": "code",
   "execution_count": 5,
   "metadata": {
    "collapsed": true
   },
   "outputs": [],
   "source": [
    "import csv\n",
    "import numpy as np\n",
    "import collections"
   ]
  },
  {
   "cell_type": "code",
   "execution_count": 3,
   "metadata": {
    "collapsed": true
   },
   "outputs": [],
   "source": [
    "data = []\n",
    "with open('lessplays.csv', 'r') as f:\n",
    "    reader = csv.DictReader(f)\n",
    "    for row in reader:\n",
    "        data.append(row)"
   ]
  },
  {
   "cell_type": "code",
   "execution_count": 7,
   "metadata": {
    "collapsed": false
   },
   "outputs": [],
   "source": [
    "grouped_by_game = collections.defaultdict(list)\n",
    "for line in data:\n",
    "    grouped_by_game[line['gameid']].append(line)\n",
    "grouped_by_game = list(grouped_by_game.values())"
   ]
  },
  {
   "cell_type": "code",
   "execution_count": 14,
   "metadata": {
    "collapsed": true
   },
   "outputs": [],
   "source": [
    "for game in grouped_by_game:\n",
    "    for play_dict in game:\n",
    "        for key in play_dict:\n",
    "            try:\n",
    "                play_dict[key] = int(play_dict[key])\n",
    "            except:\n",
    "                pass"
   ]
  },
  {
   "cell_type": "code",
   "execution_count": 18,
   "metadata": {
    "collapsed": false
   },
   "outputs": [],
   "source": [
    "def put_into_bucket(play_dict):\n",
    "    yard = play_dict['ydline'] // 10\n",
    "    down = play_dict['down']\n",
    "    if play_dict['togo'] <= 2:\n",
    "        togo = 0\n",
    "    elif play_dict['togo'] <= 4:\n",
    "        togo = 1\n",
    "    elif play_dict['togo'] <= 6:\n",
    "        togo = 2\n",
    "    elif play_dict['togo'] <= 8:\n",
    "        togo = 3\n",
    "    elif play_dict['togo'] <= 10:\n",
    "        togo = 4\n",
    "    elif play_dict['togo'] <= 15:\n",
    "        togo = 5\n",
    "    elif play_dict['togo'] <= 20:\n",
    "        togo = 6\n",
    "    else:\n",
    "        togo = 7\n",
    "    return (yard, down, togo)"
   ]
  },
  {
   "cell_type": "code",
   "execution_count": 19,
   "metadata": {
    "collapsed": false
   },
   "outputs": [
    {
     "data": {
      "text/plain": [
       "(7, 1, 4)"
      ]
     },
     "execution_count": 19,
     "metadata": {},
     "output_type": "execute_result"
    }
   ],
   "source": [
    "def is_valid(state):\n",
    "    if state[0] < 0 or state[0]"
   ]
  },
  {
   "cell_type": "code",
   "execution_count": 17,
   "metadata": {
    "collapsed": false
   },
   "outputs": [
    {
     "data": {
      "text/plain": [
       "{'def': 'Raiders',\n",
       " 'defscore': 0,\n",
       " 'down': 1,\n",
       " 'gameid': '12/2/02_JetsRaiders',\n",
       " 'off': 'Jets',\n",
       " 'offscore': 0,\n",
       " 'time': 3595,\n",
       " 'togo': 10,\n",
       " 'won_game': 0,\n",
       " 'ydline': 70}"
      ]
     },
     "execution_count": 17,
     "metadata": {},
     "output_type": "execute_result"
    }
   ],
   "source": [
    "grouped_by_game[0][0]"
   ]
  },
  {
   "cell_type": "code",
   "execution_count": null,
   "metadata": {
    "collapsed": true
   },
   "outputs": [],
   "source": []
  }
 ],
 "metadata": {
  "anaconda-cloud": {},
  "kernelspec": {
   "display_name": "Python [Root]",
   "language": "python",
   "name": "Python [Root]"
  },
  "language_info": {
   "codemirror_mode": {
    "name": "ipython",
    "version": 3
   },
   "file_extension": ".py",
   "mimetype": "text/x-python",
   "name": "python",
   "nbconvert_exporter": "python",
   "pygments_lexer": "ipython3",
   "version": "3.5.2"
  }
 },
 "nbformat": 4,
 "nbformat_minor": 0
}
