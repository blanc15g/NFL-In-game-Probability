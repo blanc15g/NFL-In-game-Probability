{
 "cells": [
  {
   "cell_type": "code",
   "execution_count": 64,
   "metadata": {
    "collapsed": false
   },
   "outputs": [],
   "source": [
    "import csv\n",
    "import collections\n",
    "import numpy as np"
   ]
  },
  {
   "cell_type": "code",
   "execution_count": 86,
   "metadata": {
    "collapsed": false
   },
   "outputs": [],
   "source": [
    "data_dict_extra_years = []\n",
    "with open('plays_sorted.csv', 'r') as csv_file:\n",
    "    reader = csv.DictReader(csv_file)\n",
    "    for line in enumerate(reader):\n",
    "        data_dict_extra_years.append(line[1])"
   ]
  },
  {
   "cell_type": "code",
   "execution_count": 66,
   "metadata": {
    "collapsed": false
   },
   "outputs": [],
   "source": [
    "mapper = {}\n",
    "mapper['ARI'] = 'Cardinals'\n",
    "mapper['ATL'] = 'Falcons'\n",
    "mapper['BAL'] = 'Ravens'\n",
    "mapper['BUF'] = 'Bills'\n",
    "mapper['CAR'] = 'Panthers'\n",
    "mapper['CHI'] = 'Bears'\n",
    "mapper['CIN'] = 'Bengals'\n",
    "mapper['CLE'] = 'Browns'\n",
    "mapper['DAL'] = 'Cowboys'\n",
    "mapper['DEN'] = 'Broncos'\n",
    "mapper['DET'] = 'Lions'\n",
    "mapper['GB'] = 'Packers'\n",
    "mapper['HOU'] = 'Texans'\n",
    "mapper['IND'] = 'Colts'\n",
    "mapper['JAC'] = 'Jaguars'\n",
    "mapper['KC'] = 'Chiefs'\n",
    "mapper['MIA'] = 'Dolphins'\n",
    "mapper['MIN'] = 'Vikings'\n",
    "mapper['NE'] = 'Patriots'\n",
    "mapper['NO'] = 'Saints'\n",
    "mapper['NYG'] = 'Giants'\n",
    "mapper['NYJ'] = 'Jets'\n",
    "mapper['OAK'] = 'Raiders'\n",
    "mapper['PHI'] = 'Eagles'\n",
    "mapper['PIT'] = 'Steelers'\n",
    "mapper['SD'] = 'Chargers'\n",
    "mapper['SEA'] = 'Seahawks'\n",
    "mapper['SF'] = '49ers'\n",
    "mapper['STL'] = 'Rams'\n",
    "mapper['TB'] = 'Buccaneers'\n",
    "mapper['TEN'] = 'Titans'\n",
    "mapper['WAS'] = 'Redskins'"
   ]
  },
  {
   "cell_type": "code",
   "execution_count": 87,
   "metadata": {
    "collapsed": false
   },
   "outputs": [],
   "source": [
    "data_dict = []\n",
    "for datum in data_dict_extra_years:\n",
    "    game_id = datum['gameid']\n",
    "    year_loc = game_id.rfind('/')+1\n",
    "    year = game_id[year_loc:year_loc+2]\n",
    "    \n",
    "    if year_loc==0:\n",
    "        date = (('%s/%s') %(int(game_id[4:6]), int(game_id[6:8]))) + '/' +game_id[2:4]\n",
    "        teamname_loc = game_id.rfind('_')+1\n",
    "        away_team = mapper[game_id[teamname_loc:game_id.rfind('@')]]\n",
    "        home_team = mapper[game_id[game_id.rfind('@')+1:]]\n",
    "        datum['gameid'] = date+'_'+away_team+home_team\n",
    "        data_dict.append(datum)\n",
    "    elif (year != '15' and year !='16'):\n",
    "        datum['gameid'] = game_id[:year_loc+2]+'_'+game_id[year_loc+2:]\n",
    "        data_dict.append(datum)\n",
    "        \n",
    "#removed 2015/2016 years\n",
    "#added underscore between date and teams"
   ]
  },
  {
   "cell_type": "code",
   "execution_count": 88,
   "metadata": {
    "collapsed": false
   },
   "outputs": [
    {
     "data": {
      "text/plain": [
       "{'def': 'Seahawks',\n",
       " 'defscore': '17',\n",
       " 'down': '2',\n",
       " 'gameid': '9/29/02_VikingsSeahawks',\n",
       " 'off': 'Vikings',\n",
       " 'offscore': '7',\n",
       " 'time': '2318',\n",
       " 'togo': '5',\n",
       " 'ydline': '52'}"
      ]
     },
     "execution_count": 88,
     "metadata": {},
     "output_type": "execute_result"
    }
   ],
   "source": [
    "data_dict[54313]"
   ]
  },
  {
   "cell_type": "code",
   "execution_count": 90,
   "metadata": {
    "collapsed": false
   },
   "outputs": [],
   "source": [
    "winners_dict = []\n",
    "for year in range(2002, 2015):\n",
    "    with open('nfl_results-master/nfl %s.csv' % year, 'r') as csv_file:\n",
    "        reader = csv.DictReader(csv_file)\n",
    "        for line in enumerate(reader):\n",
    "            winners_dict.append(line[1])"
   ]
  },
  {
   "cell_type": "code",
   "execution_count": 100,
   "metadata": {
    "collapsed": false
   },
   "outputs": [
    {
     "data": {
      "text/plain": [
       "{'home_score': '13',\n",
       " 'home_team': 'Giants',\n",
       " 'kickoff': '2002-09-05T00:00:00+00:00',\n",
       " 'season': '2002',\n",
       " 'visiting_team': '49ers',\n",
       " 'visitors_score': '16',\n",
       " 'week': '1'}"
      ]
     },
     "execution_count": 100,
     "metadata": {},
     "output_type": "execute_result"
    }
   ],
   "source": [
    "winners_dict[0]"
   ]
  },
  {
   "cell_type": "code",
   "execution_count": 113,
   "metadata": {
    "collapsed": true
   },
   "outputs": [],
   "source": [
    "winners = {}\n",
    "for game in winners_dict:\n",
    "    kickoff = game['kickoff']\n",
    "    date = ('%s/%s/' % (int(kickoff[5:7]), int(kickoff[8:10])))+kickoff[2:4]\n",
    "    gameid1 = date + '_'+ game['visiting_team'] + game['home_team']\n",
    "    winners[gameid1] = game['visiting_team'] if game['visitors_score'] > game['home_score'] else game['home_team']\n",
    "    gameid2 = date + '_' + game['home_team'] +game['visiting_team']\n",
    "    winners[gameid2] = game['visiting_team'] if game['visitors_score'] > game['home_score'] else game['home_team']"
   ]
  },
  {
   "cell_type": "code",
   "execution_count": 124,
   "metadata": {
    "collapsed": false
   },
   "outputs": [],
   "source": [
    "new_data_dict = []\n",
    "for datum in data_dict:\n",
    "    if datum['gameid'] in winners:\n",
    "        if (winners[datum['gameid']]==datum['off']):\n",
    "            datum['won_game'] = '1'\n",
    "        else:\n",
    "            datum['won_game'] = '0'\n",
    "        new_data_dict.append(datum)"
   ]
  },
  {
   "cell_type": "code",
   "execution_count": 125,
   "metadata": {
    "collapsed": true
   },
   "outputs": [],
   "source": [
    "headers = ['gameid', 'off', 'def', 'offscore', 'defscore', 'down', 'togo', 'ydline', 'time', 'won_game']"
   ]
  },
  {
   "cell_type": "code",
   "execution_count": 126,
   "metadata": {
    "collapsed": true
   },
   "outputs": [],
   "source": [
    "data = []\n",
    "for play in new_data_dict:\n",
    "    row = []\n",
    "    for feature in headers:\n",
    "        if play[feature]:\n",
    "            row.append(play[feature])\n",
    "    data.append(row)"
   ]
  },
  {
   "cell_type": "code",
   "execution_count": 127,
   "metadata": {
    "collapsed": false
   },
   "outputs": [],
   "source": [
    "with open('playsandwins.csv','w') as out:\n",
    "    writer = csv.writer(out)\n",
    "    writer.writerow(headers)\n",
    "    for line in data:\n",
    "        writer.writerow(line)"
   ]
  },
  {
   "cell_type": "code",
   "execution_count": null,
   "metadata": {
    "collapsed": true
   },
   "outputs": [],
   "source": []
  }
 ],
 "metadata": {
  "anaconda-cloud": {},
  "kernelspec": {
   "display_name": "Python [Root]",
   "language": "python",
   "name": "Python [Root]"
  },
  "language_info": {
   "codemirror_mode": {
    "name": "ipython",
    "version": 3
   },
   "file_extension": ".py",
   "mimetype": "text/x-python",
   "name": "python",
   "nbconvert_exporter": "python",
   "pygments_lexer": "ipython3",
   "version": "3.5.2"
  }
 },
 "nbformat": 4,
 "nbformat_minor": 1
}
